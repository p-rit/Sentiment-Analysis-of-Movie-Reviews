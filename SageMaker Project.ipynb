{
 "cells": [
  {
   "cell_type": "markdown",
   "metadata": {},
   "source": [
    "# Creating a Sentiment Analysis Web App\n",
    "## Using PyTorch and SageMaker\n",
    "\n",
    "_Deep Learning Nanodegree Program | Deployment_\n",
    "\n",
    "---\n",
    "\n",
    "Now that we have a basic understanding of how SageMaker works we will try to use it to construct a complete project from end to end. Our goal will be to have a simple web page which a user can use to enter a movie review. The web page will then send the review off to our deployed model which will predict the sentiment of the entered review.\n",
    "\n",
    "## Instructions\n",
    "\n",
    "Some template code has already been provided for you, and you will need to implement additional functionality to successfully complete this notebook. You will not need to modify the included code beyond what is requested. Sections that begin with '**TODO**' in the header indicate that you need to complete or implement some portion within them. Instructions will be provided for each section and the specifics of the implementation are marked in the code block with a `# TODO: ...` comment. Please be sure to read the instructions carefully!\n",
    "\n",
    "In addition to implementing code, there will be questions for you to answer which relate to the task and your implementation. Each section where you will answer a question is preceded by a '**Question:**' header. Carefully read each question and provide your answer below the '**Answer:**' header by editing the Markdown cell.\n",
    "\n",
    "> **Note**: Code and Markdown cells can be executed using the **Shift+Enter** keyboard shortcut. In addition, a cell can be edited by typically clicking it (double-click for Markdown cells) or by pressing **Enter** while it is highlighted.\n",
    "\n",
    "## General Outline\n",
    "\n",
    "Recall the general outline for SageMaker projects using a notebook instance.\n",
    "\n",
    "1. Download or otherwise retrieve the data.\n",
    "2. Process / Prepare the data.\n",
    "3. Upload the processed data to S3.\n",
    "4. Train a chosen model.\n",
    "5. Test the trained model (typically using a batch transform job).\n",
    "6. Deploy the trained model.\n",
    "7. Use the deployed model.\n",
    "\n",
    "For this project, you will be following the steps in the general outline with some modifications. \n",
    "\n",
    "First, you will not be testing the model in its own step. You will still be testing the model, however, you will do it by deploying your model and then using the deployed model by sending the test data to it. One of the reasons for doing this is so that you can make sure that your deployed model is working correctly before moving forward.\n",
    "\n",
    "In addition, you will deploy and use your trained model a second time. In the second iteration you will customize the way that your trained model is deployed by including some of your own code. In addition, your newly deployed model will be used in the sentiment analysis web app."
   ]
  },
  {
   "cell_type": "markdown",
   "metadata": {},
   "source": [
    "## Step 1: Downloading the data\n",
    "\n",
    "As in the XGBoost in SageMaker notebook, we will be using the [IMDb dataset](http://ai.stanford.edu/~amaas/data/sentiment/)\n",
    "\n",
    "> Maas, Andrew L., et al. [Learning Word Vectors for Sentiment Analysis](http://ai.stanford.edu/~amaas/data/sentiment/). In _Proceedings of the 49th Annual Meeting of the Association for Computational Linguistics: Human Language Technologies_. Association for Computational Linguistics, 2011."
   ]
  },
  {
   "cell_type": "code",
   "execution_count": 31,
   "metadata": {},
   "outputs": [
    {
     "name": "stdout",
     "output_type": "stream",
     "text": [
      "mkdir: cannot create directory ‘../data’: File exists\n",
      "--2019-04-13 06:24:58--  http://ai.stanford.edu/~amaas/data/sentiment/aclImdb_v1.tar.gz\n",
      "Resolving ai.stanford.edu (ai.stanford.edu)... 171.64.68.10\n",
      "Connecting to ai.stanford.edu (ai.stanford.edu)|171.64.68.10|:80... connected.\n",
      "HTTP request sent, awaiting response... 200 OK\n",
      "Length: 84125825 (80M) [application/x-gzip]\n",
      "Saving to: ‘../data/aclImdb_v1.tar.gz’\n",
      "\n",
      "../data/aclImdb_v1. 100%[===================>]  80.23M  5.99MB/s    in 18s     \n",
      "\n",
      "2019-04-13 06:25:17 (4.37 MB/s) - ‘../data/aclImdb_v1.tar.gz’ saved [84125825/84125825]\n",
      "\n"
     ]
    }
   ],
   "source": [
    "%mkdir ../data\n",
    "!wget -O ../data/aclImdb_v1.tar.gz http://ai.stanford.edu/~amaas/data/sentiment/aclImdb_v1.tar.gz\n",
    "!tar -zxf ../data/aclImdb_v1.tar.gz -C ../data"
   ]
  },
  {
   "cell_type": "markdown",
   "metadata": {},
   "source": [
    "## Step 2: Preparing and Processing the data\n",
    "\n",
    "Also, as in the XGBoost notebook, we will be doing some initial data processing. The first few steps are the same as in the XGBoost example. To begin with, we will read in each of the reviews and combine them into a single input structure. Then, we will split the dataset into a training set and a testing set."
   ]
  },
  {
   "cell_type": "code",
   "execution_count": 32,
   "metadata": {},
   "outputs": [],
   "source": [
    "import os\n",
    "import glob\n",
    "\n",
    "def read_imdb_data(data_dir='../data/aclImdb'):\n",
    "    data = {}\n",
    "    labels = {}\n",
    "    \n",
    "    for data_type in ['train', 'test']:\n",
    "        data[data_type] = {}\n",
    "        labels[data_type] = {}\n",
    "        \n",
    "        for sentiment in ['pos', 'neg']:\n",
    "            data[data_type][sentiment] = []\n",
    "            labels[data_type][sentiment] = []\n",
    "            \n",
    "            path = os.path.join(data_dir, data_type, sentiment, '*.txt')\n",
    "            files = glob.glob(path)\n",
    "            \n",
    "            for f in files:\n",
    "                with open(f) as review:\n",
    "                    data[data_type][sentiment].append(review.read())\n",
    "                    # Here we represent a positive review by '1' and a negative review by '0'\n",
    "                    labels[data_type][sentiment].append(1 if sentiment == 'pos' else 0)\n",
    "                    \n",
    "            assert len(data[data_type][sentiment]) == len(labels[data_type][sentiment]), \\\n",
    "                    \"{}/{} data size does not match labels size\".format(data_type, sentiment)\n",
    "                \n",
    "    return data, labels"
   ]
  },
  {
   "cell_type": "code",
   "execution_count": 33,
   "metadata": {},
   "outputs": [
    {
     "name": "stdout",
     "output_type": "stream",
     "text": [
      "IMDB reviews: train = 12500 pos / 12500 neg, test = 12500 pos / 12500 neg\n"
     ]
    }
   ],
   "source": [
    "data, labels = read_imdb_data()\n",
    "print(\"IMDB reviews: train = {} pos / {} neg, test = {} pos / {} neg\".format(\n",
    "            len(data['train']['pos']), len(data['train']['neg']),\n",
    "            len(data['test']['pos']), len(data['test']['neg'])))"
   ]
  },
  {
   "cell_type": "markdown",
   "metadata": {},
   "source": [
    "Now that we've read the raw training and testing data from the downloaded dataset, we will combine the positive and negative reviews and shuffle the resulting records."
   ]
  },
  {
   "cell_type": "code",
   "execution_count": 34,
   "metadata": {},
   "outputs": [],
   "source": [
    "from sklearn.utils import shuffle\n",
    "\n",
    "def prepare_imdb_data(data, labels):\n",
    "    \"\"\"Prepare training and test sets from IMDb movie reviews.\"\"\"\n",
    "    \n",
    "    #Combine positive and negative reviews and labels\n",
    "    data_train = data['train']['pos'] + data['train']['neg']\n",
    "    data_test = data['test']['pos'] + data['test']['neg']\n",
    "    labels_train = labels['train']['pos'] + labels['train']['neg']\n",
    "    labels_test = labels['test']['pos'] + labels['test']['neg']\n",
    "    \n",
    "    #Shuffle reviews and corresponding labels within training and test sets\n",
    "    data_train, labels_train = shuffle(data_train, labels_train)\n",
    "    data_test, labels_test = shuffle(data_test, labels_test)\n",
    "    \n",
    "    # Return a unified training data, test data, training labels, test labets\n",
    "    return data_train, data_test, labels_train, labels_test"
   ]
  },
  {
   "cell_type": "code",
   "execution_count": 35,
   "metadata": {},
   "outputs": [
    {
     "name": "stdout",
     "output_type": "stream",
     "text": [
      "IMDb reviews (combined): train = 25000, test = 25000\n"
     ]
    }
   ],
   "source": [
    "train_X, test_X, train_y, test_y = prepare_imdb_data(data, labels)\n",
    "print(\"IMDb reviews (combined): train = {}, test = {}\".format(len(train_X), len(test_X)))"
   ]
  },
  {
   "cell_type": "markdown",
   "metadata": {},
   "source": [
    "Now that we have our training and testing sets unified and prepared, we should do a quick check and see an example of the data our model will be trained on. This is generally a good idea as it allows you to see how each of the further processing steps affects the reviews and it also ensures that the data has been loaded correctly."
   ]
  },
  {
   "cell_type": "code",
   "execution_count": 36,
   "metadata": {},
   "outputs": [
    {
     "name": "stdout",
     "output_type": "stream",
     "text": [
      "I agree strongly with some of the other critics of this film. I found it incredibly silly (at best) and downright misleading, misinforming and harmful (at worst). Like others, I found this film to be an awful mix of \"real\" science and pseudoscientific, New Age propaganda. <br /><br />As a psychologist, I was especially offended by Candace Pert's contributions. True, I was not a fan of hers before this film, but her discourse on the \"consciousness\" of cells was one of the best examples of taking a term (\"consciousness\") that has a predictable meaning to most people and using it in such a distorted manner as to cause it to obscure rather than clarify. It is an old Orwellian mind-f**k that the master himself described so well in his superb essay \"Politics and the English Language.\" To refer to \"consciousness\" in this manner--indeed, to refer to this film as \"based in science\" in general (which is its clear intent)--is to use language in the same manner employed by Stalin when he labeled his slave-states \"democratic republics\" and Hitler when he called his party a \"socialist workers\" movement.<br /><br />I don't claim to really understand quantum physics. I know enough about it to know that to really understand it would take considerable study. Ah, but we Americans do love \"instant enlightenment,\" and that's what this mistake of a film tries to accomplish. If it ASKED questions, that would be one thing, but it clearly attempts to ask and ANSWER them, which no film could possibly do simply because we are far, far away from the answers (if they indeed exist).<br /><br />By the way, ethically this film needed a disclaimer about the association of several \"expert commentators\" with the Maharishi Mahesh Yogi (and TM), not to mention J.Z. Knight, who often speaks in her \"Ramtha\" voice. (I'm always amazed at this channeled 10,000 year-old Atlantean superman's grasp of 21st century concepts and terminology. But then again, this film argues that the past, present and future are all one and the same, so if Ramtha existed in Atlantis 10,000 years ago, I suppose he could exist now and tomorrow. Only, then how come his financial advice has been so incredibly bad for his followers? Oh, I forgot, I'm the creator of \"good\" and \"bad\" advice, so it's all my fault, not Ramtha's.)<br /><br />What a mess.\n",
      "0\n"
     ]
    }
   ],
   "source": [
    "print(train_X[100])\n",
    "print(train_y[100])"
   ]
  },
  {
   "cell_type": "markdown",
   "metadata": {},
   "source": [
    "The first step in processing the reviews is to make sure that any html tags that appear should be removed. In addition we wish to tokenize our input, that way words such as *entertained* and *entertaining* are considered the same with regard to sentiment analysis."
   ]
  },
  {
   "cell_type": "code",
   "execution_count": 37,
   "metadata": {},
   "outputs": [],
   "source": [
    "import nltk\n",
    "from nltk.corpus import stopwords\n",
    "from nltk.stem.porter import *\n",
    "\n",
    "import re\n",
    "from bs4 import BeautifulSoup\n",
    "\n",
    "def review_to_words(review):\n",
    "    nltk.download(\"stopwords\", quiet=True)\n",
    "    stemmer = PorterStemmer()\n",
    "    \n",
    "    text = BeautifulSoup(review, \"html.parser\").get_text() # Remove HTML tags\n",
    "    text = re.sub(r\"[^a-zA-Z0-9]\", \" \", text.lower()) # Convert to lower case\n",
    "    words = text.split() # Split string into words\n",
    "    words = [w for w in words if w not in stopwords.words(\"english\")] # Remove stopwords\n",
    "    words = [PorterStemmer().stem(w) for w in words] # stem\n",
    "    \n",
    "    return words"
   ]
  },
  {
   "cell_type": "markdown",
   "metadata": {},
   "source": [
    "The `review_to_words` method defined above uses `BeautifulSoup` to remove any html tags that appear and uses the `nltk` package to tokenize the reviews. As a check to ensure we know how everything is working, try applying `review_to_words` to one of the reviews in the training set."
   ]
  },
  {
   "cell_type": "code",
   "execution_count": 38,
   "metadata": {},
   "outputs": [
    {
     "name": "stdout",
     "output_type": "stream",
     "text": [
      "['agre', 'strongli', 'critic', 'film', 'found', 'incred', 'silli', 'best', 'downright', 'mislead', 'misinform', 'harm', 'worst', 'like', 'other', 'found', 'film', 'aw', 'mix', 'real', 'scienc', 'pseudoscientif', 'new', 'age', 'propaganda', 'psychologist', 'especi', 'offend', 'candac', 'pert', 'contribut', 'true', 'fan', 'film', 'discours', 'conscious', 'cell', 'one', 'best', 'exampl', 'take', 'term', 'conscious', 'predict', 'mean', 'peopl', 'use', 'distort', 'manner', 'caus', 'obscur', 'rather', 'clarifi', 'old', 'orwellian', 'mind', 'f', 'k', 'master', 'describ', 'well', 'superb', 'essay', 'polit', 'english', 'languag', 'refer', 'conscious', 'manner', 'inde', 'refer', 'film', 'base', 'scienc', 'gener', 'clear', 'intent', 'use', 'languag', 'manner', 'employ', 'stalin', 'label', 'slave', 'state', 'democrat', 'republ', 'hitler', 'call', 'parti', 'socialist', 'worker', 'movement', 'claim', 'realli', 'understand', 'quantum', 'physic', 'know', 'enough', 'know', 'realli', 'understand', 'would', 'take', 'consider', 'studi', 'ah', 'american', 'love', 'instant', 'enlighten', 'mistak', 'film', 'tri', 'accomplish', 'ask', 'question', 'would', 'one', 'thing', 'clearli', 'attempt', 'ask', 'answer', 'film', 'could', 'possibl', 'simpli', 'far', 'far', 'away', 'answer', 'inde', 'exist', 'way', 'ethic', 'film', 'need', 'disclaim', 'associ', 'sever', 'expert', 'comment', 'maharishi', 'mahesh', 'yogi', 'tm', 'mention', 'j', 'z', 'knight', 'often', 'speak', 'ramtha', 'voic', 'alway', 'amaz', 'channel', '10', '000', 'year', 'old', 'atlantean', 'superman', 'grasp', '21st', 'centuri', 'concept', 'terminolog', 'film', 'argu', 'past', 'present', 'futur', 'one', 'ramtha', 'exist', 'atlanti', '10', '000', 'year', 'ago', 'suppos', 'could', 'exist', 'tomorrow', 'come', 'financi', 'advic', 'incred', 'bad', 'follow', 'oh', 'forgot', 'creator', 'good', 'bad', 'advic', 'fault', 'ramtha', 'mess']\n"
     ]
    }
   ],
   "source": [
    "# TODO: Apply review_to_words to a review (train_X[100] or any other review)\n",
    "print(review_to_words(train_X[100]))"
   ]
  },
  {
   "cell_type": "markdown",
   "metadata": {},
   "source": [
    "**Question:** Above we mentioned that `review_to_words` method removes html formatting and allows us to tokenize the words found in a review, for example, converting *entertained* and *entertaining* into *entertain* so that they are treated as though they are the same word. What else, if anything, does this method do to the input?"
   ]
  },
  {
   "cell_type": "markdown",
   "metadata": {},
   "source": [
    "**Answer:** It is converting words into lower case along with stemmimg , moreover it is removing stop words from input."
   ]
  },
  {
   "cell_type": "markdown",
   "metadata": {},
   "source": [
    "The method below applies the `review_to_words` method to each of the reviews in the training and testing datasets. In addition it caches the results. This is because performing this processing step can take a long time. This way if you are unable to complete the notebook in the current session, you can come back without needing to process the data a second time."
   ]
  },
  {
   "cell_type": "code",
   "execution_count": 39,
   "metadata": {},
   "outputs": [],
   "source": [
    "import pickle\n",
    "\n",
    "cache_dir = os.path.join(\"../cache\", \"sentiment_analysis\")  # where to store cache files\n",
    "os.makedirs(cache_dir, exist_ok=True)  # ensure cache directory exists\n",
    "\n",
    "def preprocess_data(data_train, data_test, labels_train, labels_test,\n",
    "                    cache_dir=cache_dir, cache_file=\"preprocessed_data.pkl\"):\n",
    "    \"\"\"Convert each review to words; read from cache if available.\"\"\"\n",
    "\n",
    "    # If cache_file is not None, try to read from it first\n",
    "    cache_data = None\n",
    "    if cache_file is not None:\n",
    "        try:\n",
    "            with open(os.path.join(cache_dir, cache_file), \"rb\") as f:\n",
    "                cache_data = pickle.load(f)\n",
    "            print(\"Read preprocessed data from cache file:\", cache_file)\n",
    "        except:\n",
    "            pass  # unable to read from cache, but that's okay\n",
    "    \n",
    "    # If cache is missing, then do the heavy lifting\n",
    "    if cache_data is None:\n",
    "        # Preprocess training and test data to obtain words for each review\n",
    "        #words_train = list(map(review_to_words, data_train))\n",
    "        #words_test = list(map(review_to_words, data_test))\n",
    "        words_train = [review_to_words(review) for review in data_train]\n",
    "        words_test = [review_to_words(review) for review in data_test]\n",
    "        \n",
    "        # Write to cache file for future runs\n",
    "        if cache_file is not None:\n",
    "            cache_data = dict(words_train=words_train, words_test=words_test,\n",
    "                              labels_train=labels_train, labels_test=labels_test)\n",
    "            with open(os.path.join(cache_dir, cache_file), \"wb\") as f:\n",
    "                pickle.dump(cache_data, f)\n",
    "            print(\"Wrote preprocessed data to cache file:\", cache_file)\n",
    "    else:\n",
    "        # Unpack data loaded from cache file\n",
    "        words_train, words_test, labels_train, labels_test = (cache_data['words_train'],\n",
    "                cache_data['words_test'], cache_data['labels_train'], cache_data['labels_test'])\n",
    "    \n",
    "    return words_train, words_test, labels_train, labels_test"
   ]
  },
  {
   "cell_type": "code",
   "execution_count": 40,
   "metadata": {},
   "outputs": [
    {
     "name": "stdout",
     "output_type": "stream",
     "text": [
      "Read preprocessed data from cache file: preprocessed_data.pkl\n"
     ]
    }
   ],
   "source": [
    "# Preprocess data\n",
    "train_X, test_X, train_y, test_y = preprocess_data(train_X, test_X, train_y, test_y)"
   ]
  },
  {
   "cell_type": "markdown",
   "metadata": {},
   "source": [
    "## Transform the data\n",
    "\n",
    "In the XGBoost notebook we transformed the data from its word representation to a bag-of-words feature representation. For the model we are going to construct in this notebook we will construct a feature representation which is very similar. To start, we will represent each word as an integer. Of course, some of the words that appear in the reviews occur very infrequently and so likely don't contain much information for the purposes of sentiment analysis. The way we will deal with this problem is that we will fix the size of our working vocabulary and we will only include the words that appear most frequently. We will then combine all of the infrequent words into a single category and, in our case, we will label it as `1`.\n",
    "\n",
    "Since we will be using a recurrent neural network, it will be convenient if the length of each review is the same. To do this, we will fix a size for our reviews and then pad short reviews with the category 'no word' (which we will label `0`) and truncate long reviews."
   ]
  },
  {
   "cell_type": "markdown",
   "metadata": {},
   "source": [
    "### (TODO) Create a word dictionary\n",
    "\n",
    "To begin with, we need to construct a way to map words that appear in the reviews to integers. Here we fix the size of our vocabulary (including the 'no word' and 'infrequent' categories) to be `5000` but you may wish to change this to see how it affects the model.\n",
    "\n",
    "> **TODO:** Complete the implementation for the `build_dict()` method below. Note that even though the vocab_size is set to `5000`, we only want to construct a mapping for the most frequently appearing `4998` words. This is because we want to reserve the special labels `0` for 'no word' and `1` for 'infrequent word'."
   ]
  },
  {
   "cell_type": "code",
   "execution_count": 41,
   "metadata": {},
   "outputs": [],
   "source": [
    "import numpy as np\n",
    "\n",
    "def build_dict(data, vocab_size = 5000):\n",
    "    \"\"\"Construct and return a dictionary mapping each of the most frequently appearing words to a unique integer.\"\"\"\n",
    "    \n",
    "    # TODO: Determine how often each word appears in `data`. Note that `data` is a list of sentences and that a\n",
    "    #       sentence is a list of words.\n",
    "    word_count = {} # A dict storing the words that appear in the reviews along with how often they occur\n",
    "   \n",
    "    for sentence in data:\n",
    "        for word in sentence:\n",
    "            if word in word_count:\n",
    "                word_count[word] += 1\n",
    "            else:\n",
    "                word_count[word] = 1\n",
    "    \n",
    "    \n",
    "    # TODO: Sort the words found in `data` so that sorted_words[0] is the most frequently appearing word and\n",
    "    #       sorted_words[-1] is the least frequently appearing word.\n",
    "    \n",
    "     \n",
    "    sorted_words = [item[0] for item in sorted(word_count.items(), key=lambda x: x[1], reverse=True)]\n",
    "    \n",
    "    print(sorted_words[:6])\n",
    "    \n",
    "    word_dict = {} # This is what we are building, a dictionary that translates words into integers\n",
    "    for idx, word in enumerate(sorted_words[:vocab_size - 2]): # The -2 is so that we save room for the 'no word'\n",
    "        word_dict[word] = idx + 2                              # 'infrequent' labels\n",
    "        \n",
    "    return word_dict"
   ]
  },
  {
   "cell_type": "code",
   "execution_count": 42,
   "metadata": {},
   "outputs": [
    {
     "name": "stdout",
     "output_type": "stream",
     "text": [
      "['movi', 'film', 'one', 'like', 'time', 'good']\n",
      "{'movi': 2, 'film': 3, 'one': 4, 'like': 5, 'time': 6, 'good': 7, 'make': 8, 'charact': 9, 'get': 10, 'see': 11, 'watch': 12, 'stori': 13, 'even': 14, 'would': 15, 'realli': 16, 'well': 17, 'scene': 18, 'look': 19, 'show': 20, 'much': 21, 'end': 22, 'peopl': 23, 'bad': 24, 'go': 25, 'great': 26, 'also': 27, 'first': 28, 'love': 29, 'think': 30, 'way': 31, 'act': 32, 'play': 33, 'made': 34, 'thing': 35, 'could': 36, 'know': 37, 'say': 38, 'seem': 39, 'work': 40, 'plot': 41, 'two': 42, 'actor': 43, 'year': 44, 'come': 45, 'mani': 46, 'seen': 47, 'take': 48, 'want': 49, 'life': 50, 'never': 51, 'littl': 52, 'best': 53, 'tri': 54, 'man': 55, 'ever': 56, 'give': 57, 'better': 58, 'still': 59, 'perform': 60, 'find': 61, 'feel': 62, 'part': 63, 'back': 64, 'use': 65, 'someth': 66, 'director': 67, 'actual': 68, 'interest': 69, 'lot': 70, 'real': 71, 'old': 72, 'cast': 73, 'though': 74, 'live': 75, 'star': 76, 'enjoy': 77, 'guy': 78, 'anoth': 79, 'new': 80, 'role': 81, 'noth': 82, '10': 83, 'funni': 84, 'music': 85, 'point': 86, 'start': 87, 'set': 88, 'girl': 89, 'origin': 90, 'day': 91, 'world': 92, 'everi': 93, 'believ': 94, 'turn': 95, 'quit': 96, 'direct': 97, 'us': 98, 'thought': 99, 'fact': 100, 'minut': 101, 'horror': 102, 'kill': 103, 'action': 104, 'comedi': 105, 'pretti': 106, 'young': 107, 'wonder': 108, 'happen': 109, 'around': 110, 'got': 111, 'effect': 112, 'right': 113, 'long': 114, 'howev': 115, 'big': 116, 'line': 117, 'famili': 118, 'enough': 119, 'seri': 120, 'may': 121, 'need': 122, 'fan': 123, 'bit': 124, 'script': 125, 'beauti': 126, 'person': 127, 'becom': 128, 'without': 129, 'must': 130, 'alway': 131, 'friend': 132, 'tell': 133, 'reason': 134, 'saw': 135, 'last': 136, 'final': 137, 'kid': 138, 'almost': 139, 'put': 140, 'least': 141, 'sure': 142, 'done': 143, 'whole': 144, 'place': 145, 'complet': 146, 'kind': 147, 'expect': 148, 'differ': 149, 'shot': 150, 'far': 151, 'mean': 152, 'anyth': 153, 'book': 154, 'laugh': 155, 'might': 156, 'name': 157, 'sinc': 158, 'begin': 159, '2': 160, 'probabl': 161, 'woman': 162, 'help': 163, 'entertain': 164, 'let': 165, 'screen': 166, 'call': 167, 'tv': 168, 'moment': 169, 'away': 170, 'read': 171, 'yet': 172, 'rather': 173, 'worst': 174, 'run': 175, 'fun': 176, 'lead': 177, 'hard': 178, 'audienc': 179, 'idea': 180, 'anyon': 181, 'episod': 182, 'american': 183, 'found': 184, 'appear': 185, 'bore': 186, 'especi': 187, 'although': 188, 'hope': 189, 'cours': 190, 'keep': 191, 'anim': 192, 'job': 193, 'goe': 194, 'move': 195, 'sens': 196, 'dvd': 197, 'version': 198, 'war': 199, 'money': 200, 'someon': 201, 'mind': 202, 'mayb': 203, 'problem': 204, 'true': 205, 'hous': 206, 'everyth': 207, 'nice': 208, 'second': 209, 'rate': 210, 'three': 211, 'night': 212, 'face': 213, 'follow': 214, 'recommend': 215, 'main': 216, 'product': 217, 'worth': 218, 'leav': 219, 'human': 220, 'special': 221, 'excel': 222, 'togeth': 223, 'wast': 224, 'everyon': 225, 'sound': 226, 'john': 227, 'hand': 228, '1': 229, 'father': 230, 'later': 231, 'eye': 232, 'said': 233, 'view': 234, 'instead': 235, 'review': 236, 'boy': 237, 'high': 238, 'hour': 239, 'miss': 240, 'classic': 241, 'talk': 242, 'wife': 243, 'understand': 244, 'left': 245, 'care': 246, 'black': 247, 'death': 248, 'open': 249, 'murder': 250, 'write': 251, 'half': 252, 'head': 253, 'rememb': 254, 'chang': 255, 'viewer': 256, 'fight': 257, 'gener': 258, 'surpris': 259, 'short': 260, 'includ': 261, 'die': 262, 'fall': 263, 'less': 264, 'els': 265, 'entir': 266, 'piec': 267, 'involv': 268, 'pictur': 269, 'simpli': 270, 'top': 271, 'power': 272, 'home': 273, 'total': 274, 'usual': 275, 'budget': 276, 'attempt': 277, 'suppos': 278, 'releas': 279, 'hollywood': 280, 'terribl': 281, 'song': 282, 'men': 283, 'possibl': 284, 'featur': 285, 'portray': 286, 'disappoint': 287, 'poor': 288, '3': 289, 'coupl': 290, 'stupid': 291, 'camera': 292, 'dead': 293, 'wrong': 294, 'produc': 295, 'low': 296, 'video': 297, 'either': 298, 'aw': 299, 'definit': 300, 'except': 301, 'rest': 302, 'given': 303, 'absolut': 304, 'women': 305, 'lack': 306, 'word': 307, 'writer': 308, 'titl': 309, 'talent': 310, 'decid': 311, 'full': 312, 'perfect': 313, 'along': 314, 'style': 315, 'close': 316, 'truli': 317, 'school': 318, 'emot': 319, 'save': 320, 'age': 321, 'sex': 322, 'next': 323, 'bring': 324, 'mr': 325, 'case': 326, 'killer': 327, 'heart': 328, 'comment': 329, 'sort': 330, 'creat': 331, 'perhap': 332, 'came': 333, 'brother': 334, 'sever': 335, 'joke': 336, 'art': 337, 'dialogu': 338, 'game': 339, 'small': 340, 'base': 341, 'flick': 342, 'written': 343, 'sequenc': 344, 'meet': 345, 'earli': 346, 'often': 347, 'other': 348, 'mother': 349, 'develop': 350, 'humor': 351, 'actress': 352, 'consid': 353, 'dark': 354, 'guess': 355, 'amaz': 356, 'unfortun': 357, 'light': 358, 'lost': 359, 'exampl': 360, 'cinema': 361, 'drama': 362, 'white': 363, 'ye': 364, 'experi': 365, 'imagin': 366, 'mention': 367, 'stop': 368, 'natur': 369, 'forc': 370, 'manag': 371, 'felt': 372, 'present': 373, 'cut': 374, 'children': 375, 'fail': 376, 'son': 377, 'support': 378, 'car': 379, 'qualiti': 380, 'ask': 381, 'hit': 382, 'side': 383, 'voic': 384, 'extrem': 385, 'impress': 386, 'wors': 387, 'evil': 388, 'went': 389, 'stand': 390, 'certainli': 391, 'basic': 392, 'oh': 393, 'overal': 394, 'favorit': 395, 'horribl': 396, 'mysteri': 397, 'number': 398, 'type': 399, 'danc': 400, 'wait': 401, 'hero': 402, '5': 403, 'alreadi': 404, 'learn': 405, 'matter': 406, '4': 407, 'michael': 408, 'genr': 409, 'fine': 410, 'despit': 411, 'throughout': 412, 'walk': 413, 'success': 414, 'histori': 415, 'question': 416, 'zombi': 417, 'town': 418, 'realiz': 419, 'relationship': 420, 'past': 421, 'child': 422, 'daughter': 423, 'late': 424, 'b': 425, 'wish': 426, 'hate': 427, 'credit': 428, 'event': 429, 'theme': 430, 'touch': 431, 'citi': 432, 'today': 433, 'sometim': 434, 'behind': 435, 'god': 436, 'twist': 437, 'sit': 438, 'annoy': 439, 'stay': 440, 'deal': 441, 'abl': 442, 'rent': 443, 'pleas': 444, 'edit': 445, 'blood': 446, 'deserv': 447, 'comic': 448, 'anyway': 449, 'appar': 450, 'soon': 451, 'gave': 452, 'etc': 453, 'level': 454, 'slow': 455, 'chanc': 456, 'score': 457, 'bodi': 458, 'brilliant': 459, 'incred': 460, 'figur': 461, 'situat': 462, 'major': 463, 'self': 464, 'stuff': 465, 'decent': 466, 'element': 467, 'return': 468, 'dream': 469, 'obvious': 470, 'order': 471, 'continu': 472, 'pace': 473, 'ridicul': 474, 'happi': 475, 'group': 476, 'highli': 477, 'add': 478, 'thank': 479, 'ladi': 480, 'novel': 481, 'speak': 482, 'pain': 483, 'career': 484, 'shoot': 485, 'strang': 486, 'heard': 487, 'sad': 488, 'husband': 489, 'polic': 490, 'import': 491, 'break': 492, 'took': 493, 'strong': 494, 'cannot': 495, 'robert': 496, 'predict': 497, 'violenc': 498, 'hilari': 499, 'recent': 500, 'countri': 501, 'known': 502, 'particularli': 503, 'pick': 504, 'documentari': 505, 'season': 506, 'critic': 507, 'jame': 508, 'compar': 509, 'alon': 510, 'obviou': 511, 'told': 512, 'state': 513, 'rock': 514, 'visual': 515, 'exist': 516, 'theater': 517, 'offer': 518, 'opinion': 519, 'gore': 520, 'hold': 521, 'crap': 522, 'result': 523, 'realiti': 524, 'room': 525, 'hear': 526, 'effort': 527, 'clich': 528, 'thriller': 529, 'caus': 530, 'sequel': 531, 'explain': 532, 'serious': 533, 'king': 534, 'local': 535, 'ago': 536, 'hell': 537, 'none': 538, 'note': 539, 'allow': 540, 'sister': 541, 'david': 542, 'simpl': 543, 'femal': 544, 'deliv': 545, 'ok': 546, 'convinc': 547, 'class': 548, 'check': 549, 'suspens': 550, 'win': 551, 'oscar': 552, 'buy': 553, 'huge': 554, 'valu': 555, 'sexual': 556, 'scari': 557, 'cool': 558, 'excit': 559, 'similar': 560, 'exactli': 561, 'apart': 562, 'provid': 563, 'avoid': 564, 'shown': 565, 'seriou': 566, 'english': 567, 'whose': 568, 'taken': 569, 'cinematographi': 570, 'shock': 571, 'polit': 572, 'spoiler': 573, 'offic': 574, 'across': 575, 'middl': 576, 'street': 577, 'pass': 578, 'messag': 579, 'charm': 580, 'somewhat': 581, 'silli': 582, 'modern': 583, 'filmmak': 584, 'confus': 585, 'form': 586, 'tale': 587, 'singl': 588, 'jack': 589, 'mostli': 590, 'attent': 591, 'carri': 592, 'william': 593, 'sing': 594, 'subject': 595, 'five': 596, 'richard': 597, 'prove': 598, 'team': 599, 'stage': 600, 'unlik': 601, 'cop': 602, 'georg': 603, 'televis': 604, 'monster': 605, 'earth': 606, 'villain': 607, 'cover': 608, 'pay': 609, 'marri': 610, 'toward': 611, 'build': 612, 'parent': 613, 'pull': 614, 'due': 615, 'fill': 616, 'respect': 617, 'four': 618, 'dialog': 619, 'remind': 620, 'futur': 621, 'weak': 622, 'typic': 623, '7': 624, 'cheap': 625, 'intellig': 626, 'british': 627, 'atmospher': 628, 'clearli': 629, '80': 630, 'non': 631, 'dog': 632, 'paul': 633, 'knew': 634, '8': 635, 'artist': 636, 'fast': 637, 'crime': 638, 'easili': 639, 'escap': 640, 'adult': 641, 'doubt': 642, 'detail': 643, 'date': 644, 'romant': 645, 'fire': 646, 'member': 647, 'gun': 648, 'drive': 649, 'straight': 650, 'fit': 651, 'beyond': 652, 'attack': 653, 'imag': 654, 'upon': 655, 'posit': 656, 'whether': 657, 'peter': 658, 'fantast': 659, 'captur': 660, 'aspect': 661, 'appreci': 662, 'ten': 663, 'plan': 664, 'discov': 665, 'remain': 666, 'period': 667, 'near': 668, 'realist': 669, 'air': 670, 'mark': 671, 'red': 672, 'dull': 673, 'adapt': 674, 'within': 675, 'lose': 676, 'spend': 677, 'color': 678, 'materi': 679, 'chase': 680, 'mari': 681, 'storylin': 682, 'forget': 683, 'bunch': 684, 'clear': 685, 'lee': 686, 'victim': 687, 'nearli': 688, 'box': 689, 'york': 690, 'inspir': 691, 'match': 692, 'mess': 693, 'finish': 694, 'standard': 695, 'easi': 696, 'truth': 697, 'busi': 698, 'suffer': 699, 'bill': 700, 'space': 701, 'dramat': 702, 'western': 703, 'e': 704, 'list': 705, 'battl': 706, 'notic': 707, 'de': 708, 'french': 709, 'ad': 710, '9': 711, 'tom': 712, 'larg': 713, 'among': 714, 'eventu': 715, 'accept': 716, 'train': 717, 'agre': 718, 'spirit': 719, 'soundtrack': 720, 'third': 721, 'teenag': 722, 'adventur': 723, 'soldier': 724, 'suggest': 725, 'famou': 726, 'drug': 727, 'sorri': 728, 'cri': 729, 'normal': 730, 'babi': 731, 'ultim': 732, 'troubl': 733, 'contain': 734, 'certain': 735, 'cultur': 736, 'romanc': 737, 'rare': 738, 'lame': 739, 'somehow': 740, 'mix': 741, 'disney': 742, 'gone': 743, 'cartoon': 744, 'student': 745, 'fear': 746, 'reveal': 747, 'kept': 748, 'suck': 749, 'attract': 750, 'appeal': 751, 'premis': 752, 'design': 753, 'secret': 754, 'greatest': 755, 'shame': 756, 'throw': 757, 'copi': 758, 'scare': 759, 'wit': 760, 'admit': 761, 'america': 762, 'relat': 763, 'brought': 764, 'particular': 765, 'screenplay': 766, 'whatev': 767, 'pure': 768, '70': 769, 'averag': 770, 'harri': 771, 'master': 772, 'describ': 773, 'male': 774, 'treat': 775, '20': 776, 'issu': 777, 'fantasi': 778, 'warn': 779, 'inde': 780, 'forward': 781, 'background': 782, 'free': 783, 'project': 784, 'memor': 785, 'japanes': 786, 'poorli': 787, 'award': 788, 'locat': 789, 'potenti': 790, 'amus': 791, 'struggl': 792, 'magic': 793, 'weird': 794, 'societi': 795, 'okay': 796, 'imdb': 797, 'accent': 798, 'doctor': 799, 'water': 800, 'hot': 801, 'express': 802, 'dr': 803, 'alien': 804, '30': 805, 'odd': 806, 'crazi': 807, 'choic': 808, 'studio': 809, 'fiction': 810, 'becam': 811, 'control': 812, 'masterpiec': 813, 'fli': 814, 'difficult': 815, 'joe': 816, 'scream': 817, 'costum': 818, 'lover': 819, 'refer': 820, 'uniqu': 821, 'remak': 822, 'girlfriend': 823, 'vampir': 824, 'prison': 825, 'execut': 826, 'wear': 827, 'jump': 828, 'wood': 829, 'unless': 830, 'creepi': 831, 'cheesi': 832, 'superb': 833, 'otherwis': 834, 'parti': 835, 'roll': 836, 'ghost': 837, 'public': 838, 'mad': 839, 'depict': 840, 'jane': 841, 'week': 842, 'moral': 843, 'earlier': 844, 'badli': 845, 'dumb': 846, 'fi': 847, 'flaw': 848, 'grow': 849, 'sci': 850, 'deep': 851, 'cat': 852, 'maker': 853, 'footag': 854, 'older': 855, 'connect': 856, 'plenti': 857, 'bother': 858, 'outsid': 859, 'stick': 860, 'gay': 861, 'catch': 862, 'plu': 863, 'co': 864, 'popular': 865, 'equal': 866, 'social': 867, 'quickli': 868, 'disturb': 869, 'perfectli': 870, 'dress': 871, 'era': 872, '90': 873, 'mistak': 874, 'lie': 875, 'ride': 876, 'previou': 877, 'combin': 878, 'concept': 879, 'band': 880, 'rich': 881, 'answer': 882, 'surviv': 883, 'front': 884, 'sweet': 885, 'christma': 886, 'insid': 887, 'bare': 888, 'concern': 889, 'eat': 890, 'listen': 891, 'beat': 892, 'ben': 893, 'c': 894, 'serv': 895, 'term': 896, 'german': 897, 'meant': 898, 'la': 899, 'stereotyp': 900, 'hardli': 901, 'law': 902, 'innoc': 903, 'desper': 904, 'memori': 905, 'promis': 906, 'intent': 907, 'cute': 908, 'steal': 909, 'variou': 910, 'inform': 911, 'brain': 912, 'post': 913, 'tone': 914, 'island': 915, 'amount': 916, 'nuditi': 917, 'compani': 918, 'track': 919, 'store': 920, 'claim': 921, 'flat': 922, '50': 923, 'hair': 924, 'land': 925, 'univers': 926, 'kick': 927, 'scott': 928, 'fairli': 929, 'danger': 930, 'player': 931, 'crew': 932, 'step': 933, 'plain': 934, 'toni': 935, 'share': 936, 'tast': 937, 'centuri': 938, 'achiev': 939, 'engag': 940, 'travel': 941, 'cold': 942, 'record': 943, 'rip': 944, 'suit': 945, 'sadli': 946, 'manner': 947, 'tension': 948, 'spot': 949, 'wrote': 950, 'fascin': 951, 'intens': 952, 'familiar': 953, 'burn': 954, 'depth': 955, 'remark': 956, 'histor': 957, 'destroy': 958, 'sleep': 959, 'purpos': 960, 'languag': 961, 'ignor': 962, 'ruin': 963, 'delight': 964, 'unbeliev': 965, 'italian': 966, 'abil': 967, 'collect': 968, 'soul': 969, 'detect': 970, 'clever': 971, 'violent': 972, 'rape': 973, 'reach': 974, 'door': 975, 'liter': 976, 'trash': 977, 'scienc': 978, 'commun': 979, 'reveng': 980, 'caught': 981, 'creatur': 982, 'trip': 983, 'approach': 984, 'fashion': 985, 'intrigu': 986, 'introduc': 987, 'skill': 988, 'paint': 989, 'complex': 990, 'channel': 991, 'camp': 992, 'christian': 993, 'extra': 994, 'hole': 995, 'limit': 996, 'ann': 997, 'immedi': 998, 'mental': 999, 'slightli': 1000, 'million': 1001, 'mere': 1002, 'comput': 1003, '6': 1004, 'slasher': 1005, 'conclus': 1006, 'suddenli': 1007, 'imposs': 1008, 'crimin': 1009, 'neither': 1010, 'teen': 1011, 'spent': 1012, 'nation': 1013, 'physic': 1014, 'respons': 1015, 'planet': 1016, 'fake': 1017, 'receiv': 1018, 'sick': 1019, 'blue': 1020, 'bizarr': 1021, 'embarrass': 1022, 'indian': 1023, 'ring': 1024, '15': 1025, 'pop': 1026, 'drop': 1027, 'drag': 1028, 'haunt': 1029, 'pointless': 1030, 'suspect': 1031, 'search': 1032, 'edg': 1033, 'handl': 1034, 'common': 1035, 'biggest': 1036, 'faith': 1037, 'arriv': 1038, 'hurt': 1039, 'technic': 1040, 'angel': 1041, 'dad': 1042, 'genuin': 1043, 'solid': 1044, 'awesom': 1045, 'f': 1046, 'colleg': 1047, 'focu': 1048, 'former': 1049, 'van': 1050, 'count': 1051, 'tear': 1052, 'heavi': 1053, 'rais': 1054, 'wall': 1055, 'younger': 1056, 'laughabl': 1057, 'visit': 1058, 'fair': 1059, 'excus': 1060, 'sign': 1061, 'cult': 1062, 'tough': 1063, 'key': 1064, 'motion': 1065, 'desir': 1066, 'super': 1067, 'stun': 1068, 'addit': 1069, 'cloth': 1070, 'exploit': 1071, 'smith': 1072, 'tortur': 1073, 'race': 1074, 'davi': 1075, 'author': 1076, 'cross': 1077, 'jim': 1078, 'focus': 1079, 'consist': 1080, 'minor': 1081, 'compel': 1082, 'chemistri': 1083, 'pathet': 1084, 'commit': 1085, 'park': 1086, 'obsess': 1087, 'tradit': 1088, 'frank': 1089, 'grade': 1090, '60': 1091, 'asid': 1092, 'brutal': 1093, 'somewher': 1094, 'steve': 1095, 'opportun': 1096, 'grant': 1097, 'explor': 1098, 'rule': 1099, 'u': 1100, 'depress': 1101, 'honest': 1102, 'besid': 1103, 'dub': 1104, 'anti': 1105, 'intend': 1106, 'trailer': 1107, 'bar': 1108, 'west': 1109, 'regard': 1110, 'longer': 1111, 'scientist': 1112, 'decad': 1113, 'judg': 1114, 'silent': 1115, 'armi': 1116, 'creativ': 1117, 'wild': 1118, 'g': 1119, 'stewart': 1120, 'south': 1121, 'draw': 1122, 'road': 1123, 'govern': 1124, 'boss': 1125, 'ex': 1126, 'practic': 1127, 'gang': 1128, 'motiv': 1129, 'surprisingli': 1130, 'club': 1131, 'festiv': 1132, 'redeem': 1133, 'page': 1134, 'green': 1135, 'london': 1136, 'display': 1137, 'idiot': 1138, 'aliv': 1139, 'machin': 1140, 'militari': 1141, 'thrill': 1142, 'repeat': 1143, 'folk': 1144, 'nobodi': 1145, 'yeah': 1146, '100': 1147, '40': 1148, 'garbag': 1149, 'journey': 1150, 'smile': 1151, 'ground': 1152, 'tire': 1153, 'bought': 1154, 'mood': 1155, 'stone': 1156, 'sam': 1157, 'cost': 1158, 'mouth': 1159, 'noir': 1160, 'terrif': 1161, 'agent': 1162, 'utterli': 1163, 'requir': 1164, 'area': 1165, 'sexi': 1166, 'honestli': 1167, 'report': 1168, 'geniu': 1169, 'humour': 1170, 'glad': 1171, 'investig': 1172, 'enter': 1173, 'serial': 1174, 'narr': 1175, 'occasion': 1176, 'passion': 1177, 'marriag': 1178, 'climax': 1179, 'industri': 1180, 'studi': 1181, 'charli': 1182, 'nowher': 1183, 'center': 1184, 'demon': 1185, 'ship': 1186, 'bear': 1187, 'hors': 1188, 'loos': 1189, 'wow': 1190, 'hang': 1191, 'graphic': 1192, 'admir': 1193, 'giant': 1194, 'send': 1195, 'damn': 1196, 'loud': 1197, 'subtl': 1198, 'nake': 1199, 'profession': 1200, 'rel': 1201, 'blow': 1202, 'bottom': 1203, 'batman': 1204, 'insult': 1205, 'boyfriend': 1206, 'kelli': 1207, 'r': 1208, 'doubl': 1209, 'initi': 1210, 'frame': 1211, 'gem': 1212, 'opera': 1213, 'drawn': 1214, 'cinemat': 1215, 'affect': 1216, 'challeng': 1217, 'church': 1218, 'l': 1219, 'evid': 1220, 'nightmar': 1221, 'j': 1222, 'fulli': 1223, 'seek': 1224, 'essenti': 1225, 'arm': 1226, 'conflict': 1227, 'grace': 1228, 'christoph': 1229, 'wind': 1230, 'henri': 1231, 'witch': 1232, 'narrat': 1233, 'assum': 1234, 'push': 1235, 'hunt': 1236, 'chri': 1237, 'wise': 1238, 'repres': 1239, 'month': 1240, 'nomin': 1241, 'sceneri': 1242, 'affair': 1243, 'avail': 1244, 'hide': 1245, 'justic': 1246, 'thu': 1247, 'smart': 1248, 'bond': 1249, 'outstand': 1250, 'interview': 1251, 'flashback': 1252, 'presenc': 1253, 'satisfi': 1254, 'constantli': 1255, 'bed': 1256, 'central': 1257, 'sell': 1258, 'iron': 1259, 'content': 1260, 'gag': 1261, 'everybodi': 1262, 'slowli': 1263, 'hotel': 1264, 'hire': 1265, 'system': 1266, 'thrown': 1267, 'individu': 1268, 'adam': 1269, 'hey': 1270, 'charl': 1271, 'jone': 1272, 'allen': 1273, 'mediocr': 1274, 'lesson': 1275, 'ray': 1276, 'billi': 1277, 'cameo': 1278, 'photographi': 1279, 'pari': 1280, 'fellow': 1281, 'strike': 1282, 'rise': 1283, 'independ': 1284, 'brief': 1285, 'absurd': 1286, 'neg': 1287, 'phone': 1288, 'impact': 1289, 'born': 1290, 'model': 1291, 'ill': 1292, 'spoil': 1293, 'angl': 1294, 'fresh': 1295, 'likabl': 1296, 'abus': 1297, 'hill': 1298, 'discuss': 1299, 'sight': 1300, 'ahead': 1301, 'sent': 1302, 'photograph': 1303, 'occur': 1304, 'shine': 1305, 'blame': 1306, 'logic': 1307, 'bruce': 1308, 'mainli': 1309, 'skip': 1310, 'forev': 1311, 'commerci': 1312, 'surround': 1313, 'held': 1314, 'segment': 1315, 'teacher': 1316, 'blond': 1317, 'zero': 1318, 'trap': 1319, 'resembl': 1320, 'summer': 1321, 'satir': 1322, 'queen': 1323, 'fool': 1324, 'six': 1325, 'ball': 1326, 'twice': 1327, 'sub': 1328, 'tragedi': 1329, 'reaction': 1330, 'pack': 1331, 'bomb': 1332, 'hospit': 1333, 'protagonist': 1334, 'will': 1335, 'sport': 1336, 'mile': 1337, 'vote': 1338, 'trust': 1339, 'jerri': 1340, 'mom': 1341, 'drink': 1342, 'encount': 1343, 'plane': 1344, 'station': 1345, 'current': 1346, 'al': 1347, 'program': 1348, 'celebr': 1349, 'martin': 1350, 'choos': 1351, 'join': 1352, 'field': 1353, 'tragic': 1354, 'round': 1355, 'lord': 1356, 'favourit': 1357, 'jean': 1358, 'vision': 1359, 'robot': 1360, 'arthur': 1361, 'tie': 1362, 'fortun': 1363, 'random': 1364, 'roger': 1365, 'intern': 1366, 'psycholog': 1367, 'dread': 1368, 'improv': 1369, 'epic': 1370, 'nonsens': 1371, 'prefer': 1372, 'legend': 1373, 'formula': 1374, 'pleasur': 1375, 'highlight': 1376, 'dollar': 1377, '11': 1378, 'tape': 1379, 'fox': 1380, 'thin': 1381, 'object': 1382, 'gorgeou': 1383, 'wide': 1384, 'porn': 1385, 'buddi': 1386, 'influenc': 1387, 'ugli': 1388, 'ii': 1389, 'prepar': 1390, 'nasti': 1391, 'supposedli': 1392, 'reflect': 1393, 'progress': 1394, 'warm': 1395, 'worthi': 1396, 'youth': 1397, 'latter': 1398, 'length': 1399, 'unusu': 1400, 'crash': 1401, 'childhood': 1402, 'shop': 1403, 'superior': 1404, 'seven': 1405, 'remot': 1406, 'theatr': 1407, 'funniest': 1408, 'disgust': 1409, 'pilot': 1410, 'paid': 1411, 'trick': 1412, 'castl': 1413, 'convers': 1414, 'fell': 1415, 'establish': 1416, 'rob': 1417, 'disast': 1418, 'gangster': 1419, 'ident': 1420, 'suicid': 1421, 'mine': 1422, 'heaven': 1423, 'disappear': 1424, 'heroin': 1425, 'decis': 1426, 'tend': 1427, 'mask': 1428, 'forgotten': 1429, 'singer': 1430, 'brian': 1431, 'partner': 1432, 'alan': 1433, 'desert': 1434, 'recogn': 1435, 'p': 1436, 'sky': 1437, 'thoroughli': 1438, 'stuck': 1439, 'ms': 1440, 'replac': 1441, 'accur': 1442, 'market': 1443, 'commentari': 1444, 'danni': 1445, 'clue': 1446, 'seemingli': 1447, 'uncl': 1448, 'eddi': 1449, 'andi': 1450, 'devil': 1451, 'jackson': 1452, 'pair': 1453, 'refus': 1454, 'that': 1455, 'therefor': 1456, 'accid': 1457, 'unit': 1458, 'river': 1459, 'fate': 1460, 'ed': 1461, 'fault': 1462, 'afraid': 1463, 'tune': 1464, 'stephen': 1465, 'clean': 1466, 'hidden': 1467, 'russian': 1468, 'convey': 1469, 'quick': 1470, 'test': 1471, 'instanc': 1472, 'captain': 1473, 'readi': 1474, 'irrit': 1475, 'european': 1476, 'frustrat': 1477, 'insan': 1478, 'daniel': 1479, 'food': 1480, 'wed': 1481, 'chines': 1482, 'rescu': 1483, '1950': 1484, 'dirti': 1485, 'lock': 1486, 'angri': 1487, 'joy': 1488, 'price': 1489, 'steven': 1490, 'bland': 1491, 'cage': 1492, 'anymor': 1493, 'rang': 1494, 'wooden': 1495, 'n': 1496, 'rush': 1497, 'jason': 1498, 'news': 1499, 'board': 1500, 'twenti': 1501, 'worri': 1502, '12': 1503, 'led': 1504, 'martial': 1505, 'transform': 1506, 'hunter': 1507, 'cgi': 1508, 'symbol': 1509, 'onto': 1510, 'invent': 1511, 'johnni': 1512, 'sentiment': 1513, 'x': 1514, 'piti': 1515, 'process': 1516, 'explan': 1517, 'attitud': 1518, 'owner': 1519, 'awar': 1520, 'aim': 1521, 'favor': 1522, 'floor': 1523, 'energi': 1524, 'target': 1525, 'necessari': 1526, 'opposit': 1527, 'religi': 1528, 'insight': 1529, 'window': 1530, 'blind': 1531, 'chick': 1532, 'movement': 1533, 'deepli': 1534, 'research': 1535, 'possess': 1536, 'comparison': 1537, 'mountain': 1538, 'comed': 1539, 'rain': 1540, 'grand': 1541, 'whatsoev': 1542, 'mid': 1543, 'shadow': 1544, 'began': 1545, 'bank': 1546, 'princ': 1547, 'parodi': 1548, 'pre': 1549, 'weapon': 1550, 'credibl': 1551, 'friendship': 1552, 'taylor': 1553, 'dougla': 1554, 'flesh': 1555, 'teach': 1556, 'hint': 1557, 'bloodi': 1558, 'protect': 1559, 'terror': 1560, 'marvel': 1561, 'leader': 1562, 'watchabl': 1563, 'drunk': 1564, 'accord': 1565, 'anybodi': 1566, 'load': 1567, 'superman': 1568, 'brown': 1569, 'freddi': 1570, 'jeff': 1571, 'tim': 1572, 'appropri': 1573, 'seat': 1574, 'hitler': 1575, 'charg': 1576, 'knock': 1577, 'keaton': 1578, 'villag': 1579, 'unknown': 1580, 'unnecessari': 1581, 'england': 1582, 'empti': 1583, 'enemi': 1584, 'media': 1585, 'craft': 1586, 'utter': 1587, 'strength': 1588, 'buck': 1589, 'perspect': 1590, 'wave': 1591, 'dare': 1592, 'kiss': 1593, 'contrast': 1594, 'ford': 1595, 'correct': 1596, 'nativ': 1597, 'knowledg': 1598, 'chill': 1599, 'anywher': 1600, 'soap': 1601, 'magnific': 1602, 'speed': 1603, 'nazi': 1604, 'distract': 1605, 'mission': 1606, 'breath': 1607, '1980': 1608, 'ice': 1609, 'fred': 1610, 'moon': 1611, 'joan': 1612, 'jr': 1613, 'crowd': 1614, 'soft': 1615, '000': 1616, 'frighten': 1617, 'kate': 1618, 'dick': 1619, 'dan': 1620, 'hundr': 1621, 'nick': 1622, 'simon': 1623, 'radio': 1624, 'dozen': 1625, 'somebodi': 1626, 'academi': 1627, 'shakespear': 1628, 'loss': 1629, 'andrew': 1630, 'thousand': 1631, 'vehicl': 1632, 'account': 1633, 'quot': 1634, 'sum': 1635, 'root': 1636, 'convent': 1637, 'leg': 1638, '1970': 1639, 'behavior': 1640, 'gold': 1641, 'regular': 1642, 'pretenti': 1643, 'demand': 1644, 'compet': 1645, 'worker': 1646, 'candi': 1647, 'interpret': 1648, 'japan': 1649, 'stretch': 1650, 'privat': 1651, 'explos': 1652, 'lynch': 1653, 'notabl': 1654, 'constant': 1655, 'debut': 1656, 'tarzan': 1657, 'spi': 1658, 'translat': 1659, 'prais': 1660, 'sea': 1661, 'revolv': 1662, 'franc': 1663, 'sat': 1664, 'threaten': 1665, 'quiet': 1666, 'ass': 1667, 'technolog': 1668, 'jesu': 1669, 'failur': 1670, 'toy': 1671, 'met': 1672, 'aid': 1673, 'kevin': 1674, 'punch': 1675, 'higher': 1676, 'interact': 1677, 'mike': 1678, 'abandon': 1679, 'vh': 1680, 'separ': 1681, 'confront': 1682, 'bet': 1683, 'command': 1684, 'gotten': 1685, 'stunt': 1686, 'servic': 1687, 'belong': 1688, 'site': 1689, 'techniqu': 1690, 'recal': 1691, 'cabl': 1692, 'foot': 1693, 'freak': 1694, 'bug': 1695, 'bright': 1696, 'capabl': 1697, 'african': 1698, 'fu': 1699, 'jimmi': 1700, 'stock': 1701, 'clark': 1702, 'fat': 1703, 'presid': 1704, 'boat': 1705, 'succeed': 1706, 'gene': 1707, 'structur': 1708, 'spanish': 1709, 'kidnap': 1710, 'paper': 1711, 'whilst': 1712, 'factor': 1713, 'belief': 1714, 'educ': 1715, 'realis': 1716, 'complic': 1717, 'witti': 1718, 'realism': 1719, 'attend': 1720, 'tree': 1721, 'bob': 1722, 'assist': 1723, 'broken': 1724, 'finest': 1725, 'santa': 1726, 'observ': 1727, 'determin': 1728, 'up': 1729, 'smoke': 1730, 'depart': 1731, 'v': 1732, 'routin': 1733, 'fame': 1734, 'domin': 1735, 'hat': 1736, 'oper': 1737, 'rubbish': 1738, 'lewi': 1739, 'advanc': 1740, 'hook': 1741, 'morgan': 1742, 'foreign': 1743, 'kinda': 1744, 'lone': 1745, 'safe': 1746, 'rank': 1747, 'numer': 1748, 'civil': 1749, 'washington': 1750, 'shape': 1751, 'shallow': 1752, 'vs': 1753, 'rose': 1754, 'werewolf': 1755, 'gari': 1756, 'morn': 1757, 'accomplish': 1758, 'ordinari': 1759, 'kong': 1760, 'winner': 1761, 'virtual': 1762, 'grab': 1763, 'whenev': 1764, 'peac': 1765, 'h': 1766, 'luck': 1767, 'offens': 1768, 'patient': 1769, 'welcom': 1770, 'complain': 1771, 'unfunni': 1772, 'contriv': 1773, 'activ': 1774, 'bigger': 1775, 'dimension': 1776, 'trek': 1777, 'con': 1778, 'pretend': 1779, 'lesbian': 1780, 'code': 1781, 'wake': 1782, 'dri': 1783, 'cain': 1784, 'eric': 1785, 'flash': 1786, 'albert': 1787, 'statu': 1788, 'guard': 1789, 'manipul': 1790, 'corrupt': 1791, 'dancer': 1792, 'signific': 1793, 'gain': 1794, 'context': 1795, 'speech': 1796, 'sourc': 1797, 'awkward': 1798, 'sean': 1799, 'psycho': 1800, 'anthoni': 1801, 'clip': 1802, '13': 1803, 'corni': 1804, 'w': 1805, 'advic': 1806, 'theatric': 1807, 'curiou': 1808, 'reli': 1809, 'religion': 1810, 'priest': 1811, 'flow': 1812, 'addict': 1813, 'jennif': 1814, 'secur': 1815, 'howard': 1816, 'asian': 1817, 'specif': 1818, 'skin': 1819, 'golden': 1820, 'organ': 1821, 'promot': 1822, 'core': 1823, 'comfort': 1824, 'luke': 1825, 'cash': 1826, 'lucki': 1827, 'cheat': 1828, 'associ': 1829, 'dislik': 1830, 'lower': 1831, 'degre': 1832, 'balanc': 1833, 'devic': 1834, 'spell': 1835, 'frankli': 1836, 'wing': 1837, 'regret': 1838, 'contribut': 1839, 'frequent': 1840, 'sake': 1841, 'print': 1842, 'lake': 1843, 'forgiv': 1844, 'mass': 1845, 'thoma': 1846, 'betti': 1847, 'gordon': 1848, 'unexpect': 1849, 'crack': 1850, 'invit': 1851, 'depend': 1852, 'categori': 1853, 'unfold': 1854, 'construct': 1855, 'amateur': 1856, 'grown': 1857, 'intellectu': 1858, 'condit': 1859, 'walter': 1860, 'grew': 1861, 'honor': 1862, 'anna': 1863, 'matur': 1864, 'spectacular': 1865, 'veteran': 1866, 'sudden': 1867, 'sole': 1868, 'mirror': 1869, 'meanwhil': 1870, 'freedom': 1871, 'demonstr': 1872, 'card': 1873, 'gift': 1874, 'experienc': 1875, 'grip': 1876, 'robin': 1877, 'overli': 1878, 'liner': 1879, 'crappi': 1880, 'sheriff': 1881, 'circumst': 1882, 'subtitl': 1883, 'section': 1884, 'colour': 1885, 'brilliantli': 1886, 'oliv': 1887, 'drew': 1888, 'theori': 1889, 'unabl': 1890, 'matt': 1891, 'sheer': 1892, 'laughter': 1893, 'altern': 1894, 'path': 1895, 'pile': 1896, 'cook': 1897, 'parker': 1898, 'sinatra': 1899, 'hall': 1900, 'treatment': 1901, 'defin': 1902, 'lawyer': 1903, 'wander': 1904, 'relief': 1905, 'accident': 1906, 'dragon': 1907, 'captiv': 1908, 'hank': 1909, 'gratuit': 1910, 'halloween': 1911, 'moor': 1912, 'broadway': 1913, 'kung': 1914, 'unintent': 1915, 'wound': 1916, 'k': 1917, 'cowboy': 1918, 'jacki': 1919, 'barbara': 1920, 'wayn': 1921, 'winter': 1922, 'spoof': 1923, 'surreal': 1924, 'canadian': 1925, 'statement': 1926, 'gonna': 1927, 'treasur': 1928, 'compos': 1929, 'fare': 1930, 'cheer': 1931, 'fish': 1932, 'unrealist': 1933, 'emerg': 1934, 'sensit': 1935, 'victor': 1936, 'woodi': 1937, 'sympathet': 1938, 'driven': 1939, 'neighbor': 1940, 'ran': 1941, 'expos': 1942, 'overlook': 1943, 'glass': 1944, 'topic': 1945, 'authent': 1946, 'menac': 1947, 'michel': 1948, 'handsom': 1949, 'ancient': 1950, 'chief': 1951, 'gross': 1952, 'russel': 1953, 'contemporari': 1954, 'nevertheless': 1955, 'pleasant': 1956, 'comedian': 1957, 'stranger': 1958, 'network': 1959, 'feet': 1960, 'built': 1961, 'cinderella': 1962, 'letter': 1963, 'consider': 1964, 'earn': 1965, 'underr': 1966, 'gori': 1967, 'blockbust': 1968, 'miser': 1969, 'endless': 1970, 'brook': 1971, 'solv': 1972, 'switch': 1973, 'victoria': 1974, 'bullet': 1975, 'virgin': 1976, 'convict': 1977, 'edward': 1978, 'joseph': 1979, 'scenario': 1980, '0': 1981, 'alex': 1982, 'chosen': 1983, 'cynic': 1984, 'scale': 1985, 'outrag': 1986, 'com': 1987, 'curs': 1988, 'gut': 1989, 'sword': 1990, 'proper': 1991, 'substanc': 1992, 'wrap': 1993, 'uk': 1994, 'monkey': 1995, 'screenwrit': 1996, 'juli': 1997, 'driver': 1998, 'indic': 1999, 'court': 2000, 'bird': 2001, 'par': 2002, 'remov': 2003, 'advertis': 2004, 'consequ': 2005, 'loser': 2006, 'naiv': 2007, 'rental': 2008, 'inevit': 2009, 'nanci': 2010, 'grave': 2011, 'roy': 2012, 'bridg': 2013, 'germani': 2014, 'fatal': 2015, 'brave': 2016, 'slap': 2017, 'le': 2018, 'invis': 2019, 'anger': 2020, 'provok': 2021, 'ador': 2022, 'loui': 2023, 'footbal': 2024, 'alcohol': 2025, 'anderson': 2026, 'chan': 2027, 'willi': 2028, 'ryan': 2029, 'stumbl': 2030, 'professor': 2031, 'australian': 2032, 'bat': 2033, 'assassin': 2034, 'patrick': 2035, 'sharp': 2036, '1930': 2037, 'refresh': 2038, 'heck': 2039, 'cell': 2040, 'lousi': 2041, 'amateurish': 2042, 'saturday': 2043, 'trilog': 2044, 'liber': 2045, 'ape': 2046, 'eight': 2047, 'deni': 2048, 'strongli': 2049, 'sin': 2050, 'vagu': 2051, 'resid': 2052, 'justifi': 2053, 'san': 2054, 'sympathi': 2055, 'creator': 2056, 'reput': 2057, 'indi': 2058, 'defeat': 2059, 'terrifi': 2060, 'mini': 2061, 'tediou': 2062, 'prevent': 2063, 'expert': 2064, 'tabl': 2065, 'task': 2066, 'endur': 2067, 'rival': 2068, 'offend': 2069, 'employ': 2070, 'che': 2071, 'trial': 2072, 'imit': 2073, 'basebal': 2074, 'beach': 2075, 'weekend': 2076, 'max': 2077, 'pitch': 2078, 'complaint': 2079, 'fairi': 2080, 'dig': 2081, 'europ': 2082, 'risk': 2083, 'format': 2084, 'purchas': 2085, 'murphi': 2086, 'glimps': 2087, 'titan': 2088, 'harsh': 2089, 'reminisc': 2090, 'bite': 2091, 'hype': 2092, 'nois': 2093, 'tini': 2094, 'powel': 2095, 'fals': 2096, 'strip': 2097, '14': 2098, 'till': 2099, 'prime': 2100, 'north': 2101, 'asleep': 2102, 'africa': 2103, 'destruct': 2104, 'descript': 2105, 'revel': 2106, 'texa': 2107, 'excess': 2108, 'arrest': 2109, 'sitcom': 2110, 'inner': 2111, 'surfac': 2112, 'uninterest': 2113, 'spin': 2114, 'semi': 2115, 'massiv': 2116, 'dinosaur': 2117, 'twin': 2118, 'hitchcock': 2119, 'controversi': 2120, 'argu': 2121, 'maintain': 2122, 'makeup': 2123, 'ideal': 2124, 'insist': 2125, 'stare': 2126, 'melodrama': 2127, 'ludicr': 2128, 'expens': 2129, 'reject': 2130, 'kim': 2131, 'host': 2132, 'supernatur': 2133, 'ala': 2134, 'atroci': 2135, 'press': 2136, 'erot': 2137, 'forest': 2138, 'nail': 2139, 'ga': 2140, 'subplot': 2141, 'columbo': 2142, 'presum': 2143, 'dude': 2144, 'identifi': 2145, 'cant': 2146, 'notch': 2147, 'closer': 2148, 'forgett': 2149, 'crude': 2150, 'method': 2151, 'guest': 2152, 'character': 2153, 'plagu': 2154, 'lion': 2155, 'foster': 2156, 'ear': 2157, 'landscap': 2158, 'border': 2159, 'princess': 2160, 'beast': 2161, 'birth': 2162, 'previous': 2163, 'storytel': 2164, 'aunt': 2165, 'jungl': 2166, 'pacino': 2167, 'accus': 2168, 'urban': 2169, 'damag': 2170, 'bound': 2171, 'nude': 2172, 'doll': 2173, 'jess': 2174, 'propaganda': 2175, 'thirti': 2176, 'guid': 2177, 'chose': 2178, 'emma': 2179, 'mate': 2180, '25': 2181, 'warrior': 2182, 'whoever': 2183, 'pet': 2184, 'mainstream': 2185, 'latest': 2186, 'gritti': 2187, 'friday': 2188, 'poster': 2189, 'size': 2190, 'exact': 2191, 'upset': 2192, 'cooper': 2193, 'deadli': 2194, 'merit': 2195, 'popul': 2196, 'sun': 2197, 'citizen': 2198, '1990': 2199, 'corps': 2200, 'rough': 2201, 'wilson': 2202, 'ton': 2203, 'buff': 2204, 'contact': 2205, 'settl': 2206, 'contest': 2207, 'warner': 2208, 'blend': 2209, 'environ': 2210, 'overcom': 2211, 'alic': 2212, 'bu': 2213, 'widow': 2214, 'pitt': 2215, 'metal': 2216, 'select': 2217, 'rat': 2218, 'mgm': 2219, 'guilti': 2220, 'lift': 2221, 'revolut': 2222, 'link': 2223, 'ted': 2224, 'particip': 2225, 'johnson': 2226, 'accompani': 2227, 'exagger': 2228, 'prostitut': 2229, '1960': 2230, 'matrix': 2231, 'afternoon': 2232, 'moron': 2233, 'corpor': 2234, 'corner': 2235, 'friendli': 2236, 'multipl': 2237, 'hood': 2238, 'sincer': 2239, 'leagu': 2240, 'doom': 2241, 'clair': 2242, 'instal': 2243, 'holm': 2244, 'aka': 2245, 'campi': 2246, 'irish': 2247, 'hip': 2248, 'examin': 2249, 'defend': 2250, 'grim': 2251, 'blah': 2252, 'sunday': 2253, 'lugosi': 2254, 'string': 2255, 'advis': 2256, 'junk': 2257, 'varieti': 2258, 'confid': 2259, 'shake': 2260, 'shut': 2261, 'icon': 2262, 'rachel': 2263, 'tight': 2264, 'pro': 2265, 'attach': 2266, 'directli': 2267, 'medic': 2268, 'jaw': 2269, 'denni': 2270, 'mexican': 2271, 'goal': 2272, 'sullivan': 2273, 'legendari': 2274, 'sarah': 2275, 'terrorist': 2276, 'courag': 2277, 'prior': 2278, 'dean': 2279, 'sentenc': 2280, 'vietnam': 2281, 'truck': 2282, 'duke': 2283, 'breast': 2284, 'bourn': 2285, 'un': 2286, 'hong': 2287, 'nose': 2288, 'donald': 2289, 'proceed': 2290, 'entri': 2291, 'yell': 2292, 'split': 2293, 'behav': 2294, 'confess': 2295, 'borrow': 2296, 'unconvinc': 2297, 'gather': 2298, 'concentr': 2299, 'buri': 2300, 'crush': 2301, 'lifetim': 2302, 'stolen': 2303, 'everywher': 2304, 'jerk': 2305, 'forth': 2306, 'swim': 2307, 'lip': 2308, 'pan': 2309, 'deliveri': 2310, 'julia': 2311, 'turkey': 2312, 'california': 2313, 'spite': 2314, 'downright': 2315, 'china': 2316, 'reward': 2317, 'quest': 2318, 'freeman': 2319, 'proud': 2320, 'hoffman': 2321, 'flight': 2322, 'offici': 2323, 'fabul': 2324, 'encourag': 2325, 'sir': 2326, 'jail': 2327, 'notori': 2328, 'fade': 2329, 'inept': 2330, 'worthwhil': 2331, 'lazi': 2332, 'betray': 2333, 'sink': 2334, 'jon': 2335, 'relev': 2336, 'shower': 2337, 'bag': 2338, 'cousin': 2339, 'retard': 2340, 'bell': 2341, 'susan': 2342, 'imageri': 2343, 'teeth': 2344, 'storm': 2345, 'survivor': 2346, 'branagh': 2347, 'lisa': 2348, 'mexico': 2349, 'trade': 2350, 'tremend': 2351, 'hugh': 2352, 'shark': 2353, 'facial': 2354, 'stab': 2355, 'bride': 2356, 'finger': 2357, 'toler': 2358, 'quirki': 2359, 'alright': 2360, 'summari': 2361, 'blown': 2362, 'ha': 2363, 'von': 2364, 'hyster': 2365, 'pose': 2366, 'bitter': 2367, 'afterward': 2368, 'bone': 2369, 'ron': 2370, 'cruel': 2371, 'address': 2372, 'ned': 2373, 'christ': 2374, 'scheme': 2375, 'larri': 2376, 'beg': 2377, 'feed': 2378, 'screw': 2379, 'distinct': 2380, 'tour': 2381, 'swear': 2382, 'traci': 2383, 'thumb': 2384, 'pursu': 2385, 'snake': 2386, 'chair': 2387, 'mechan': 2388, 'occas': 2389, 'stomach': 2390, 'raw': 2391, 'obscur': 2392, 'photo': 2393, 'sidney': 2394, 'render': 2395, 'argument': 2396, 'southern': 2397, 'holiday': 2398, 'gruesom': 2399, 'cabin': 2400, 'chain': 2401, 'hardi': 2402, 'heavili': 2403, 'resist': 2404, 'necessarili': 2405, 'philip': 2406, 'indulg': 2407, 'understood': 2408, 'racist': 2409, 'satan': 2410, 'india': 2411, 'tongu': 2412, 'stalk': 2413, 'lay': 2414, 'obnoxi': 2415, 'midnight': 2416, 'fourth': 2417, 'belov': 2418, 'forgot': 2419, 'outfit': 2420, 'integr': 2421, 'pregnant': 2422, '17': 2423, 'deeper': 2424, 'garden': 2425, 'inhabit': 2426, 'slapstick': 2427, 'ticket': 2428, 'carol': 2429, 'magazin': 2430, 'restor': 2431, 'devot': 2432, 'incid': 2433, 'shoe': 2434, 'brad': 2435, 'lincoln': 2436, 'guarante': 2437, 'divorc': 2438, 'disbelief': 2439, 'lili': 2440, 'anticip': 2441, 'benefit': 2442, 'sandler': 2443, 'underground': 2444, 'maria': 2445, 'elizabeth': 2446, 'capit': 2447, 'greater': 2448, 'creation': 2449, 'bbc': 2450, 'slave': 2451, 'cring': 2452, 'princip': 2453, 'mildli': 2454, 'explod': 2455, 'amazingli': 2456, 'extraordinari': 2457, 'lesli': 2458, 'halfway': 2459, 'introduct': 2460, 'funnier': 2461, 'enhanc': 2462, 'tap': 2463, 'wreck': 2464, 'transfer': 2465, 'advantag': 2466, 'extent': 2467, 'punish': 2468, 'text': 2469, 'overwhelm': 2470, 'lane': 2471, 'deliber': 2472, 'plant': 2473, 'east': 2474, 'lo': 2475, 'preview': 2476, 'jessica': 2477, 'horrif': 2478, 'error': 2479, 'dynam': 2480, 'vacat': 2481, 'miller': 2482, 'miscast': 2483, 'appli': 2484, 'basi': 2485, 'sophist': 2486, 'ensu': 2487, '2000': 2488, 'homosexu': 2489, 'vincent': 2490, 'bollywood': 2491, 'reed': 2492, 'mansion': 2493, 'extend': 2494, 'via': 2495, 'sleazi': 2496, 'spoken': 2497, 'uncomfort': 2498, 'steel': 2499, 'measur': 2500, 'elev': 2501, 'cathol': 2502, 'goofi': 2503, 'overact': 2504, 'assign': 2505, 'alter': 2506, 'hippi': 2507, 'beer': 2508, 'daili': 2509, 'blair': 2510, 'breathtak': 2511, 'conceiv': 2512, 'mous': 2513, 'stanley': 2514, 'dentist': 2515, 'fix': 2516, 'savag': 2517, 'melt': 2518, 'carpent': 2519, 'succe': 2520, 'everyday': 2521, 'sacrific': 2522, 'nowaday': 2523, 'burt': 2524, 'oppos': 2525, 'properli': 2526, 'inspector': 2527, 'subsequ': 2528, 'block': 2529, 'laura': 2530, 'neck': 2531, 'circl': 2532, 'massacr': 2533, 'portrait': 2534, 'grey': 2535, 'concert': 2536, 'lesser': 2537, 'mob': 2538, 'fallen': 2539, 'pool': 2540, 'christi': 2541, 'access': 2542, 'seagal': 2543, 'fay': 2544, 'relax': 2545, 'chees': 2546, 'react': 2547, 'isol': 2548, 'competit': 2549, 'usa': 2550, 'sinist': 2551, 'jake': 2552, 'jewish': 2553, 'nonetheless': 2554, 'stink': 2555, 'suitabl': 2556, 'chop': 2557, 'nine': 2558, 'creep': 2559, '2006': 2560, 'spiritu': 2561, 'immens': 2562, 'lyric': 2563, 'ironi': 2564, 'appal': 2565, 'franchis': 2566, 'showcas': 2567, 'rage': 2568, 'shirt': 2569, 'spring': 2570, 'user': 2571, 'navi': 2572, 'retir': 2573, 'nut': 2574, 'adopt': 2575, 'needless': 2576, 'reduc': 2577, 'sold': 2578, 'luci': 2579, 'jay': 2580, 'per': 2581, 'digit': 2582, 'zone': 2583, 'nurs': 2584, 'uninspir': 2585, 'bath': 2586, 'asham': 2587, 'bulli': 2588, 'stanwyck': 2589, 'amongst': 2590, 'oddli': 2591, 'illustr': 2592, 'upper': 2593, 'broadcast': 2594, '2001': 2595, 'sutherland': 2596, '1940': 2597, 'laid': 2598, 'baker': 2599, 'brando': 2600, 'aspir': 2601, 'stylish': 2602, 'fulfil': 2603, 'throat': 2604, 'disguis': 2605, 'wanna': 2606, 'impli': 2607, 'thief': 2608, 'neighborhood': 2609, 'pound': 2610, 'em': 2611, 'nobl': 2612, 'pride': 2613, '18': 2614, 'wwii': 2615, 'endear': 2616, 'coher': 2617, 'bett': 2618, 'albeit': 2619, 'distribut': 2620, 'prop': 2621, 'rochest': 2622, 'diseas': 2623, '16': 2624, 'tens': 2625, 'bo': 2626, 'cinematograph': 2627, 'dawn': 2628, 'shoulder': 2629, 'dinner': 2630, 'shift': 2631, 'matthau': 2632, 'function': 2633, 'poignant': 2634, 'surf': 2635, 'knife': 2636, 'shout': 2637, 'silenc': 2638, 'forti': 2639, 'rebel': 2640, 'snow': 2641, 'contract': 2642, 'wash': 2643, 'elvira': 2644, 'silver': 2645, 'instinct': 2646, 'heat': 2647, 'cancel': 2648, 'mindless': 2649, 'internet': 2650, 'height': 2651, 'duti': 2652, 'eeri': 2653, 'henc': 2654, 'derek': 2655, 'proof': 2656, 'reunion': 2657, 'widmark': 2658, 'chuck': 2659, 'horrend': 2660, 'cannib': 2661, 'elvi': 2662, 'greatli': 2663, 'etern': 2664, 'innov': 2665, 'pie': 2666, 'musician': 2667, 'absorb': 2668, 'glori': 2669, 'repetit': 2670, 'premier': 2671, 'spielberg': 2672, 'alik': 2673, 'torn': 2674, 'mill': 2675, 'neat': 2676, 'incoher': 2677, 'britain': 2678, 'itali': 2679, 'homag': 2680, 'burton': 2681, 'crisi': 2682, 'bang': 2683, 'redempt': 2684, 'horrifi': 2685, 'lovabl': 2686, 'racism': 2687, 'nelson': 2688, 'fbi': 2689, 'precis': 2690, 'trite': 2691, 'blank': 2692, 'announc': 2693, 'wealthi': 2694, 'diamond': 2695, 'infam': 2696, 'pat': 2697, 'flop': 2698, 'helen': 2699, 'happili': 2700, 'dedic': 2701, 'chaplin': 2702, 'parallel': 2703, 'resolut': 2704, 'ensembl': 2705, 'hammer': 2706, 'wilder': 2707, 'streisand': 2708, 'plastic': 2709, 'cube': 2710, 'disagre': 2711, 'conclud': 2712, 'mar': 2713, 'triumph': 2714, 'factori': 2715, 'st': 2716, 'carter': 2717, 'oil': 2718, 'broke': 2719, 'chuckl': 2720, 'own': 2721, 'climb': 2722, 'march': 2723, 'weight': 2724, 'rocket': 2725, 'bush': 2726, 'fighter': 2727, 'vega': 2728, 'row': 2729, 'kurt': 2730, 'sensibl': 2731, 'thug': 2732, 'lust': 2733, 'meaning': 2734, 'unforgett': 2735, 'enorm': 2736, 'boot': 2737, 'spare': 2738, 'dump': 2739, 'wherea': 2740, 'dane': 2741, 'mst3k': 2742, 'luca': 2743, 'adequ': 2744, 'brand': 2745, 'arnold': 2746, 'threat': 2747, 'caricatur': 2748, 'bobbi': 2749, 'difficulti': 2750, 'karloff': 2751, 'dear': 2752, 'stress': 2753, 'fifti': 2754, 'engin': 2755, 'butt': 2756, 'rap': 2757, 'ego': 2758, 'hamlet': 2759, 'polish': 2760, 'secretari': 2761, 'fest': 2762, 'arrog': 2763, 'elabor': 2764, 'barri': 2765, 'swing': 2766, 'journalist': 2767, 'ralph': 2768, 'homeless': 2769, 'flynn': 2770, 'unbear': 2771, 'arrang': 2772, 'conspiraci': 2773, 'spike': 2774, 'resort': 2775, 'grate': 2776, 'simpson': 2777, 'induc': 2778, 'fanci': 2779, 'float': 2780, 'puppet': 2781, 'tool': 2782, 'muppet': 2783, 'phillip': 2784, 'pig': 2785, 'basement': 2786, 'guilt': 2787, 'choreograph': 2788, 'exercis': 2789, 'cruis': 2790, 'tribut': 2791, 'boll': 2792, 'babe': 2793, 'editor': 2794, 'scarecrow': 2795, 'tower': 2796, 'ward': 2797, 'ham': 2798, 'medium': 2799, 'document': 2800, 'puzzl': 2801, 'korean': 2802, 'file': 2803, 'toilet': 2804, 'slip': 2805, 'item': 2806, 'layer': 2807, 'fianc': 2808, '24': 2809, 'stan': 2810, 'territori': 2811, 'superfici': 2812, 'denzel': 2813, 'transit': 2814, 'persona': 2815, 'orient': 2816, 'catherin': 2817, 'larger': 2818, 'assur': 2819, 'slaughter': 2820, 'glover': 2821, 'philosoph': 2822, 'minim': 2823, 'inexplic': 2824, 'portion': 2825, 'spark': 2826, 'librari': 2827, 'doc': 2828, 'ban': 2829, 'pg': 2830, 'curti': 2831, 'boredom': 2832, 'shi': 2833, 'sneak': 2834, 'financi': 2835, 'jeremi': 2836, 'jet': 2837, 'dorothi': 2838, 'walken': 2839, 'wolf': 2840, 'owe': 2841, 'metaphor': 2842, 'hudson': 2843, 'profound': 2844, 'backdrop': 2845, 'multi': 2846, 'cusack': 2847, 'whale': 2848, 'eleph': 2849, 'ambigu': 2850, 'birthday': 2851, 'union': 2852, 'notion': 2853, 'stiff': 2854, '2005': 2855, 'elsewher': 2856, 'rave': 2857, 'ultra': 2858, 'gadget': 2859, 'hack': 2860, 'viru': 2861, 'implaus': 2862, 'newspap': 2863, 'distanc': 2864, 'afford': 2865, 'urg': 2866, 'hawk': 2867, 'lloyd': 2868, 'eastwood': 2869, 'bibl': 2870, 'poison': 2871, 'deriv': 2872, 'squar': 2873, 'pad': 2874, 'canada': 2875, 'slight': 2876, 'eva': 2877, 'superhero': 2878, 'disc': 2879, '1st': 2880, 'reader': 2881, 'restaur': 2882, 'health': 2883, 'drown': 2884, 'montag': 2885, 'huh': 2886, 'heston': 2887, 'essenc': 2888, 'skit': 2889, 'spread': 2890, 'sadist': 2891, 'button': 2892, 'charisma': 2893, 'cure': 2894, 'maniac': 2895, 'invest': 2896, 'gradual': 2897, 'peak': 2898, 'estat': 2899, 'fetch': 2900, 'dealt': 2901, 'godfath': 2902, 'scoobi': 2903, 'companion': 2904, 'lab': 2905, 'muslim': 2906, 'gothic': 2907, 'servant': 2908, 'kane': 2909, 'countless': 2910, 'ritter': 2911, 'alli': 2912, 'tea': 2913, 'cup': 2914, 'subtleti': 2915, 'miik': 2916, 'briefli': 2917, 'salli': 2918, 'iii': 2919, 'charismat': 2920, 'elect': 2921, 'heroic': 2922, 'electr': 2923, 'wannab': 2924, 'tender': 2925, 'neil': 2926, 'grandmoth': 2927, 'ingredi': 2928, 'reel': 2929, 'toss': 2930, 'nuanc': 2931, 'admittedli': 2932, 'resourc': 2933, 'bud': 2934, 'cole': 2935, 'reev': 2936, 'punk': 2937, 'shall': 2938, 'dawson': 2939, 'stronger': 2940, 'kubrick': 2941, 'stood': 2942, 'label': 2943, 'poverti': 2944, 'gate': 2945, 'pit': 2946, 'carrey': 2947, 'pauli': 2948, 'mafia': 2949, 'mild': 2950, 'burst': 2951, 'tag': 2952, 'easier': 2953, 'useless': 2954, 'outcom': 2955, 'updat': 2956, 'ian': 2957, 'terri': 2958, 'smash': 2959, 'cox': 2960, 'smooth': 2961, 'fond': 2962, 'cardboard': 2963, 'assault': 2964, 'astair': 2965, 'bakshi': 2966, 'sketch': 2967, 'exchang': 2968, 'divers': 2969, 'vari': 2970, 'resolv': 2971, 'increasingli': 2972, 'rex': 2973, 'vulner': 2974, 'qualifi': 2975, '2002': 2976, 'samurai': 2977, 'melodramat': 2978, 'coincid': 2979, 'fist': 2980, 'tame': 2981, 'brillianc': 2982, 'templ': 2983, 'suspend': 2984, 'insert': 2985, 'luckili': 2986, 'be': 2987, 'blast': 2988, 'reynold': 2989, 'conveni': 2990, 'scratch': 2991, 'ambiti': 2992, 'coach': 2993, 'seventi': 2994, 'fisher': 2995, 'meat': 2996, 'matthew': 2997, 'jami': 2998, 'hamilton': 2999, 'gotta': 3000, 'nuclear': 3001, 'strictli': 3002, 'farm': 3003, 'pin': 3004, 'walker': 3005, 'soprano': 3006, 'revers': 3007, 'struck': 3008, 'convolut': 3009, 'cave': 3010, 'grasp': 3011, 'instantli': 3012, 'spooki': 3013, 'closet': 3014, 'eccentr': 3015, 'worthless': 3016, 'brosnan': 3017, 'ninja': 3018, 'timeless': 3019, 'recreat': 3020, 'clock': 3021, 'monk': 3022, 'kudo': 3023, 'discoveri': 3024, 'joey': 3025, 'empir': 3026, 'butcher': 3027, 'gray': 3028, 'sidekick': 3029, 'wipe': 3030, 'declar': 3031, 'mitchel': 3032, 'sloppi': 3033, 'eighti': 3034, 'partli': 3035, 'pal': 3036, 'inconsist': 3037, 'norman': 3038, 'bleak': 3039, 'communist': 3040, 'cliff': 3041, 'selfish': 3042, 'importantli': 3043, 'evok': 3044, 'miracl': 3045, 'fifteen': 3046, 'seller': 3047, 'clown': 3048, 'psychiatrist': 3049, 'piano': 3050, 'cheek': 3051, 'stoog': 3052, 'ho': 3053, '45': 3054, 'lifestyl': 3055, 'seed': 3056, 'websit': 3057, 'enthusiast': 3058, 'farc': 3059, 'australia': 3060, 'superbl': 3061, 'destin': 3062, 'chew': 3063, 'debat': 3064, 'flawless': 3065, 'aforement': 3066, 'emili': 3067, 'dire': 3068, 'abc': 3069, 'wrestl': 3070, 'pressur': 3071, 'splatter': 3072, 'directori': 3073, 'drivel': 3074, 'wick': 3075, 'bash': 3076, 'slice': 3077, 'dash': 3078, 'regardless': 3079, 'anni': 3080, 'kitchen': 3081, 'soviet': 3082, 'akshay': 3083, 'incompet': 3084, 'chapter': 3085, 'seduc': 3086, 'artifici': 3087, 'ken': 3088, 'cagney': 3089, 'duo': 3090, 'mann': 3091, 'prize': 3092, 'cameron': 3093, 'pleasantli': 3094, 'curios': 3095, 'blob': 3096, 'suppli': 3097, 'distant': 3098, 'cia': 3099, 'judi': 3100, 'doo': 3101, 'dave': 3102, 'beaten': 3103, 'lou': 3104, 'glow': 3105, 'helicopt': 3106, 'flower': 3107, 'boil': 3108, 'jar': 3109, 'recov': 3110, 'increas': 3111, 'ranger': 3112, 'panic': 3113, 'goldberg': 3114, 'drunken': 3115, 'hop': 3116, 'splendid': 3117, 'glenn': 3118, 'laurel': 3119, 'eleg': 3120, 'perri': 3121, 'combat': 3122, 'turner': 3123, 'psychot': 3124, 'favour': 3125, 'craven': 3126, 'web': 3127, 'craig': 3128, 'francisco': 3129, 'ellen': 3130, 'modesti': 3131, 'ruth': 3132, 'wizard': 3133, 'rid': 3134, 'shortli': 3135, '20th': 3136, 'alexand': 3137, 'slightest': 3138, 'hatr': 3139, 'min': 3140, 'greek': 3141, 'fx': 3142, 'philosophi': 3143, 'plausibl': 3144, 'graduat': 3145, 'flip': 3146, 'gentl': 3147, 'falk': 3148, 'gandhi': 3149, 'legal': 3150, 'unpleas': 3151, 'lend': 3152, 'jealou': 3153, 'harm': 3154, 'holi': 3155, 'knight': 3156, 'ocean': 3157, 'preciou': 3158, 'dracula': 3159, 'tall': 3160, 'we': 3161, 'fund': 3162, 'futurist': 3163, 'manhattan': 3164, 'felix': 3165, 'reviv': 3166, 'nod': 3167, 'overdon': 3168, 'thread': 3169, 'bless': 3170, 'childish': 3171, 'ami': 3172, 'giallo': 3173, 'forbidden': 3174, 'explicit': 3175, 'tank': 3176, 'mock': 3177, 'scientif': 3178, 'digniti': 3179, 'nerv': 3180, 'eve': 3181, 'awe': 3182, 'torment': 3183, 'thick': 3184, 'unwatch': 3185, 'awaken': 3186, '2004': 3187, 'yesterday': 3188, 'elderli': 3189, 'margaret': 3190, 'mel': 3191, '99': 3192, 'repeatedli': 3193, 'broad': 3194, 'pirat': 3195, 'fever': 3196, 'verhoeven': 3197, 'acclaim': 3198, 'griffith': 3199, 'kay': 3200, 'uniform': 3201, 'ah': 3202, 'royal': 3203, 'timothi': 3204, 'custom': 3205, 'bin': 3206, 'rivet': 3207, 'publish': 3208, 'ambit': 3209, 'roman': 3210, 'lean': 3211, 'stiller': 3212, 'romero': 3213, 'absenc': 3214, 'politician': 3215, 'eas': 3216, 'automat': 3217, 'launch': 3218, 'pulp': 3219, 'phrase': 3220, 'darker': 3221, 'termin': 3222, 'antic': 3223, 'warren': 3224, 'pierc': 3225, 'tomato': 3226, 'crook': 3227, 'stinker': 3228, 'homicid': 3229, 'gabriel': 3230, 'foul': 3231, 'wallac': 3232, 'purpl': 3233, 'sunshin': 3234, 'bathroom': 3235, 'transport': 3236, 'album': 3237, 'revolutionari': 3238, 'brazil': 3239, 'contrari': 3240, 'evolv': 3241, 'viciou': 3242, 'horrid': 3243, 'sixti': 3244, 'kenneth': 3245, 'awak': 3246, 'eyr': 3247, 'choreographi': 3248, 'pray': 3249, 'rambo': 3250, '2003': 3251, 'marin': 3252, 'juvenil': 3253, 'packag': 3254, 'donna': 3255, 'karen': 3256, 'li': 3257, 'q': 3258, 'ought': 3259, 'prom': 3260, 'hollow': 3261, 'saint': 3262, 'coloni': 3263, 'conserv': 3264, 'ireland': 3265, 'mildr': 3266, 'mummi': 3267, 'dose': 3268, 'beatti': 3269, 'defi': 3270, 'boast': 3271, 'candid': 3272, 'blade': 3273, 'nerd': 3274, 'overr': 3275, 'stole': 3276, 'ramon': 3277, 'twelv': 3278, 'kapoor': 3279, 'option': 3280, 'flame': 3281, 'natali': 3282, 'protest': 3283, 'funer': 3284, 'jazz': 3285, 'trio': 3286, 'detract': 3287, 'collabor': 3288, 'fulci': 3289, 'astonish': 3290, 'global': 3291, 'kirk': 3292, 'confirm': 3293, 'altman': 3294, 'racial': 3295, 'shade': 3296, 'tommi': 3297, 'whip': 3298, 'blake': 3299, 'bull': 3300, 'nicholson': 3301, 'enterpris': 3302, 'yellow': 3303, 'destini': 3304, 'delici': 3305, 'bottl': 3306, 'spit': 3307, 'mystic': 3308, 'audio': 3309, 'leap': 3310, 'reunit': 3311, 'adolesc': 3312, 'bedroom': 3313, 'staff': 3314, 'meaningless': 3315, 'altogeth': 3316, 'visibl': 3317, 'enchant': 3318, 'swedish': 3319, 'todd': 3320, 'inherit': 3321, 'threw': 3322, 'merci': 3323, 'fonda': 3324, 'pseudo': 3325, 'vivid': 3326, 'neo': 3327, 'popcorn': 3328, 'harder': 3329, 'uneven': 3330, 'roommat': 3331, 'befriend': 3332, 'await': 3333, 'decor': 3334, 'fanat': 3335, 'edi': 3336, 'bust': 3337, 'reserv': 3338, 'lawrenc': 3339, 'crocodil': 3340, 'wire': 3341, 'tip': 3342, 'kennedi': 3343, 'moodi': 3344, 'suspici': 3345, 'ruthless': 3346, 'synopsi': 3347, 'jew': 3348, 'madonna': 3349, 'leonard': 3350, 'voight': 3351, 'exhibit': 3352, 'atlanti': 3353, 'lemmon': 3354, 'respond': 3355, 'bold': 3356, 'ventur': 3357, 'clumsi': 3358, 'clint': 3359, 'audit': 3360, 'bargain': 3361, '2007': 3362, 'rural': 3363, 'centr': 3364, 'unsettl': 3365, 'chao': 3366, 'palma': 3367, 'abysm': 3368, 'dimens': 3369, 'incident': 3370, 'garner': 3371, 'bradi': 3372, 'voyag': 3373, 'carl': 3374, 'holli': 3375, 'timon': 3376, 'lit': 3377, 'echo': 3378, 'cuba': 3379, 'humili': 3380, '2nd': 3381, 'characterist': 3382, 'mall': 3383, 'versu': 3384, 'ant': 3385, 'troop': 3386, 'acknowledg': 3387, 'imperson': 3388, 'elimin': 3389, 'hart': 3390, 'cd': 3391, 'daddi': 3392, 'nearbi': 3393, 'cari': 3394, 'poetic': 3395, 'tiger': 3396, 'wealth': 3397, 'immigr': 3398, 'neglect': 3399, 'trail': 3400, 'jeffrey': 3401, 'pun': 3402, 'marshal': 3403, 'collaps': 3404, 'mistaken': 3405, 'repuls': 3406, 'domest': 3407, 'paus': 3408, 'mickey': 3409, 'prejudic': 3410, 'solo': 3411, 'saga': 3412, 'infect': 3413, 'celluloid': 3414, 'homer': 3415, 'undoubtedli': 3416, 'chest': 3417, 'coat': 3418, 'coffe': 3419, 'tribe': 3420, 'pant': 3421, 'gear': 3422, 'assembl': 3423, 'interrupt': 3424, '1996': 3425, 'leon': 3426, 'promin': 3427, 'sore': 3428, 'apolog': 3429, 'equip': 3430, 'hbo': 3431, 'milk': 3432, 'inan': 3433, 'olivi': 3434, 'harvey': 3435, 'ginger': 3436, 'inappropri': 3437, 'cake': 3438, 'colonel': 3439, 'consum': 3440, 'aveng': 3441, 'humbl': 3442, 'solut': 3443, 'florida': 3444, 'colleagu': 3445, 'primari': 3446, 'exot': 3447, 'trace': 3448, 'retain': 3449, 'institut': 3450, 'polanski': 3451, 'brooklyn': 3452, 'pen': 3453, 'airplan': 3454, 'instant': 3455, 'vulgar': 3456, 'furthermor': 3457, 'devast': 3458, 'highest': 3459, 'pot': 3460, 'embrac': 3461, 'jenni': 3462, 'maggi': 3463, 'principl': 3464, 'dian': 3465, 'sale': 3466, 'gender': 3467, 'smaller': 3468, 'godzilla': 3469, 'outer': 3470, 'dutch': 3471, 'disabl': 3472, 'cope': 3473, '3rd': 3474, 'ya': 3475, 'descend': 3476, '1999': 3477, 'linda': 3478, 'illog': 3479, 'seduct': 3480, 'wive': 3481, 'strain': 3482, 'rick': 3483, 'poke': 3484, 'bowl': 3485, 'glamor': 3486, 'dud': 3487, 'scope': 3488, 'lol': 3489, 'predecessor': 3490, 'devoid': 3491, 'vast': 3492, 'rabbit': 3493, 'hal': 3494, 'secondli': 3495, 'bubbl': 3496, 'dive': 3497, 'gloriou': 3498, 'blatant': 3499, 'cue': 3500, 'beneath': 3501, 'mixtur': 3502, 'primarili': 3503, 'inferior': 3504, 'gundam': 3505, 'yard': 3506, 'arab': 3507, 'shirley': 3508, 'alert': 3509, 'trademark': 3510, 'invas': 3511, 'simplist': 3512, 'shelf': 3513, 'aggress': 3514, 'museum': 3515, 'et': 3516, 'breed': 3517, 'alfr': 3518, 'pearl': 3519, 'z': 3520, 'senseless': 3521, 'grinch': 3522, 'myer': 3523, 'streep': 3524, 'talki': 3525, 'april': 3526, 'garbo': 3527, 'disjoint': 3528, 'domino': 3529, 'hideou': 3530, 'countrysid': 3531, 'casual': 3532, 'illeg': 3533, 'stellar': 3534, 'mail': 3535, 'defens': 3536, 'experiment': 3537, 'slide': 3538, 'oz': 3539, 'stack': 3540, 'applaud': 3541, 'boom': 3542, 'loyal': 3543, 'robberi': 3544, 'disgrac': 3545, 'robinson': 3546, 'hopeless': 3547, 'obtain': 3548, 'maci': 3549, 'mayor': 3550, 'unhappi': 3551, 'hardcor': 3552, 'sh': 3553, 'vanish': 3554, 'acid': 3555, 'rendit': 3556, 'khan': 3557, 'uwe': 3558, 'stir': 3559, 'incomprehens': 3560, 'tempt': 3561, 'amanda': 3562, 'dismiss': 3563, 'blew': 3564, 'declin': 3565, 'rifl': 3566, 'psychic': 3567, 'scroog': 3568, 'spider': 3569, 'craze': 3570, 'emphasi': 3571, 'soccer': 3572, 'wont': 3573, 'dicken': 3574, 'counter': 3575, 'span': 3576, 'diana': 3577, 'tenant': 3578, 'topless': 3579, 'berlin': 3580, 'fri': 3581, 'hartley': 3582, 'grandfath': 3583, 'recruit': 3584, 'goer': 3585, 'intim': 3586, 'trashi': 3587, 'resurrect': 3588, 'bitch': 3589, 'riot': 3590, 'ethnic': 3591, 'wet': 3592, 'woo': 3593, 'sibl': 3594, 'shaw': 3595, 'revolt': 3596, 'porno': 3597, 'sympath': 3598, 'shed': 3599, 'ration': 3600, 'faster': 3601, 'parad': 3602, 'niro': 3603, 'justin': 3604, 'lumet': 3605, 'jonathan': 3606, 'biographi': 3607, 'wheel': 3608, 'partial': 3609, 'eager': 3610, 'steam': 3611, '00': 3612, 'rider': 3613, 'mario': 3614, 'slick': 3615, 'ballet': 3616, 'enlighten': 3617, 'weakest': 3618, 'unreal': 3619, 'region': 3620, 'hopper': 3621, 'gap': 3622, 'immort': 3623, 'choru': 3624, 'dealer': 3625, 'commend': 3626, 'ensur': 3627, 'andr': 3628, 'hesit': 3629, 'lena': 3630, 'farmer': 3631, 'honesti': 3632, 'nephew': 3633, 'patriot': 3634, 'worm': 3635, 'wendi': 3636, 'feminist': 3637, 'snap': 3638, 'blunt': 3639, 'nostalg': 3640, 'util': 3641, 'owen': 3642, 'vice': 3643, 'properti': 3644, 'repress': 3645, 'confin': 3646, 'hung': 3647, 'prequel': 3648, 'sappi': 3649, 'victori': 3650, 'franco': 3651, 'charlott': 3652, 'wore': 3653, 'sandra': 3654, 'skull': 3655, 'safeti': 3656, 'leo': 3657, 'morri': 3658, 'composit': 3659, 'kingdom': 3660, 'mutant': 3661, 'similarli': 3662, 'psychopath': 3663, 'macarthur': 3664, 'miseri': 3665, 'thru': 3666, 'acquir': 3667, 'exit': 3668, 'rambl': 3669, 'despair': 3670, 'campbel': 3671, 'nervou': 3672, 'compens': 3673, 'snl': 3674, 'whoopi': 3675, 'speci': 3676, 'cg': 3677, 'dalton': 3678, 'del': 3679, 'drain': 3680, 'recycl': 3681, 'hyde': 3682, 'tad': 3683, 'montana': 3684, 'farrel': 3685, 'tail': 3686, 'compass': 3687, 'rope': 3688, 'kyle': 3689, 'repli': 3690, 'rocki': 3691, 'latin': 3692, 'bow': 3693, 'pattern': 3694, 'dust': 3695, 'drum': 3696, 'deed': 3697, '1972': 3698, 'valuabl': 3699, 'bergman': 3700, 'bumbl': 3701, 'strand': 3702, 'bonu': 3703, 'heartbreak': 3704, 'emperor': 3705, 'chess': 3706, 'percept': 3707, 'martian': 3708, 'downhil': 3709, 'wacki': 3710, 'radic': 3711, '35': 3712, 'pour': 3713, 'orson': 3714, 'slug': 3715, 'mistress': 3716, 'rotten': 3717, 'contempl': 3718, 'da': 3719, 'roth': 3720, 'oppress': 3721, 'romp': 3722, 'airport': 3723, 'rapist': 3724, 'gal': 3725, 'bleed': 3726, 'tonight': 3727, 'olli': 3728, 'gimmick': 3729, 'carradin': 3730, 'slash': 3731, 'shelley': 3732, 'taught': 3733, 'attorney': 3734, 'dazzl': 3735, 'arc': 3736, '1983': 3737, 'pervert': 3738, 'mislead': 3739, 'tackl': 3740, 'champion': 3741, 'paltrow': 3742, 'programm': 3743, 'pursuit': 3744, 'arguabl': 3745, 'stilt': 3746, 'banal': 3747, 'heal': 3748, 'melodi': 3749, 'preach': 3750, 'pervers': 3751, 'edgar': 3752, 'belt': 3753, 'tooth': 3754, 'unpredict': 3755, 'orang': 3756, 'franki': 3757, 'gambl': 3758, 'passeng': 3759, 'dixon': 3760, 'sensat': 3761, 'employe': 3762, 'plight': 3763, 'uplift': 3764, 'raymond': 3765, 'vengeanc': 3766, 'cleverli': 3767, 'graham': 3768, 'vocal': 3769, 'bela': 3770, 'tiresom': 3771, 'chicken': 3772, 'maid': 3773, 'duval': 3774, 'marti': 3775, 'mesmer': 3776, 'conneri': 3777, 'virginia': 3778, 'poem': 3779, 'closest': 3780, 'rubi': 3781, 'climact': 3782, 'suffic': 3783, 'extens': 3784, 'secretli': 3785, 'monologu': 3786, 'giggl': 3787, 'volum': 3788, 'convincingli': 3789, 'habit': 3790, 'clone': 3791, 'calm': 3792, '1968': 3793, 'outing': 3794, 'quarter': 3795, 'crystal': 3796, 'iran': 3797, 'numb': 3798, 'bay': 3799, 'engross': 3800, 'pokemon': 3801, 'mute': 3802, 'paranoia': 3803, 'profan': 3804, 'inject': 3805, 'tube': 3806, 'scottish': 3807, 'whine': 3808, 'abraham': 3809, 'yawn': 3810, 'amitabh': 3811, 'swallow': 3812, 'lundgren': 3813, 'sirk': 3814, 'gerard': 3815, 'underst': 3816, 'expand': 3817, 'frankenstein': 3818, 'junior': 3819, 'plod': 3820, 'trend': 3821, 'richardson': 3822, 'surpass': 3823, 'bend': 3824, 'backward': 3825, 'spock': 3826, 'poetri': 3827, 'nichola': 3828, 'linger': 3829, 'dispos': 3830, 'franci': 3831, 'grotesqu': 3832, 'profess': 3833, 'austen': 3834, 'taxi': 3835, 'fed': 3836, 'lowest': 3837, 'im': 3838, 'meander': 3839, 'abort': 3840, 'chicago': 3841, 'ethan': 3842, 'earl': 3843, 'septemb': 3844, 'waitress': 3845, 'rant': 3846, 'eugen': 3847, 'econom': 3848, 'dysfunct': 3849, 'lure': 3850, 'mundan': 3851, 'compliment': 3852, 'spoke': 3853, 'catchi': 3854, 'muddl': 3855, 'nostalgia': 3856, 'hum': 3857, 'literatur': 3858, 'household': 3859, 'cannon': 3860, 'stallon': 3861, 'greedi': 3862, 'simplic': 3863, 'der': 3864, 'descent': 3865, 'myth': 3866, 'rubber': 3867, 'instrument': 3868, 'tourist': 3869, 'sue': 3870, 'lang': 3871, 'furi': 3872, 'eaten': 3873, 'equival': 3874, 'duck': 3875, 'dictat': 3876, 'irrelev': 3877, 'randi': 3878, 'cent': 3879, 'phoni': 3880, 'dement': 3881, 'stale': 3882, 'occupi': 3883, 'june': 3884, 'hello': 3885, 'firstli': 3886, 'molli': 3887, 'phantom': 3888, 'omen': 3889, 'recognis': 3890, 'louis': 3891, 'coast': 3892, 'crucial': 3893, 'insur': 3894, 'carel': 3895, 'mortal': 3896, 'alongsid': 3897, 'recognit': 3898, 'deaf': 3899, 'mankind': 3900, 'flee': 3901, 'sissi': 3902, 'map': 3903, 'bacal': 3904, 'damon': 3905, 'twilight': 3906, 'loyalti': 3907, 'onlin': 3908, 'lengthi': 3909, 'reign': 3910, 'likewis': 3911, 'bump': 3912, '1973': 3913, 'newli': 3914, 'cyborg': 3915, 'distinguish': 3916, 'wisdom': 3917, 'daisi': 3918, 'dreari': 3919, 'buffalo': 3920, 'blackmail': 3921, 'rude': 3922, 'labor': 3923, 'damm': 3924, 'biko': 3925, 'rooney': 3926, 'heel': 3927, 'bike': 3928, 'freez': 3929, 'ashley': 3930, 'antwon': 3931, 'drake': 3932, 'grayson': 3933, 'keith': 3934, 'unorigin': 3935, 'chronicl': 3936, 'exposur': 3937, 'analysi': 3938, 'approv': 3939, 'ridden': 3940, 'inher': 3941, 'baddi': 3942, 'worn': 3943, 'proce': 3944, 'boxer': 3945, 'incorpor': 3946, 'attribut': 3947, 'interior': 3948, 'emphas': 3949, 'startl': 3950, 'basketbal': 3951, 'butler': 3952, 'barrymor': 3953, 'pink': 3954, 'vein': 3955, 'nineti': 3956, 'prey': 3957, 'tunnel': 3958, 'provoc': 3959, 'sailor': 3960, 'meyer': 3961, 'hypnot': 3962, 'undeni': 3963, 'mighti': 3964, 'simmon': 3965, 'othello': 3966, 'degrad': 3967, 'stalker': 3968, 'indiffer': 3969, 'unrel': 3970, 'drift': 3971, 'belushi': 3972, 'underli': 3973, 'condemn': 3974, 'bunni': 3975, 'julian': 3976, 'millionair': 3977, 'nicol': 3978, 'substitut': 3979, 'robbin': 3980, 'meg': 3981, 'predat': 3982, 'elm': 3983, 'carla': 3984, 'er': 3985, 'mormon': 3986, 'fleet': 3987, 'walsh': 3988, 'improvis': 3989, 'barrel': 3990, 'alison': 3991, 'firm': 3992, 'vital': 3993, 'exquisit': 3994, 'alarm': 3995, 'warmth': 3996, 'marion': 3997, 'nyc': 3998, 'mtv': 3999, 'agenda': 4000, 'palac': 4001, 'hay': 4002, '3d': 4003, 'dolph': 4004, 'edgi': 4005, 'shove': 4006, 'disord': 4007, 'watson': 4008, 'roof': 4009, 'greed': 4010, 'novak': 4011, 'unawar': 4012, 'enthusiasm': 4013, 'lampoon': 4014, 'errol': 4015, 'reid': 4016, 'priceless': 4017, 'rukh': 4018, 'simultan': 4019, '13th': 4020, 'gestur': 4021, 'israel': 4022, 'testament': 4023, 'zizek': 4024, 'minimum': 4025, 'randomli': 4026, 'spain': 4027, 'nun': 4028, 'eastern': 4029, 'thompson': 4030, 'drip': 4031, 'distort': 4032, 'iraq': 4033, 'showdown': 4034, 'pamela': 4035, 'petti': 4036, 'beatl': 4037, 'what': 4038, 'crown': 4039, 'session': 4040, 'sergeant': 4041, 'unleash': 4042, 'orlean': 4043, 'cassidi': 4044, 'preserv': 4045, 'ponder': 4046, 'profit': 4047, 'peril': 4048, 'campaign': 4049, 'glanc': 4050, 'peck': 4051, 'angela': 4052, 'championship': 4053, '1933': 4054, 'coup': 4055, 'valentin': 4056, 'wig': 4057, 'stroke': 4058, 'gentleman': 4059, 'represent': 4060, 'jan': 4061, 'crawl': 4062, 'climat': 4063, 'shootout': 4064, 'restrain': 4065, 'reson': 4066, 'quinn': 4067, 'cream': 4068, 'kurosawa': 4069, 'valley': 4070, 'contradict': 4071, 'crow': 4072, '1984': 4073, 'rout': 4074, 'travesti': 4075, 'bro': 4076, 'unimagin': 4077, 'mon': 4078, 'miyazaki': 4079, 'sabrina': 4080, 'fido': 4081, 'scotland': 4082, 'brenda': 4083, 'han': 4084, 'stake': 4085, 'din': 4086, 'realm': 4087, 'calib': 4088, 'exposit': 4089, 'cooki': 4090, 'empathi': 4091, 'regist': 4092, 'buster': 4093, 'perpetu': 4094, 'compromis': 4095, 'painter': 4096, 'dana': 4097, 'traumat': 4098, 'sammi': 4099, 'stargat': 4100, '1997': 4101, 'distress': 4102, 'absent': 4103, 'shaki': 4104, 'soderbergh': 4105, 'mclaglen': 4106, 'greg': 4107, 'sucker': 4108, 'wax': 4109, '1987': 4110, 'femm': 4111, 'delic': 4112, 'ross': 4113, 'shoddi': 4114, 'censor': 4115, 'perceiv': 4116, 'cloud': 4117, 'monoton': 4118, 'pretens': 4119, 'geek': 4120, 'pole': 4121, 'meryl': 4122, 'unsatisfi': 4123, 'businessman': 4124, 'unseen': 4125, 'passabl': 4126, 'crawford': 4127, 'tacki': 4128, 'demis': 4129, 'abomin': 4130, 'darren': 4131, 'fuller': 4132, 'warrant': 4133, 'spacey': 4134, 'ustinov': 4135, 'derang': 4136, 'baldwin': 4137, 'josh': 4138, 'jewel': 4139, 'dee': 4140, 'verbal': 4141, 'nathan': 4142, 'exclus': 4143, 'judgment': 4144, 'kumar': 4145, 'tech': 4146, 'unravel': 4147, 'accuraci': 4148, 'expedit': 4149, 'seal': 4150, 'norm': 4151, 'clash': 4152, 'tarantino': 4153, '1993': 4154, 'sid': 4155, 'uncov': 4156, 'click': 4157, 'fenc': 4158, 'valid': 4159, 'wholli': 4160, 'polici': 4161, 'furiou': 4162, 'antonioni': 4163, 'austin': 4164, 'deceas': 4165, 'deniro': 4166, 'anchor': 4167, 'fog': 4168, 'reluct': 4169, 'primit': 4170, 'correctli': 4171, 'seldom': 4172, 'fabric': 4173, 'joel': 4174, 'temper': 4175, '1971': 4176, 'behold': 4177, '1995': 4178, 'murray': 4179, '3000': 4180, 'pocket': 4181, 'patienc': 4182, 'logan': 4183, 'darn': 4184, 'unfair': 4185, 'enforc': 4186, 'dreck': 4187, 'trait': 4188, 'hallucin': 4189, 'alec': 4190, 'debt': 4191, 'malon': 4192, 'sand': 4193, 'conduct': 4194, 'roller': 4195, 'fought': 4196, 'sustain': 4197, 'tax': 4198, 'vanc': 4199, 'bake': 4200, 'sunni': 4201, 'slam': 4202, 'clerk': 4203, 'fart': 4204, '2008': 4205, 'wang': 4206, 'nicola': 4207, 'sheet': 4208, 'crippl': 4209, 'wretch': 4210, 'shanghai': 4211, 'mode': 4212, 'ritual': 4213, 'divid': 4214, 'legaci': 4215, 'scriptwrit': 4216, 'penni': 4217, 'rita': 4218, 'bridget': 4219, 'soup': 4220, 'canyon': 4221, 'pete': 4222, 'stark': 4223, 'clau': 4224, 'grief': 4225, 'bias': 4226, 'guitar': 4227, 'outlin': 4228, 'helpless': 4229, 'fundament': 4230, 'runner': 4231, 'preston': 4232, 'preposter': 4233, 'conscious': 4234, 'stuart': 4235, 'phil': 4236, 'tactic': 4237, 'exhaust': 4238, 'critiqu': 4239, 'technicolor': 4240, 'isabel': 4241, 'sweep': 4242, 'shell': 4243, 'robber': 4244, 'schedul': 4245, 'despis': 4246, 'squad': 4247, 'gregori': 4248, 'delv': 4249, 'lacklust': 4250, 'jodi': 4251, 'consciou': 4252, 'jacket': 4253, 'rear': 4254, 'implic': 4255, 'connor': 4256, 'passag': 4257, 'marc': 4258, 'liberti': 4259, 'agenc': 4260, 'restrict': 4261, 'unexpectedli': 4262, 'culmin': 4263, 'propos': 4264, 'cigarett': 4265, 'invad': 4266, 'downey': 4267, 'bloom': 4268, 'inabl': 4269, 'alicia': 4270, 'sugar': 4271, 'flair': 4272, 'palanc': 4273, 'newman': 4274, 'russia': 4275, 'boyl': 4276, 'kansa': 4277, 'drove': 4278, 'sniper': 4279, 'alley': 4280, 'rehash': 4281, 'vomit': 4282, 'sentinel': 4283, 'rehears': 4284, 'lush': 4285, 'awhil': 4286, 'feat': 4287, 'karl': 4288, 'rampag': 4289, 'horn': 4290, 'cap': 4291, 'pale': 4292, 'tendenc': 4293, 'sharon': 4294, 'asylum': 4295, 'mccoy': 4296, 'tripe': 4297, 'delet': 4298, '22': 4299, 'foxx': 4300, 'wrench': 4301, 'aesthet': 4302, 'ladder': 4303, '1936': 4304, 'chainsaw': 4305, 'behaviour': 4306, 'rod': 4307, 'kolchak': 4308, 'improb': 4309, 'arrow': 4310, 'vet': 4311, 'bacon': 4312, 'yeti': 4313, 'wagner': 4314, 'tasteless': 4315, 'wildli': 4316, 'stream': 4317, 'el': 4318, 'prank': 4319, 'hungri': 4320, 'rhythm': 4321, 'amazon': 4322, 'loneli': 4323, 'visitor': 4324, 'tomorrow': 4325, '1988': 4326, 'rumor': 4327, 'aristocrat': 4328, 'weav': 4329, 'sung': 4330, 'suspicion': 4331, '1978': 4332, 'financ': 4333, '19th': 4334, 'lurk': 4335, 'elit': 4336, 'coaster': 4337, 'scoop': 4338, 'suffici': 4339, 'conscienc': 4340, '1920': 4341, 'filler': 4342, 'fright': 4343, 'minu': 4344, 'globe': 4345, 'basing': 4346, 'paradis': 4347, 'shortcom': 4348, 'underneath': 4349, 'hackney': 4350, 'spice': 4351, 'thunderbird': 4352, 'paramount': 4353, 'newcom': 4354, 'hulk': 4355, 'paxton': 4356, 'penn': 4357, 'dirt': 4358, 'iv': 4359, 'tierney': 4360, 'minist': 4361, 'counterpart': 4362, '1939': 4363, 'abrupt': 4364, 'naughti': 4365, 'curli': 4366, 'couch': 4367, 'worship': 4368, 'brit': 4369, 'inmat': 4370, 'entranc': 4371, 'rub': 4372, 'recogniz': 4373, 'heist': 4374, 'impos': 4375, 'standout': 4376, 'ram': 4377, 'cancer': 4378, 'quietli': 4379, 'en': 4380, 'choppi': 4381, 'smell': 4382, 'straightforward': 4383, 'teas': 4384, 'secondari': 4385, 'immers': 4386, 'hopkin': 4387, '1989': 4388, 'wwe': 4389, 'atroc': 4390, '75': 4391, 'chamberlain': 4392, 'chavez': 4393, 'springer': 4394, 'bread': 4395, 'literari': 4396, 'ingeni': 4397, 'leigh': 4398, 'beverli': 4399, 'posey': 4400, 'lectur': 4401, 'grudg': 4402, 'skeptic': 4403, 'transcend': 4404, 'sublim': 4405, 'yearn': 4406, 'cattl': 4407, 'net': 4408, 'watcher': 4409, 'quaid': 4410, 'ace': 4411, 'bernard': 4412, 'lindsay': 4413, 'policeman': 4414, 'entitl': 4415, 'enthral': 4416, 'morbid': 4417, 'misguid': 4418, 'nolan': 4419, 'duel': 4420, 'convert': 4421, 'ratso': 4422, 'variat': 4423, 'attenborough': 4424, '1986': 4425, 'sassi': 4426, 'nemesi': 4427, 'heartfelt': 4428, 'injuri': 4429, 'laurenc': 4430, 'clan': 4431, 'moreov': 4432, 'missil': 4433, 'geni': 4434, 'esther': 4435, 'buzz': 4436, '1979': 4437, 'dont': 4438, 'cruelti': 4439, 'out': 4440, 'poe': 4441, 'obstacl': 4442, 'bye': 4443, 'mytholog': 4444, 'steadi': 4445, 'characteris': 4446, 'grin': 4447, 'tyler': 4448, 'uncut': 4449, 'hopelessli': 4450, 'youngest': 4451, 'puppi': 4452, 'artsi': 4453, 'moder': 4454, 'egg': 4455, 'spiral': 4456, 'graini': 4457, 'carlito': 4458, 'hk': 4459, 'vader': 4460, 'brood': 4461, 'facil': 4462, 'bean': 4463, 'unexplain': 4464, 'setup': 4465, 'enabl': 4466, 'rosemari': 4467, 'kidman': 4468, 'diari': 4469, 'kitti': 4470, 'reliabl': 4471, 'gillian': 4472, 'disastr': 4473, 'heap': 4474, 'decept': 4475, 'athlet': 4476, 'weather': 4477, 'preming': 4478, 'acquaint': 4479, 'christin': 4480, 'brendan': 4481, 'sweat': 4482, 'effici': 4483, 'clueless': 4484, 'patricia': 4485, 'baffl': 4486, 'niec': 4487, '1969': 4488, 'despic': 4489, 'martha': 4490, 'spontan': 4491, 'underworld': 4492, 'hain': 4493, 'narrow': 4494, 'hammi': 4495, 'bronson': 4496, 'kline': 4497, 'oblig': 4498, 'gina': 4499, 'exterior': 4500, 'bounc': 4501, 'fuel': 4502, 'bewar': 4503, 'scar': 4504, 'rome': 4505, 'candl': 4506, 'goof': 4507, 'tick': 4508, '73': 4509, 'outlaw': 4510, 'suprem': 4511, 'injur': 4512, 'analyz': 4513, 'shatter': 4514, 'astound': 4515, 'biker': 4516, 'loi': 4517, 'virtu': 4518, 'loath': 4519, 'lester': 4520, 'sooner': 4521, 'insipid': 4522, 'hepburn': 4523, 'mayhem': 4524, 'preachi': 4525, 'trigger': 4526, 'viewpoint': 4527, 'angst': 4528, 'headach': 4529, 'mermaid': 4530, 'circu': 4531, 'harmless': 4532, 'housewif': 4533, '19': 4534, 'dilemma': 4535, 'taboo': 4536, 'dandi': 4537, 'sleepwalk': 4538, 'enlist': 4539, 'uh': 4540, 'renaiss': 4541, 'fontain': 4542, 'redund': 4543, 'glorifi': 4544, 'claustrophob': 4545, 'camcord': 4546, 'surgeri': 4547, 'salt': 4548, 'cassavet': 4549, 'dish': 4550, 'stair': 4551, 'whore': 4552, 'stimul': 4553, 'dismal': 4554, 'slimi': 4555, 'tripl': 4556, 'steer': 4557, 'oldest': 4558, 'guin': 4559, 'phenomenon': 4560, 'amor': 4561, 'filth': 4562, 'zoom': 4563, 'overlong': 4564, 'hokey': 4565, 'sox': 4566, 'macho': 4567, 'hostag': 4568, 'spade': 4569, 'intric': 4570, 'ebert': 4571, 'fluff': 4572, 'foolish': 4573, 'bent': 4574, 'boston': 4575, 'idol': 4576, 'immatur': 4577, 'gere': 4578, 'scorses': 4579, 'contempt': 4580, 'hooker': 4581, 'ariel': 4582, 'corbett': 4583, 'shield': 4584, 'remad': 4585, 'assert': 4586, 'strongest': 4587, 'transplant': 4588, 'keen': 4589, 'trivia': 4590, 'spree': 4591, 'corman': 4592, 'frantic': 4593, 'beard': 4594, 'conquer': 4595, 'cow': 4596, 'margin': 4597, 'cush': 4598, 'preced': 4599, 'proport': 4600, 'antagonist': 4601, 'shred': 4602, 'widescreen': 4603, 'rhyme': 4604, 'schlock': 4605, '1981': 4606, 'messi': 4607, '1976': 4608, 'muscl': 4609, 'down': 4610, 'harold': 4611, 'obligatori': 4612, 'mutual': 4613, 'fascist': 4614, 'faint': 4615, 'gasp': 4616, 'flashi': 4617, 'joker': 4618, 'gabl': 4619, 'flirt': 4620, 'cohen': 4621, 'alvin': 4622, 'flag': 4623, 'naschi': 4624, 'mount': 4625, 'astronaut': 4626, 'nolt': 4627, 'zane': 4628, 'dwarf': 4629, 'perman': 4630, 'radiat': 4631, 'spinal': 4632, 'boob': 4633, 'carey': 4634, 'claud': 4635, 'www': 4636, 'resum': 4637, 'raj': 4638, '28': 4639, 'divin': 4640, '95': 4641, 'barn': 4642, 'vaniti': 4643, 'archiv': 4644, 'neurot': 4645, 'bitten': 4646, 'triangl': 4647, 'mol': 4648, 'inflict': 4649, 'sensual': 4650, 'off': 4651, 'flock': 4652, 'scandal': 4653, 'aborigin': 4654, 'deer': 4655, 'hara': 4656, '1945': 4657, 'departur': 4658, 'mobil': 4659, 'wield': 4660, 'discern': 4661, 'fishburn': 4662, 'repris': 4663, 'info': 4664, 'interestingli': 4665, 'brush': 4666, 'danish': 4667, 'persuad': 4668, 'instruct': 4669, 'ritchi': 4670, 'bachelor': 4671, 'strive': 4672, 'someday': 4673, 'helm': 4674, 'hapless': 4675, 'submit': 4676, 'hilar': 4677, 'cycl': 4678, 'casino': 4679, 'banter': 4680, 'melissa': 4681, 'miracul': 4682, 'rot': 4683, 'mobster': 4684, 'frontier': 4685, 'jade': 4686, 'bate': 4687, 'undermin': 4688, 'clad': 4689, 'europa': 4690, 'cb': 4691, 'vibrant': 4692, 'senior': 4693, 'kathryn': 4694, 'parson': 4695, 'fragil': 4696, 'heartwarm': 4697, 'pacif': 4698, 'dame': 4699, 'traffic': 4700, 'hug': 4701, 'proclaim': 4702, 'recit': 4703, 'dim': 4704, 'biblic': 4705, 'dylan': 4706, 'axe': 4707, 'cliffhang': 4708, 'pixar': 4709, 'earnest': 4710, 'prophet': 4711, 'luka': 4712, 'colin': 4713, 'neill': 4714, 'carlo': 4715, 'anton': 4716, 'ish': 4717, 'loretta': 4718, 'cher': 4719, 'harrison': 4720, 'wendigo': 4721, 'artwork': 4722, 'timberlak': 4723, 'pickford': 4724, 'http': 4725, 'feast': 4726, 'seedi': 4727, 'winchest': 4728, 'articl': 4729, 'antholog': 4730, 'misfortun': 4731, 'isra': 4732, 'venom': 4733, 'holocaust': 4734, 'wardrob': 4735, 'nope': 4736, 'orphan': 4737, 'akin': 4738, 'northern': 4739, 'toronto': 4740, 'legitim': 4741, 'bikini': 4742, 'rooki': 4743, 'vile': 4744, 'aris': 4745, 'static': 4746, 'token': 4747, 'lui': 4748, 'bondag': 4749, 'mathieu': 4750, 'cerebr': 4751, 'foil': 4752, 'choke': 4753, 'electron': 4754, 'redneck': 4755, 'jo': 4756, 'sicken': 4757, 'lucil': 4758, 'jordan': 4759, 'shepherd': 4760, 'uma': 4761, 'marlon': 4762, 'breakfast': 4763, 'vanessa': 4764, 'eli': 4765, 'blatantli': 4766, 'estrang': 4767, 'mason': 4768, 'trier': 4769, 'milo': 4770, 'alexandr': 4771, 'razor': 4772, 'flavor': 4773, 'illus': 4774, 'pc': 4775, 'ideolog': 4776, 'ceremoni': 4777, 'feminin': 4778, 'cartoonish': 4779, 'psych': 4780, 'highway': 4781, 'styliz': 4782, 'nightclub': 4783, 'comprehend': 4784, 'charlton': 4785, 'linear': 4786, 'magician': 4787, 'swept': 4788, 'frog': 4789, 'leather': 4790, 'howl': 4791, 'shorter': 4792, 'smack': 4793, 'affleck': 4794, 'audrey': 4795, 'outdat': 4796, 'oppon': 4797, 'deem': 4798, 'retriev': 4799, 'turd': 4800, 'boyer': 4801, 'wrestler': 4802, 'disregard': 4803, 'gunga': 4804, 'dudley': 4805, 'gilbert': 4806, 'huston': 4807, 'glare': 4808, 'peer': 4809, 'abund': 4810, 'tack': 4811, 'knightley': 4812, 'clinic': 4813, 'fifth': 4814, 'plate': 4815, 'monument': 4816, 'lavish': 4817, '4th': 4818, 'moe': 4819, 'cemeteri': 4820, 'spine': 4821, 'uniformli': 4822, 'lighter': 4823, 'corn': 4824, 'conrad': 4825, 'btw': 4826, 'cuban': 4827, 'phenomen': 4828, 'energet': 4829, 'durat': 4830, 'chip': 4831, '1994': 4832, 'boo': 4833, 'bogu': 4834, 'client': 4835, 'compris': 4836, '1991': 4837, 'summar': 4838, 'sleaz': 4839, 'breakdown': 4840, 'snatch': 4841, 'newer': 4842, 'spawn': 4843, 'senat': 4844, 'bastard': 4845, 'greet': 4846, 'collector': 4847, 'goldsworthi': 4848, 'salman': 4849, 'mitch': 4850, 'einstein': 4851, 'whack': 4852, 'deliver': 4853, 'lifeless': 4854, 'potter': 4855, 'evolut': 4856, 'braveheart': 4857, 'toe': 4858, 'tara': 4859, 'outright': 4860, 'kazan': 4861, 'eleven': 4862, 'capot': 4863, '1977': 4864, 'historian': 4865, 'trauma': 4866, 'firmli': 4867, 'mcqueen': 4868, 'appl': 4869, 'belli': 4870, 'undertak': 4871, 'bori': 4872, 'spectacl': 4873, 'jam': 4874, 'armstrong': 4875, '1974': 4876, 'undead': 4877, 'replay': 4878, 'clara': 4879, 'embark': 4880, 'signal': 4881, 'liu': 4882, 'fluid': 4883, 'inaccuraci': 4884, 'randolph': 4885, 'ie': 4886, 'lex': 4887, 'ol': 4888, 'wtf': 4889, 'kent': 4890, 'luxuri': 4891, 'judd': 4892, 'occup': 4893, 'bulk': 4894, 'pronounc': 4895, 'healthi': 4896, 'constitut': 4897, 'alleg': 4898, 'evelyn': 4899, 'sorrow': 4900, 'neatli': 4901, 'gilliam': 4902, 'jedi': 4903, 'jare': 4904, 'creek': 4905, 'cecil': 4906, 'nina': 4907, 'jule': 4908, 'groan': 4909, 'sidewalk': 4910, 'cape': 4911, 'congratul': 4912, 'comprehens': 4913, 'truman': 4914, 'walt': 4915, 'id': 4916, 'comb': 4917, 'curtain': 4918, 'blur': 4919, 'fruit': 4920, 'kiddi': 4921, 'antonio': 4922, 'subtli': 4923, 'pepper': 4924, 'carmen': 4925, 'lanc': 4926, 'vain': 4927, 'knee': 4928, 'meal': 4929, 'forgiven': 4930, 'relentless': 4931, 'palm': 4932, 'vignett': 4933, 'mum': 4934, 'decapit': 4935, 'genet': 4936, 'pioneer': 4937, '1985': 4938, 'aussi': 4939, 'unattract': 4940, 'poker': 4941, 'ash': 4942, 'unsuspect': 4943, 'sacrif': 4944, 'inclus': 4945, 'bait': 4946, 'paula': 4947, 'abound': 4948, 'propheci': 4949, 'conan': 4950, 'rosario': 4951, 'tokyo': 4952, 'miami': 4953, 'spray': 4954, 'basket': 4955, 'galaxi': 4956, 'inaccur': 4957, 'miniseri': 4958, 'roar': 4959, 'goldblum': 4960, 'porter': 4961, 'lauren': 4962, 'bsg': 4963, 'weaker': 4964, 'sophi': 4965, 'modest': 4966, 'victorian': 4967, 'sparkl': 4968, 'reincarn': 4969, 'masterson': 4970, 'drone': 4971, 'hackman': 4972, 'macabr': 4973, 'omin': 4974, 'detach': 4975, 'growth': 4976, 'ingrid': 4977, 'vastli': 4978, 'substanti': 4979, 'handicap': 4980, 'dubiou': 4981, 'spill': 4982, 'monti': 4983, 'scarfac': 4984, 'ghetto': 4985, 'playboy': 4986, 'jill': 4987, 'optimist': 4988, 'frontal': 4989, 'bach': 4990, 'verg': 4991, 'assort': 4992, 'mice': 4993, 'hostil': 4994, 'profil': 4995, 'rapidli': 4996, 'bravo': 4997, 'incorrect': 4998, 'turtl': 4999}\n"
     ]
    }
   ],
   "source": [
    "word_dict = build_dict(train_X)\n",
    "print(word_dict)"
   ]
  },
  {
   "cell_type": "markdown",
   "metadata": {},
   "source": [
    "**Question:** What are the five most frequently appearing (tokenized) words in the training set? Does it makes sense that these words appear frequently in the training set?"
   ]
  },
  {
   "cell_type": "markdown",
   "metadata": {},
   "source": [
    "**Answer:** words are movi,film,one,like,time.Yes these are generally used words in movie reviews."
   ]
  },
  {
   "cell_type": "code",
   "execution_count": 43,
   "metadata": {},
   "outputs": [
    {
     "name": "stdout",
     "output_type": "stream",
     "text": [
      "movi\n",
      "film\n",
      "one\n",
      "like\n",
      "time\n"
     ]
    }
   ],
   "source": [
    "# TODO: Use this space to determine the five most frequently appearing words in the training set.\n",
    "count = 0\n",
    "for word, idx in word_dict.items():\n",
    "    print(word)\n",
    "    count += 1\n",
    "    if count == 5:\n",
    "        break;"
   ]
  },
  {
   "cell_type": "markdown",
   "metadata": {},
   "source": [
    "### Save `word_dict`\n",
    "\n",
    "Later on when we construct an endpoint which processes a submitted review we will need to make use of the `word_dict` which we have created. As such, we will save it to a file now for future use."
   ]
  },
  {
   "cell_type": "code",
   "execution_count": 44,
   "metadata": {},
   "outputs": [],
   "source": [
    "data_dir = '../data/pytorch' # The folder we will use for storing data\n",
    "if not os.path.exists(data_dir): # Make sure that the folder exists\n",
    "    os.makedirs(data_dir)"
   ]
  },
  {
   "cell_type": "code",
   "execution_count": 45,
   "metadata": {},
   "outputs": [],
   "source": [
    "with open(os.path.join(data_dir, 'word_dict.pkl'), \"wb\") as f:\n",
    "    pickle.dump(word_dict, f)"
   ]
  },
  {
   "cell_type": "markdown",
   "metadata": {},
   "source": [
    "### Transform the reviews\n",
    "\n",
    "Now that we have our word dictionary which allows us to transform the words appearing in the reviews into integers, it is time to make use of it and convert our reviews to their integer sequence representation, making sure to pad or truncate to a fixed length, which in our case is `500`."
   ]
  },
  {
   "cell_type": "code",
   "execution_count": 46,
   "metadata": {},
   "outputs": [],
   "source": [
    "def convert_and_pad(word_dict, sentence, pad=500):\n",
    "    NOWORD = 0 # We will use 0 to represent the 'no word' category\n",
    "    INFREQ = 1 # and we use 1 to represent the infrequent words, i.e., words not appearing in word_dict\n",
    "    \n",
    "    working_sentence = [NOWORD] * pad\n",
    "    \n",
    "    for word_index, word in enumerate(sentence[:pad]):\n",
    "        if word in word_dict:\n",
    "            working_sentence[word_index] = word_dict[word]\n",
    "        else:\n",
    "            working_sentence[word_index] = INFREQ\n",
    "            \n",
    "    return working_sentence, min(len(sentence), pad)\n",
    "\n",
    "def convert_and_pad_data(word_dict, data, pad=500):\n",
    "    result = []\n",
    "    lengths = []\n",
    "    \n",
    "    for sentence in data:\n",
    "        converted, leng = convert_and_pad(word_dict, sentence, pad)\n",
    "        result.append(converted)\n",
    "        lengths.append(leng)\n",
    "        \n",
    "    return np.array(result), np.array(lengths)"
   ]
  },
  {
   "cell_type": "code",
   "execution_count": 47,
   "metadata": {},
   "outputs": [],
   "source": [
    "train_X, train_X_len = convert_and_pad_data(word_dict, train_X)\n",
    "test_X, test_X_len = convert_and_pad_data(word_dict, test_X)"
   ]
  },
  {
   "cell_type": "markdown",
   "metadata": {},
   "source": [
    "As a quick check to make sure that things are working as intended, check to see what one of the reviews in the training set looks like after having been processeed. Does this look reasonable? What is the length of a review in the training set?"
   ]
  },
  {
   "cell_type": "code",
   "execution_count": 48,
   "metadata": {},
   "outputs": [
    {
     "name": "stdout",
     "output_type": "stream",
     "text": [
      "[ 413    1  105  362    4    1   32  361   10  155   23 3665   87   62\n",
      "   24  194  114   17  259   52 1212    2  545   26  116  155  126 1242\n",
      "   96    7 4436   17  503    5  879 1412  415   34 2025 3150  158  363\n",
      " 1476    5    1 3533  158 1074   65 3416  205 1942 3295  383    1  902\n",
      "    1    1 2196   92 2457  197  994 1444   42  100  175 3666  144    2\n",
      "   43  308  748   11   35  142   28    2  419  696  240   21 1198  105\n",
      "   28   48    1  240  711   83   76    0    0    0    0    0    0    0\n",
      "    0    0    0    0    0    0    0    0    0    0    0    0    0    0\n",
      "    0    0    0    0    0    0    0    0    0    0    0    0    0    0\n",
      "    0    0    0    0    0    0    0    0    0    0    0    0    0    0\n",
      "    0    0    0    0    0    0    0    0    0    0    0    0    0    0\n",
      "    0    0    0    0    0    0    0    0    0    0    0    0    0    0\n",
      "    0    0    0    0    0    0    0    0    0    0    0    0    0    0\n",
      "    0    0    0    0    0    0    0    0    0    0    0    0    0    0\n",
      "    0    0    0    0    0    0    0    0    0    0    0    0    0    0\n",
      "    0    0    0    0    0    0    0    0    0    0    0    0    0    0\n",
      "    0    0    0    0    0    0    0    0    0    0    0    0    0    0\n",
      "    0    0    0    0    0    0    0    0    0    0    0    0    0    0\n",
      "    0    0    0    0    0    0    0    0    0    0    0    0    0    0\n",
      "    0    0    0    0    0    0    0    0    0    0    0    0    0    0\n",
      "    0    0    0    0    0    0    0    0    0    0    0    0    0    0\n",
      "    0    0    0    0    0    0    0    0    0    0    0    0    0    0\n",
      "    0    0    0    0    0    0    0    0    0    0    0    0    0    0\n",
      "    0    0    0    0    0    0    0    0    0    0    0    0    0    0\n",
      "    0    0    0    0    0    0    0    0    0    0    0    0    0    0\n",
      "    0    0    0    0    0    0    0    0    0    0    0    0    0    0\n",
      "    0    0    0    0    0    0    0    0    0    0    0    0    0    0\n",
      "    0    0    0    0    0    0    0    0    0    0    0    0    0    0\n",
      "    0    0    0    0    0    0    0    0    0    0    0    0    0    0\n",
      "    0    0    0    0    0    0    0    0    0    0    0    0    0    0\n",
      "    0    0    0    0    0    0    0    0    0    0    0    0    0    0\n",
      "    0    0    0    0    0    0    0    0    0    0    0    0    0    0\n",
      "    0    0    0    0    0    0    0    0    0    0    0    0    0    0\n",
      "    0    0    0    0    0    0    0    0    0    0    0    0    0    0\n",
      "    0    0    0    0    0    0    0    0    0    0    0    0    0    0\n",
      "    0    0    0    0    0    0    0    0    0    0]\n"
     ]
    }
   ],
   "source": [
    "#Use this cell to examine one of the processed reviews to make sure everything is working as intended.\n",
    " \n",
    "print(train_X[0])"
   ]
  },
  {
   "cell_type": "markdown",
   "metadata": {},
   "source": [
    "**Question:** In the cells above we use the `preprocess_data` and `convert_and_pad_data` methods to process both the training and testing set. Why or why not might this be a problem?"
   ]
  },
  {
   "cell_type": "markdown",
   "metadata": {},
   "source": [
    "**Answer:** this can be a problem when we have more no words padded on review and it helps when we have too large review, we can work on most relevent words in it, i.e. can have same appropriate sized review."
   ]
  },
  {
   "cell_type": "markdown",
   "metadata": {},
   "source": [
    "## Step 3: Upload the data to S3\n",
    "\n",
    "As in the XGBoost notebook, we will need to upload the training dataset to S3 in order for our training code to access it. For now we will save it locally and we will upload to S3 later on.\n",
    "\n",
    "### Save the processed training dataset locally\n",
    "\n",
    "It is important to note the format of the data that we are saving as we will need to know it when we write the training code. In our case, each row of the dataset has the form `label`, `length`, `review[500]` where `review[500]` is a sequence of `500` integers representing the words in the review."
   ]
  },
  {
   "cell_type": "code",
   "execution_count": 49,
   "metadata": {},
   "outputs": [],
   "source": [
    "import pandas as pd\n",
    "    \n",
    "pd.concat([pd.DataFrame(train_y), pd.DataFrame(train_X_len), pd.DataFrame(train_X)], axis=1) \\\n",
    "        .to_csv(os.path.join(data_dir, 'train.csv'), header=False, index=False)"
   ]
  },
  {
   "cell_type": "markdown",
   "metadata": {},
   "source": [
    "### Uploading the training data\n",
    "\n",
    "\n",
    "Next, we need to upload the training data to the SageMaker default S3 bucket so that we can provide access to it while training our model."
   ]
  },
  {
   "cell_type": "code",
   "execution_count": 50,
   "metadata": {},
   "outputs": [],
   "source": [
    "import sagemaker\n",
    "\n",
    "sagemaker_session = sagemaker.Session()\n",
    "\n",
    "bucket = sagemaker_session.default_bucket()\n",
    "prefix = 'sagemaker/sentiment_rnn'\n",
    "\n",
    "role = sagemaker.get_execution_role()"
   ]
  },
  {
   "cell_type": "code",
   "execution_count": 51,
   "metadata": {},
   "outputs": [],
   "source": [
    "input_data = sagemaker_session.upload_data(path=data_dir, bucket=bucket, key_prefix=prefix)"
   ]
  },
  {
   "cell_type": "markdown",
   "metadata": {},
   "source": [
    "**NOTE:** The cell above uploads the entire contents of our data directory. This includes the `word_dict.pkl` file. This is fortunate as we will need this later on when we create an endpoint that accepts an arbitrary review. For now, we will just take note of the fact that it resides in the data directory (and so also in the S3 training bucket) and that we will need to make sure it gets saved in the model directory."
   ]
  },
  {
   "cell_type": "markdown",
   "metadata": {},
   "source": [
    "## Step 4: Build and Train the PyTorch Model\n",
    "\n",
    "In the XGBoost notebook we discussed what a model is in the SageMaker framework. In particular, a model comprises three objects\n",
    "\n",
    " - Model Artifacts,\n",
    " - Training Code, and\n",
    " - Inference Code,\n",
    " \n",
    "each of which interact with one another. In the XGBoost example we used training and inference code that was provided by Amazon. Here we will still be using containers provided by Amazon with the added benefit of being able to include our own custom code.\n",
    "\n",
    "We will start by implementing our own neural network in PyTorch along with a training script. For the purposes of this project we have provided the necessary model object in the `model.py` file, inside of the `train` folder. You can see the provided implementation by running the cell below."
   ]
  },
  {
   "cell_type": "code",
   "execution_count": 52,
   "metadata": {},
   "outputs": [
    {
     "name": "stdout",
     "output_type": "stream",
     "text": [
      "\u001b[34mimport\u001b[39;49;00m \u001b[04m\u001b[36mtorch.nn\u001b[39;49;00m \u001b[34mas\u001b[39;49;00m \u001b[04m\u001b[36mnn\u001b[39;49;00m\r\n",
      "\r\n",
      "\u001b[34mclass\u001b[39;49;00m \u001b[04m\u001b[32mLSTMClassifier\u001b[39;49;00m(nn.Module):\r\n",
      "    \u001b[33m\"\"\"\u001b[39;49;00m\r\n",
      "\u001b[33m    This is the simple RNN model we will be using to perform Sentiment Analysis.\u001b[39;49;00m\r\n",
      "\u001b[33m    \"\"\"\u001b[39;49;00m\r\n",
      "\r\n",
      "    \u001b[34mdef\u001b[39;49;00m \u001b[32m__init__\u001b[39;49;00m(\u001b[36mself\u001b[39;49;00m, embedding_dim, hidden_dim, vocab_size):\r\n",
      "        \u001b[33m\"\"\"\u001b[39;49;00m\r\n",
      "\u001b[33m        Initialize the model by settingg up the various layers.\u001b[39;49;00m\r\n",
      "\u001b[33m        \"\"\"\u001b[39;49;00m\r\n",
      "        \u001b[36msuper\u001b[39;49;00m(LSTMClassifier, \u001b[36mself\u001b[39;49;00m).\u001b[32m__init__\u001b[39;49;00m()\r\n",
      "\r\n",
      "        \u001b[36mself\u001b[39;49;00m.embedding = nn.Embedding(vocab_size, embedding_dim, padding_idx=\u001b[34m0\u001b[39;49;00m)\r\n",
      "        \u001b[36mself\u001b[39;49;00m.lstm = nn.LSTM(embedding_dim, hidden_dim)\r\n",
      "        \u001b[36mself\u001b[39;49;00m.dense = nn.Linear(in_features=hidden_dim, out_features=\u001b[34m1\u001b[39;49;00m)\r\n",
      "        \u001b[36mself\u001b[39;49;00m.sig = nn.Sigmoid()\r\n",
      "        \r\n",
      "        \u001b[36mself\u001b[39;49;00m.word_dict = \u001b[36mNone\u001b[39;49;00m\r\n",
      "\r\n",
      "    \u001b[34mdef\u001b[39;49;00m \u001b[32mforward\u001b[39;49;00m(\u001b[36mself\u001b[39;49;00m, x):\r\n",
      "        \u001b[33m\"\"\"\u001b[39;49;00m\r\n",
      "\u001b[33m        Perform a forward pass of our model on some input.\u001b[39;49;00m\r\n",
      "\u001b[33m        \"\"\"\u001b[39;49;00m\r\n",
      "        x = x.t()\r\n",
      "        lengths = x[\u001b[34m0\u001b[39;49;00m,:]\r\n",
      "        reviews = x[\u001b[34m1\u001b[39;49;00m:,:]\r\n",
      "        embeds = \u001b[36mself\u001b[39;49;00m.embedding(reviews)\r\n",
      "        lstm_out, _ = \u001b[36mself\u001b[39;49;00m.lstm(embeds)\r\n",
      "        out = \u001b[36mself\u001b[39;49;00m.dense(lstm_out)\r\n",
      "        out = out[lengths - \u001b[34m1\u001b[39;49;00m, \u001b[36mrange\u001b[39;49;00m(\u001b[36mlen\u001b[39;49;00m(lengths))]\r\n",
      "        \u001b[34mreturn\u001b[39;49;00m \u001b[36mself\u001b[39;49;00m.sig(out.squeeze())\r\n"
     ]
    }
   ],
   "source": [
    "!pygmentize train/model.py"
   ]
  },
  {
   "cell_type": "markdown",
   "metadata": {},
   "source": [
    "The important takeaway from the implementation provided is that there are three parameters that we may wish to tweak to improve the performance of our model. These are the embedding dimension, the hidden dimension and the size of the vocabulary. We will likely want to make these parameters configurable in the training script so that if we wish to modify them we do not need to modify the script itself. We will see how to do this later on. To start we will write some of the training code in the notebook so that we can more easily diagnose any issues that arise.\n",
    "\n",
    "First we will load a small portion of the training data set to use as a sample. It would be very time consuming to try and train the model completely in the notebook as we do not have access to a gpu and the compute instance that we are using is not particularly powerful. However, we can work on a small bit of the data to get a feel for how our training script is behaving."
   ]
  },
  {
   "cell_type": "code",
   "execution_count": 53,
   "metadata": {},
   "outputs": [],
   "source": [
    "import torch\n",
    "import torch.utils.data\n",
    "\n",
    "# Read in only the first 250 rows\n",
    "train_sample = pd.read_csv(os.path.join(data_dir, 'train.csv'), header=None, names=None, nrows=250)\n",
    "\n",
    "# Turn the input pandas dataframe into tensors\n",
    "train_sample_y = torch.from_numpy(train_sample[[0]].values).float().squeeze()\n",
    "train_sample_X = torch.from_numpy(train_sample.drop([0], axis=1).values).long()\n",
    "\n",
    "# Build the dataset\n",
    "train_sample_ds = torch.utils.data.TensorDataset(train_sample_X, train_sample_y)\n",
    "# Build the dataloader\n",
    "train_sample_dl = torch.utils.data.DataLoader(train_sample_ds, batch_size=50)"
   ]
  },
  {
   "cell_type": "markdown",
   "metadata": {},
   "source": [
    "### (TODO) Writing the training method\n",
    "\n",
    "Next we need to write the training code itself. This should be very similar to training methods that you have written before to train PyTorch models. We will leave any difficult aspects such as model saving / loading and parameter loading until a little later."
   ]
  },
  {
   "cell_type": "code",
   "execution_count": 54,
   "metadata": {},
   "outputs": [],
   "source": [
    "def train(model, train_loader, epochs, optimizer, loss_fn, device):\n",
    "    for epoch in range(1, epochs + 1):\n",
    "        model.train()\n",
    "        total_loss = 0\n",
    "        for batch in train_loader:         \n",
    "            batch_X, batch_y = batch\n",
    "            \n",
    "            batch_X = batch_X.to(device)\n",
    "            batch_y = batch_y.to(device)\n",
    "            \n",
    "            # TODO: Complete this train method to train the model provided.\n",
    "            optimizer.zero_grad()\n",
    "            out = model.forward(batch_X)\n",
    "            loss = loss_fn(out, batch_y)\n",
    "            loss.backward()\n",
    "            optimizer.step()\n",
    "            \n",
    "            total_loss += loss.data.item()\n",
    "        print(\"Epoch: {}, BCELoss: {}\".format(epoch, total_loss / len(train_loader)))"
   ]
  },
  {
   "cell_type": "markdown",
   "metadata": {},
   "source": [
    "Supposing we have the training method above, we will test that it is working by writing a bit of code in the notebook that executes our training method on the small sample training set that we loaded earlier. The reason for doing this in the notebook is so that we have an opportunity to fix any errors that arise early when they are easier to diagnose."
   ]
  },
  {
   "cell_type": "code",
   "execution_count": 55,
   "metadata": {
    "scrolled": true
   },
   "outputs": [
    {
     "name": "stdout",
     "output_type": "stream",
     "text": [
      "Epoch: 1, BCELoss: 0.6910613179206848\n",
      "Epoch: 2, BCELoss: 0.6808196425437927\n",
      "Epoch: 3, BCELoss: 0.671320641040802\n",
      "Epoch: 4, BCELoss: 0.6604121208190918\n",
      "Epoch: 5, BCELoss: 0.6467221736907959\n"
     ]
    }
   ],
   "source": [
    "import torch.optim as optim\n",
    "from train.model import LSTMClassifier\n",
    "\n",
    "device = torch.device(\"cuda\" if torch.cuda.is_available() else \"cpu\")\n",
    "model = LSTMClassifier(32, 100, 5000).to(device)\n",
    "optimizer = optim.Adam(model.parameters())\n",
    "loss_fn = torch.nn.BCELoss()\n",
    "\n",
    "train(model, train_sample_dl, 5, optimizer, loss_fn, device)"
   ]
  },
  {
   "cell_type": "markdown",
   "metadata": {},
   "source": [
    "In order to construct a PyTorch model using SageMaker we must provide SageMaker with a training script. We may optionally include a directory which will be copied to the container and from which our training code will be run. When the training container is executed it will check the uploaded directory (if there is one) for a `requirements.txt` file and install any required Python libraries, after which the training script will be run."
   ]
  },
  {
   "cell_type": "markdown",
   "metadata": {},
   "source": [
    "### (TODO) Training the model\n",
    "\n",
    "When a PyTorch model is constructed in SageMaker, an entry point must be specified. This is the Python file which will be executed when the model is trained. Inside of the `train` directory is a file called `train.py` which has been provided and which contains most of the necessary code to train our model. The only thing that is missing is the implementation of the `train()` method which you wrote earlier in this notebook.\n",
    "\n",
    "**TODO**: Copy the `train()` method written above and paste it into the `train/train.py` file where required.\n",
    "\n",
    "The way that SageMaker passes hyperparameters to the training script is by way of arguments. These arguments can then be parsed and used in the training script. To see how this is done take a look at the provided `train/train.py` file."
   ]
  },
  {
   "cell_type": "code",
   "execution_count": 56,
   "metadata": {},
   "outputs": [],
   "source": [
    "from sagemaker.pytorch import PyTorch\n",
    "\n",
    "estimator = PyTorch(entry_point=\"train.py\",\n",
    "                    source_dir=\"train\",\n",
    "                    role=role,\n",
    "                    framework_version='0.4.0',\n",
    "                    train_instance_count=1,\n",
    "                    train_instance_type='ml.p2.xlarge',\n",
    "                    hyperparameters={\n",
    "                        'epochs': 10,\n",
    "                        'hidden_dim': 200,\n",
    "                    })"
   ]
  },
  {
   "cell_type": "code",
   "execution_count": 57,
   "metadata": {},
   "outputs": [
    {
     "name": "stderr",
     "output_type": "stream",
     "text": [
      "INFO:sagemaker:Creating training-job with name: sagemaker-pytorch-2019-04-13-06-27-03-300\n"
     ]
    },
    {
     "name": "stdout",
     "output_type": "stream",
     "text": [
      "2019-04-13 06:27:05 Starting - Starting the training job...\n",
      "2019-04-13 06:27:11 Starting - Launching requested ML instances......\n",
      "2019-04-13 06:28:11 Starting - Preparing the instances for training.........\n",
      "2019-04-13 06:30:00 Downloading - Downloading input data\n",
      "2019-04-13 06:30:00 Training - Downloading the training image...\n",
      "2019-04-13 06:30:23 Training - Training image download completed. Training in progress.\n",
      "\u001b[31mbash: cannot set terminal process group (-1): Inappropriate ioctl for device\u001b[0m\n",
      "\u001b[31mbash: no job control in this shell\u001b[0m\n",
      "\u001b[31m2019-04-13 06:30:24,353 sagemaker-containers INFO     Imported framework sagemaker_pytorch_container.training\u001b[0m\n",
      "\u001b[31m2019-04-13 06:30:24,381 sagemaker_pytorch_container.training INFO     Block until all host DNS lookups succeed.\u001b[0m\n",
      "\u001b[31m2019-04-13 06:30:24,388 sagemaker_pytorch_container.training INFO     Invoking user training script.\u001b[0m\n",
      "\u001b[31m2019-04-13 06:30:24,851 sagemaker-containers INFO     Module train does not provide a setup.py. \u001b[0m\n",
      "\u001b[31mGenerating setup.py\u001b[0m\n",
      "\u001b[31m2019-04-13 06:30:24,851 sagemaker-containers INFO     Generating setup.cfg\u001b[0m\n",
      "\u001b[31m2019-04-13 06:30:24,852 sagemaker-containers INFO     Generating MANIFEST.in\u001b[0m\n",
      "\u001b[31m2019-04-13 06:30:24,852 sagemaker-containers INFO     Installing module with the following command:\u001b[0m\n",
      "\u001b[31m/usr/bin/python -m pip install -U . -r requirements.txt\u001b[0m\n",
      "\u001b[31mProcessing /opt/ml/code\u001b[0m\n",
      "\u001b[31mCollecting pandas (from -r requirements.txt (line 1))\n",
      "  Downloading https://files.pythonhosted.org/packages/74/24/0cdbf8907e1e3bc5a8da03345c23cbed7044330bb8f73bb12e711a640a00/pandas-0.24.2-cp35-cp35m-manylinux1_x86_64.whl (10.0MB)\u001b[0m\n",
      "\u001b[31mCollecting numpy (from -r requirements.txt (line 2))\n",
      "  Downloading https://files.pythonhosted.org/packages/e3/18/4f013c3c3051f4e0ffbaa4bf247050d6d5e527fe9cb1907f5975b172f23f/numpy-1.16.2-cp35-cp35m-manylinux1_x86_64.whl (17.2MB)\u001b[0m\n",
      "\u001b[31mCollecting nltk (from -r requirements.txt (line 3))\n",
      "  Downloading https://files.pythonhosted.org/packages/6f/ed/9c755d357d33bc1931e157f537721efb5b88d2c583fe593cc09603076cc3/nltk-3.4.zip (1.4MB)\u001b[0m\n",
      "\u001b[31mCollecting beautifulsoup4 (from -r requirements.txt (line 4))\n",
      "  Downloading https://files.pythonhosted.org/packages/1d/5d/3260694a59df0ec52f8b4883f5d23b130bc237602a1411fa670eae12351e/beautifulsoup4-4.7.1-py3-none-any.whl (94kB)\u001b[0m\n",
      "\u001b[31mCollecting html5lib (from -r requirements.txt (line 5))\n",
      "  Downloading https://files.pythonhosted.org/packages/a5/62/bbd2be0e7943ec8504b517e62bab011b4946e1258842bc159e5dfde15b96/html5lib-1.0.1-py2.py3-none-any.whl (117kB)\u001b[0m\n",
      "\u001b[31mRequirement already satisfied, skipping upgrade: python-dateutil>=2.5.0 in /usr/local/lib/python3.5/dist-packages (from pandas->-r requirements.txt (line 1)) (2.7.5)\u001b[0m\n",
      "\u001b[31mCollecting pytz>=2011k (from pandas->-r requirements.txt (line 1))\u001b[0m\n",
      "\u001b[31m  Downloading https://files.pythonhosted.org/packages/3d/73/fe30c2daaaa0713420d0382b16fbb761409f532c56bdcc514bf7b6262bb6/pytz-2019.1-py2.py3-none-any.whl (510kB)\u001b[0m\n",
      "\u001b[31mRequirement already satisfied, skipping upgrade: six in /usr/local/lib/python3.5/dist-packages (from nltk->-r requirements.txt (line 3)) (1.11.0)\u001b[0m\n",
      "\u001b[31mCollecting singledispatch (from nltk->-r requirements.txt (line 3))\n",
      "  Downloading https://files.pythonhosted.org/packages/c5/10/369f50bcd4621b263927b0a1519987a04383d4a98fb10438042ad410cf88/singledispatch-3.4.0.3-py2.py3-none-any.whl\u001b[0m\n",
      "\u001b[31mCollecting soupsieve>=1.2 (from beautifulsoup4->-r requirements.txt (line 4))\n",
      "  Downloading https://files.pythonhosted.org/packages/c9/f8/e54b1d771ed4fab66b3fa1c178e137a3c73d84fb6f64329bddf0da5a371c/soupsieve-1.9-py2.py3-none-any.whl\u001b[0m\n",
      "\u001b[31mCollecting webencodings (from html5lib->-r requirements.txt (line 5))\n",
      "  Downloading https://files.pythonhosted.org/packages/f4/24/2a3e3df732393fed8b3ebf2ec078f05546de641fe1b667ee316ec1dcf3b7/webencodings-0.5.1-py2.py3-none-any.whl\u001b[0m\n",
      "\u001b[31mBuilding wheels for collected packages: nltk, train\n",
      "  Running setup.py bdist_wheel for nltk: started\u001b[0m\n",
      "\u001b[31m  Running setup.py bdist_wheel for nltk: finished with status 'done'\n",
      "  Stored in directory: /root/.cache/pip/wheels/4b/c8/24/b2343664bcceb7147efeb21c0b23703a05b23fcfeaceaa2a1e\n",
      "  Running setup.py bdist_wheel for train: started\n",
      "  Running setup.py bdist_wheel for train: finished with status 'done'\n",
      "  Stored in directory: /tmp/pip-ephem-wheel-cache-ouhr66xs/wheels/35/24/16/37574d11bf9bde50616c67372a334f94fa8356bc7164af8ca3\u001b[0m\n",
      "\u001b[31mSuccessfully built nltk train\u001b[0m\n",
      "\u001b[31mInstalling collected packages: numpy, pytz, pandas, singledispatch, nltk, soupsieve, beautifulsoup4, webencodings, html5lib, train\n",
      "  Found existing installation: numpy 1.15.4\n",
      "    Uninstalling numpy-1.15.4:\u001b[0m\n",
      "\u001b[31m      Successfully uninstalled numpy-1.15.4\u001b[0m\n",
      "\u001b[31mSuccessfully installed beautifulsoup4-4.7.1 html5lib-1.0.1 nltk-3.4 numpy-1.16.2 pandas-0.24.2 pytz-2019.1 singledispatch-3.4.0.3 soupsieve-1.9 train-1.0.0 webencodings-0.5.1\u001b[0m\n",
      "\u001b[31mYou are using pip version 18.1, however version 19.0.3 is available.\u001b[0m\n",
      "\u001b[31mYou should consider upgrading via the 'pip install --upgrade pip' command.\u001b[0m\n",
      "\u001b[31m2019-04-13 06:30:36,821 sagemaker-containers INFO     Invoking user script\n",
      "\u001b[0m\n",
      "\u001b[31mTraining Env:\n",
      "\u001b[0m\n",
      "\u001b[31m{\n",
      "    \"user_entry_point\": \"train.py\",\n",
      "    \"framework_module\": \"sagemaker_pytorch_container.training:main\",\n",
      "    \"input_data_config\": {\n",
      "        \"training\": {\n",
      "            \"TrainingInputMode\": \"File\",\n",
      "            \"RecordWrapperType\": \"None\",\n",
      "            \"S3DistributionType\": \"FullyReplicated\"\n",
      "        }\n",
      "    },\n",
      "    \"num_gpus\": 1,\n",
      "    \"module_name\": \"train\",\n",
      "    \"hyperparameters\": {\n",
      "        \"hidden_dim\": 200,\n",
      "        \"epochs\": 10\n",
      "    },\n",
      "    \"output_intermediate_dir\": \"/opt/ml/output/intermediate\",\n",
      "    \"network_interface_name\": \"ethwe\",\n",
      "    \"job_name\": \"sagemaker-pytorch-2019-04-13-06-27-03-300\",\n",
      "    \"module_dir\": \"s3://sagemaker-ap-south-1-849709046586/sagemaker-pytorch-2019-04-13-06-27-03-300/source/sourcedir.tar.gz\",\n",
      "    \"input_config_dir\": \"/opt/ml/input/config\",\n",
      "    \"input_dir\": \"/opt/ml/input\",\n",
      "    \"hosts\": [\n",
      "        \"algo-1\"\n",
      "    ],\n",
      "    \"output_dir\": \"/opt/ml/output\",\n",
      "    \"current_host\": \"algo-1\",\n",
      "    \"additional_framework_parameters\": {},\n",
      "    \"num_cpus\": 4,\n",
      "    \"channel_input_dirs\": {\n",
      "        \"training\": \"/opt/ml/input/data/training\"\n",
      "    },\n",
      "    \"resource_config\": {\n",
      "        \"hosts\": [\n",
      "            \"algo-1\"\n",
      "        ],\n",
      "        \"network_interface_name\": \"ethwe\",\n",
      "        \"current_host\": \"algo-1\"\n",
      "    },\n",
      "    \"output_data_dir\": \"/opt/ml/output/data\",\n",
      "    \"model_dir\": \"/opt/ml/model\",\n",
      "    \"log_level\": 20\u001b[0m\n",
      "\u001b[31m}\n",
      "\u001b[0m\n",
      "\u001b[31mEnvironment variables:\n",
      "\u001b[0m\n",
      "\u001b[31mSM_HPS={\"epochs\":10,\"hidden_dim\":200}\u001b[0m\n",
      "\u001b[31mSM_MODEL_DIR=/opt/ml/model\u001b[0m\n",
      "\u001b[31mSM_NUM_CPUS=4\u001b[0m\n",
      "\u001b[31mSM_USER_ENTRY_POINT=train.py\u001b[0m\n",
      "\u001b[31mSM_NETWORK_INTERFACE_NAME=ethwe\u001b[0m\n",
      "\u001b[31mSM_CHANNELS=[\"training\"]\u001b[0m\n",
      "\u001b[31mSM_HP_HIDDEN_DIM=200\u001b[0m\n",
      "\u001b[31mSM_LOG_LEVEL=20\u001b[0m\n",
      "\u001b[31mSM_OUTPUT_DATA_DIR=/opt/ml/output/data\u001b[0m\n",
      "\u001b[31mSM_INPUT_DATA_CONFIG={\"training\":{\"RecordWrapperType\":\"None\",\"S3DistributionType\":\"FullyReplicated\",\"TrainingInputMode\":\"File\"}}\u001b[0m\n",
      "\u001b[31mSM_FRAMEWORK_PARAMS={}\u001b[0m\n",
      "\u001b[31mSM_MODULE_NAME=train\u001b[0m\n",
      "\u001b[31mSM_OUTPUT_DIR=/opt/ml/output\u001b[0m\n",
      "\u001b[31mSM_USER_ARGS=[\"--epochs\",\"10\",\"--hidden_dim\",\"200\"]\u001b[0m\n",
      "\u001b[31mSM_CHANNEL_TRAINING=/opt/ml/input/data/training\u001b[0m\n",
      "\u001b[31mSM_HP_EPOCHS=10\u001b[0m\n",
      "\u001b[31mSM_CURRENT_HOST=algo-1\u001b[0m\n",
      "\u001b[31mSM_OUTPUT_INTERMEDIATE_DIR=/opt/ml/output/intermediate\u001b[0m\n",
      "\u001b[31mSM_RESOURCE_CONFIG={\"current_host\":\"algo-1\",\"hosts\":[\"algo-1\"],\"network_interface_name\":\"ethwe\"}\u001b[0m\n",
      "\u001b[31mSM_INPUT_CONFIG_DIR=/opt/ml/input/config\u001b[0m\n",
      "\u001b[31mSM_MODULE_DIR=s3://sagemaker-ap-south-1-849709046586/sagemaker-pytorch-2019-04-13-06-27-03-300/source/sourcedir.tar.gz\u001b[0m\n",
      "\u001b[31mSM_HOSTS=[\"algo-1\"]\u001b[0m\n",
      "\u001b[31mSM_INPUT_DIR=/opt/ml/input\u001b[0m\n",
      "\u001b[31mSM_NUM_GPUS=1\u001b[0m\n",
      "\u001b[31mPYTHONPATH=/usr/local/bin:/usr/lib/python35.zip:/usr/lib/python3.5:/usr/lib/python3.5/plat-x86_64-linux-gnu:/usr/lib/python3.5/lib-dynload:/usr/local/lib/python3.5/dist-packages:/usr/lib/python3/dist-packages\u001b[0m\n",
      "\u001b[31mSM_TRAINING_ENV={\"additional_framework_parameters\":{},\"channel_input_dirs\":{\"training\":\"/opt/ml/input/data/training\"},\"current_host\":\"algo-1\",\"framework_module\":\"sagemaker_pytorch_container.training:main\",\"hosts\":[\"algo-1\"],\"hyperparameters\":{\"epochs\":10,\"hidden_dim\":200},\"input_config_dir\":\"/opt/ml/input/config\",\"input_data_config\":{\"training\":{\"RecordWrapperType\":\"None\",\"S3DistributionType\":\"FullyReplicated\",\"TrainingInputMode\":\"File\"}},\"input_dir\":\"/opt/ml/input\",\"job_name\":\"sagemaker-pytorch-2019-04-13-06-27-03-300\",\"log_level\":20,\"model_dir\":\"/opt/ml/model\",\"module_dir\":\"s3://sagemaker-ap-south-1-849709046586/sagemaker-pytorch-2019-04-13-06-27-03-300/source/sourcedir.tar.gz\",\"module_name\":\"train\",\"network_interface_name\":\"ethwe\",\"num_cpus\":4,\"num_gpus\":1,\"output_data_dir\":\"/opt/ml/output/data\",\"output_dir\":\"/opt/ml/output\",\"output_intermediate_dir\":\"/opt/ml/output/intermediate\",\"resource_config\":{\"current_host\":\"algo-1\",\"hosts\":[\"algo-1\"],\"network_interface_name\":\"ethwe\"},\"user_entry_point\":\"train.py\"}\u001b[0m\n",
      "\u001b[31mSM_FRAMEWORK_MODULE=sagemaker_pytorch_container.training:main\n",
      "\u001b[0m\n",
      "\u001b[31mInvoking script with the following command:\n",
      "\u001b[0m\n",
      "\u001b[31m/usr/bin/python -m train --epochs 10 --hidden_dim 200\n",
      "\n",
      "\u001b[0m\n",
      "\u001b[31mUsing device cuda.\u001b[0m\n",
      "\u001b[31mGet train data loader.\u001b[0m\n"
     ]
    },
    {
     "name": "stdout",
     "output_type": "stream",
     "text": [
      "\u001b[31mModel loaded with embedding_dim 32, hidden_dim 200, vocab_size 5000.\u001b[0m\n",
      "\u001b[31mEpoch: 10, BCELoss: 0.2847866157487947\u001b[0m\n",
      "\u001b[31m2019-04-13 06:33:36,763 sagemaker-containers INFO     Reporting training SUCCESS\u001b[0m\n",
      "\n",
      "2019-04-13 06:33:47 Uploading - Uploading generated training model\n",
      "2019-04-13 06:33:47 Completed - Training job completed\n",
      "Billable seconds: 236\n"
     ]
    }
   ],
   "source": [
    "estimator.fit({'training': input_data})"
   ]
  },
  {
   "cell_type": "markdown",
   "metadata": {},
   "source": [
    "## Step 5: Testing the model\n",
    "\n",
    "As mentioned at the top of this notebook, we will be testing this model by first deploying it and then sending the testing data to the deployed endpoint. We will do this so that we can make sure that the deployed model is working correctly.\n",
    "\n",
    "## Step 6: Deploy the model for testing\n",
    "\n",
    "Now that we have trained our model, we would like to test it to see how it performs. Currently our model takes input of the form `review_length, review[500]` where `review[500]` is a sequence of `500` integers which describe the words present in the review, encoded using `word_dict`. Fortunately for us, SageMaker provides built-in inference code for models with simple inputs such as this.\n",
    "\n",
    "There is one thing that we need to provide, however, and that is a function which loads the saved model. This function must be called `model_fn()` and takes as its only parameter a path to the directory where the model artifacts are stored. This function must also be present in the python file which we specified as the entry point. In our case the model loading function has been provided and so no changes need to be made.\n",
    "\n",
    "**NOTE**: When the built-in inference code is run it must import the `model_fn()` method from the `train.py` file. This is why the training code is wrapped in a main guard ( ie, `if __name__ == '__main__':` )\n",
    "\n",
    "Since we don't need to change anything in the code that was uploaded during training, we can simply deploy the current model as-is.\n",
    "\n",
    "**NOTE:** When deploying a model you are asking SageMaker to launch an compute instance that will wait for data to be sent to it. As a result, this compute instance will continue to run until *you* shut it down. This is important to know since the cost of a deployed endpoint depends on how long it has been running for.\n",
    "\n",
    "In other words **If you are no longer using a deployed endpoint, shut it down!**\n",
    "\n",
    "**TODO:** Deploy the trained model."
   ]
  },
  {
   "cell_type": "code",
   "execution_count": 58,
   "metadata": {},
   "outputs": [
    {
     "name": "stderr",
     "output_type": "stream",
     "text": [
      "INFO:sagemaker:Creating model with name: sagemaker-pytorch-2019-04-13-06-27-03-300\n",
      "INFO:sagemaker:Creating endpoint with name sagemaker-pytorch-2019-04-13-06-27-03-300\n"
     ]
    },
    {
     "name": "stdout",
     "output_type": "stream",
     "text": [
      "--------------------------------------------------------------------------!"
     ]
    }
   ],
   "source": [
    "# TODO: Deploy the trained model\n",
    "predictor = estimator.deploy(initial_instance_count=1, instance_type='ml.m4.xlarge')"
   ]
  },
  {
   "cell_type": "markdown",
   "metadata": {},
   "source": [
    "## Step 7 - Use the model for testing\n",
    "\n",
    "Once deployed, we can read in the test data and send it off to our deployed model to get some results. Once we collect all of the results we can determine how accurate our model is."
   ]
  },
  {
   "cell_type": "code",
   "execution_count": 59,
   "metadata": {},
   "outputs": [],
   "source": [
    "test_X = pd.concat([pd.DataFrame(test_X_len), pd.DataFrame(test_X)], axis=1)"
   ]
  },
  {
   "cell_type": "code",
   "execution_count": 60,
   "metadata": {},
   "outputs": [],
   "source": [
    "# We split the data into chunks and send each chunk seperately, accumulating the results.\n",
    "\n",
    "def predict(data, rows=512):\n",
    "    split_array = np.array_split(data, int(data.shape[0] / float(rows) + 1))\n",
    "    predictions = np.array([])\n",
    "    for array in split_array:\n",
    "        predictions = np.append(predictions, predictor.predict(array))\n",
    "    \n",
    "    return predictions"
   ]
  },
  {
   "cell_type": "code",
   "execution_count": 61,
   "metadata": {},
   "outputs": [],
   "source": [
    "predictions = predict(test_X.values)\n",
    "predictions = [round(num) for num in predictions]"
   ]
  },
  {
   "cell_type": "code",
   "execution_count": 62,
   "metadata": {},
   "outputs": [
    {
     "data": {
      "text/plain": [
       "0.8524"
      ]
     },
     "execution_count": 62,
     "metadata": {},
     "output_type": "execute_result"
    }
   ],
   "source": [
    "from sklearn.metrics import accuracy_score\n",
    "accuracy_score(test_y, predictions)"
   ]
  },
  {
   "cell_type": "markdown",
   "metadata": {},
   "source": [
    "**Question:** How does this model compare to the XGBoost model you created earlier? Why might these two models perform differently on this dataset? Which do *you* think is better for sentiment analysis?"
   ]
  },
  {
   "cell_type": "markdown",
   "metadata": {},
   "source": [
    "**Answer:** XGBoost is slightly better because it had more accuracy than this one but i guess by having a perfect RNN architecure for this task, we can achieve good accuracy with RNN too."
   ]
  },
  {
   "cell_type": "markdown",
   "metadata": {},
   "source": [
    "### (TODO) More testing\n",
    "\n",
    "We now have a trained model which has been deployed and which we can send processed reviews to and which returns the predicted sentiment. However, ultimately we would like to be able to send our model an unprocessed review. That is, we would like to send the review itself as a string. For example, suppose we wish to send the following review to our model."
   ]
  },
  {
   "cell_type": "code",
   "execution_count": 63,
   "metadata": {},
   "outputs": [],
   "source": [
    "test_review = 'The simplest pleasures in life are the best, and this film is one of them. Combining a rather basic storyline of love and adventure this movie transcends the usual weekend fair with wit and unmitigated charm.'"
   ]
  },
  {
   "cell_type": "markdown",
   "metadata": {},
   "source": [
    "The question we now need to answer is, how do we send this review to our model?\n",
    "\n",
    "Recall in the first section of this notebook we did a bunch of data processing to the IMDb dataset. In particular, we did two specific things to the provided reviews.\n",
    " - Removed any html tags and stemmed the input\n",
    " - Encoded the review as a sequence of integers using `word_dict`\n",
    " \n",
    "In order process the review we will need to repeat these two steps.\n",
    "\n",
    "**TODO**: Using the `review_to_words` and `convert_and_pad` methods from section one, convert `test_review` into a numpy array `test_data` suitable to send to our model. Remember that our model expects input of the form `review_length, review[500]`."
   ]
  },
  {
   "cell_type": "code",
   "execution_count": 64,
   "metadata": {},
   "outputs": [],
   "source": [
    "# TODO: Convert test_review into a form usable by the model and save the results in test_data\n",
    "test_data_review_to_words = review_to_words(test_review)\n",
    "test_data = [np.array(convert_and_pad(word_dict, test_data_review_to_words)[0])]\n"
   ]
  },
  {
   "cell_type": "markdown",
   "metadata": {},
   "source": [
    "Now that we have processed the review, we can send the resulting array to our model to predict the sentiment of the review."
   ]
  },
  {
   "cell_type": "code",
   "execution_count": 65,
   "metadata": {},
   "outputs": [
    {
     "data": {
      "text/plain": [
       "array(0.5938924, dtype=float32)"
      ]
     },
     "execution_count": 65,
     "metadata": {},
     "output_type": "execute_result"
    }
   ],
   "source": [
    "predictor.predict(test_data)"
   ]
  },
  {
   "cell_type": "markdown",
   "metadata": {},
   "source": [
    "Since the return value of our model is close to `1`, we can be certain that the review we submitted is positive."
   ]
  },
  {
   "cell_type": "markdown",
   "metadata": {},
   "source": [
    "### Delete the endpoint\n",
    "\n",
    "Of course, just like in the XGBoost notebook, once we've deployed an endpoint it continues to run until we tell it to shut down. Since we are done using our endpoint for now, we can delete it."
   ]
  },
  {
   "cell_type": "code",
   "execution_count": 66,
   "metadata": {},
   "outputs": [
    {
     "name": "stderr",
     "output_type": "stream",
     "text": [
      "INFO:sagemaker:Deleting endpoint with name: sagemaker-pytorch-2019-04-13-06-27-03-300\n"
     ]
    }
   ],
   "source": [
    "estimator.delete_endpoint()"
   ]
  },
  {
   "cell_type": "markdown",
   "metadata": {},
   "source": [
    "## Step 6 (again) - Deploy the model for the web app\n",
    "\n",
    "Now that we know that our model is working, it's time to create some custom inference code so that we can send the model a review which has not been processed and have it determine the sentiment of the review.\n",
    "\n",
    "As we saw above, by default the estimator which we created, when deployed, will use the entry script and directory which we provided when creating the model. However, since we now wish to accept a string as input and our model expects a processed review, we need to write some custom inference code.\n",
    "\n",
    "We will store the code that we write in the `serve` directory. Provided in this directory is the `model.py` file that we used to construct our model, a `utils.py` file which contains the `review_to_words` and `convert_and_pad` pre-processing functions which we used during the initial data processing, and `predict.py`, the file which will contain our custom inference code. Note also that `requirements.txt` is present which will tell SageMaker what Python libraries are required by our custom inference code.\n",
    "\n",
    "When deploying a PyTorch model in SageMaker, you are expected to provide four functions which the SageMaker inference container will use.\n",
    " - `model_fn`: This function is the same function that we used in the training script and it tells SageMaker how to load our model.\n",
    " - `input_fn`: This function receives the raw serialized input that has been sent to the model's endpoint and its job is to de-serialize and make the input available for the inference code.\n",
    " - `output_fn`: This function takes the output of the inference code and its job is to serialize this output and return it to the caller of the model's endpoint.\n",
    " - `predict_fn`: The heart of the inference script, this is where the actual prediction is done and is the function which you will need to complete.\n",
    "\n",
    "For the simple website that we are constructing during this project, the `input_fn` and `output_fn` methods are relatively straightforward. We only require being able to accept a string as input and we expect to return a single value as output. You might imagine though that in a more complex application the input or output may be image data or some other binary data which would require some effort to serialize.\n",
    "\n",
    "### (TODO) Writing inference code\n",
    "\n",
    "Before writing our custom inference code, we will begin by taking a look at the code which has been provided."
   ]
  },
  {
   "cell_type": "code",
   "execution_count": 80,
   "metadata": {},
   "outputs": [
    {
     "name": "stdout",
     "output_type": "stream",
     "text": [
      "\u001b[34mimport\u001b[39;49;00m \u001b[04m\u001b[36margparse\u001b[39;49;00m\r\n",
      "\u001b[34mimport\u001b[39;49;00m \u001b[04m\u001b[36mjson\u001b[39;49;00m\r\n",
      "\u001b[34mimport\u001b[39;49;00m \u001b[04m\u001b[36mos\u001b[39;49;00m\r\n",
      "\u001b[34mimport\u001b[39;49;00m \u001b[04m\u001b[36mpickle\u001b[39;49;00m\r\n",
      "\u001b[34mimport\u001b[39;49;00m \u001b[04m\u001b[36msys\u001b[39;49;00m\r\n",
      "\u001b[34mimport\u001b[39;49;00m \u001b[04m\u001b[36msagemaker_containers\u001b[39;49;00m\r\n",
      "\u001b[34mimport\u001b[39;49;00m \u001b[04m\u001b[36mpandas\u001b[39;49;00m \u001b[34mas\u001b[39;49;00m \u001b[04m\u001b[36mpd\u001b[39;49;00m\r\n",
      "\u001b[34mimport\u001b[39;49;00m \u001b[04m\u001b[36mnumpy\u001b[39;49;00m \u001b[34mas\u001b[39;49;00m \u001b[04m\u001b[36mnp\u001b[39;49;00m\r\n",
      "\u001b[34mimport\u001b[39;49;00m \u001b[04m\u001b[36mtorch\u001b[39;49;00m\r\n",
      "\u001b[34mimport\u001b[39;49;00m \u001b[04m\u001b[36mtorch.nn\u001b[39;49;00m \u001b[34mas\u001b[39;49;00m \u001b[04m\u001b[36mnn\u001b[39;49;00m\r\n",
      "\u001b[34mimport\u001b[39;49;00m \u001b[04m\u001b[36mtorch.optim\u001b[39;49;00m \u001b[34mas\u001b[39;49;00m \u001b[04m\u001b[36moptim\u001b[39;49;00m\r\n",
      "\u001b[34mimport\u001b[39;49;00m \u001b[04m\u001b[36mtorch.utils.data\u001b[39;49;00m\r\n",
      "\r\n",
      "\u001b[34mfrom\u001b[39;49;00m \u001b[04m\u001b[36mmodel\u001b[39;49;00m \u001b[34mimport\u001b[39;49;00m LSTMClassifier\r\n",
      "\r\n",
      "\u001b[34mfrom\u001b[39;49;00m \u001b[04m\u001b[36mutils\u001b[39;49;00m \u001b[34mimport\u001b[39;49;00m review_to_words, convert_and_pad\r\n",
      "\r\n",
      "\u001b[34mdef\u001b[39;49;00m \u001b[32mmodel_fn\u001b[39;49;00m(model_dir):\r\n",
      "    \u001b[33m\"\"\"Load the PyTorch model from the `model_dir` directory.\"\"\"\u001b[39;49;00m\r\n",
      "    \u001b[34mprint\u001b[39;49;00m(\u001b[33m\"\u001b[39;49;00m\u001b[33mLoading model.\u001b[39;49;00m\u001b[33m\"\u001b[39;49;00m)\r\n",
      "\r\n",
      "    \u001b[37m# First, load the parameters used to create the model.\u001b[39;49;00m\r\n",
      "    model_info = {}\r\n",
      "    model_info_path = os.path.join(model_dir, \u001b[33m'\u001b[39;49;00m\u001b[33mmodel_info.pth\u001b[39;49;00m\u001b[33m'\u001b[39;49;00m)\r\n",
      "    \u001b[34mwith\u001b[39;49;00m \u001b[36mopen\u001b[39;49;00m(model_info_path, \u001b[33m'\u001b[39;49;00m\u001b[33mrb\u001b[39;49;00m\u001b[33m'\u001b[39;49;00m) \u001b[34mas\u001b[39;49;00m f:\r\n",
      "        model_info = torch.load(f)\r\n",
      "\r\n",
      "    \u001b[34mprint\u001b[39;49;00m(\u001b[33m\"\u001b[39;49;00m\u001b[33mmodel_info: {}\u001b[39;49;00m\u001b[33m\"\u001b[39;49;00m.format(model_info))\r\n",
      "\r\n",
      "    \u001b[37m# Determine the device and construct the model.\u001b[39;49;00m\r\n",
      "    device = torch.device(\u001b[33m\"\u001b[39;49;00m\u001b[33mcuda\u001b[39;49;00m\u001b[33m\"\u001b[39;49;00m \u001b[34mif\u001b[39;49;00m torch.cuda.is_available() \u001b[34melse\u001b[39;49;00m \u001b[33m\"\u001b[39;49;00m\u001b[33mcpu\u001b[39;49;00m\u001b[33m\"\u001b[39;49;00m)\r\n",
      "    model = LSTMClassifier(model_info[\u001b[33m'\u001b[39;49;00m\u001b[33membedding_dim\u001b[39;49;00m\u001b[33m'\u001b[39;49;00m], model_info[\u001b[33m'\u001b[39;49;00m\u001b[33mhidden_dim\u001b[39;49;00m\u001b[33m'\u001b[39;49;00m], model_info[\u001b[33m'\u001b[39;49;00m\u001b[33mvocab_size\u001b[39;49;00m\u001b[33m'\u001b[39;49;00m])\r\n",
      "\r\n",
      "    \u001b[37m# Load the store model parameters.\u001b[39;49;00m\r\n",
      "    model_path = os.path.join(model_dir, \u001b[33m'\u001b[39;49;00m\u001b[33mmodel.pth\u001b[39;49;00m\u001b[33m'\u001b[39;49;00m)\r\n",
      "    \u001b[34mwith\u001b[39;49;00m \u001b[36mopen\u001b[39;49;00m(model_path, \u001b[33m'\u001b[39;49;00m\u001b[33mrb\u001b[39;49;00m\u001b[33m'\u001b[39;49;00m) \u001b[34mas\u001b[39;49;00m f:\r\n",
      "        model.load_state_dict(torch.load(f))\r\n",
      "\r\n",
      "    \u001b[37m# Load the saved word_dict.\u001b[39;49;00m\r\n",
      "    word_dict_path = os.path.join(model_dir, \u001b[33m'\u001b[39;49;00m\u001b[33mword_dict.pkl\u001b[39;49;00m\u001b[33m'\u001b[39;49;00m)\r\n",
      "    \u001b[34mwith\u001b[39;49;00m \u001b[36mopen\u001b[39;49;00m(word_dict_path, \u001b[33m'\u001b[39;49;00m\u001b[33mrb\u001b[39;49;00m\u001b[33m'\u001b[39;49;00m) \u001b[34mas\u001b[39;49;00m f:\r\n",
      "        model.word_dict = pickle.load(f)\r\n",
      "\r\n",
      "    model.to(device).eval()\r\n",
      "\r\n",
      "    \u001b[34mprint\u001b[39;49;00m(\u001b[33m\"\u001b[39;49;00m\u001b[33mDone loading model.\u001b[39;49;00m\u001b[33m\"\u001b[39;49;00m)\r\n",
      "    \u001b[34mreturn\u001b[39;49;00m model\r\n",
      "\r\n",
      "\u001b[34mdef\u001b[39;49;00m \u001b[32minput_fn\u001b[39;49;00m(serialized_input_data, content_type):\r\n",
      "    \u001b[34mprint\u001b[39;49;00m(\u001b[33m'\u001b[39;49;00m\u001b[33mDeserializing the input data.\u001b[39;49;00m\u001b[33m'\u001b[39;49;00m)\r\n",
      "    \u001b[34mif\u001b[39;49;00m content_type == \u001b[33m'\u001b[39;49;00m\u001b[33mtext/plain\u001b[39;49;00m\u001b[33m'\u001b[39;49;00m:\r\n",
      "        data = serialized_input_data.decode(\u001b[33m'\u001b[39;49;00m\u001b[33mutf-8\u001b[39;49;00m\u001b[33m'\u001b[39;49;00m)\r\n",
      "        \u001b[34mreturn\u001b[39;49;00m data\r\n",
      "    \u001b[34mraise\u001b[39;49;00m \u001b[36mException\u001b[39;49;00m(\u001b[33m'\u001b[39;49;00m\u001b[33mRequested unsupported ContentType in content_type: \u001b[39;49;00m\u001b[33m'\u001b[39;49;00m + content_type)\r\n",
      "\r\n",
      "\u001b[34mdef\u001b[39;49;00m \u001b[32moutput_fn\u001b[39;49;00m(prediction_output, accept):\r\n",
      "    \u001b[34mprint\u001b[39;49;00m(\u001b[33m'\u001b[39;49;00m\u001b[33mSerializing the generated output.\u001b[39;49;00m\u001b[33m'\u001b[39;49;00m)\r\n",
      "    \u001b[34mreturn\u001b[39;49;00m \u001b[36mstr\u001b[39;49;00m(prediction_output)\r\n",
      "\r\n",
      "\u001b[34mdef\u001b[39;49;00m \u001b[32mpredict_fn\u001b[39;49;00m(input_data, model):\r\n",
      "    \u001b[34mprint\u001b[39;49;00m(\u001b[33m'\u001b[39;49;00m\u001b[33mInferring sentiment of input data.\u001b[39;49;00m\u001b[33m'\u001b[39;49;00m)\r\n",
      "\r\n",
      "    device = torch.device(\u001b[33m\"\u001b[39;49;00m\u001b[33mcuda\u001b[39;49;00m\u001b[33m\"\u001b[39;49;00m \u001b[34mif\u001b[39;49;00m torch.cuda.is_available() \u001b[34melse\u001b[39;49;00m \u001b[33m\"\u001b[39;49;00m\u001b[33mcpu\u001b[39;49;00m\u001b[33m\"\u001b[39;49;00m)\r\n",
      "    \r\n",
      "    \u001b[34mif\u001b[39;49;00m model.word_dict \u001b[35mis\u001b[39;49;00m \u001b[36mNone\u001b[39;49;00m:\r\n",
      "        \u001b[34mraise\u001b[39;49;00m \u001b[36mException\u001b[39;49;00m(\u001b[33m'\u001b[39;49;00m\u001b[33mModel has not been loaded properly, no word_dict.\u001b[39;49;00m\u001b[33m'\u001b[39;49;00m)\r\n",
      "    \r\n",
      "    \u001b[37m# TODO: Process input_data so that it is ready to be sent to our model.\u001b[39;49;00m\r\n",
      "    \u001b[37m#       You should produce two variables:\u001b[39;49;00m\r\n",
      "    \u001b[37m#         data_X   - A sequence of length 500 which represents the converted review\u001b[39;49;00m\r\n",
      "    \u001b[37m#         data_len - The length of the review\u001b[39;49;00m\r\n",
      "\r\n",
      "    words = review_to_words(input_data)\r\n",
      "    data_X, data_len = convert_and_pad(model.word_dict, words)\r\n",
      "\r\n",
      "    \u001b[37m# Using data_X and data_len we construct an appropriate input tensor. Remember\u001b[39;49;00m\r\n",
      "    \u001b[37m# that our model expects input data of the form 'len, review[500]'.\u001b[39;49;00m\r\n",
      "    data_pack = np.hstack((data_len, data_X))\r\n",
      "    data_pack = data_pack.reshape(\u001b[34m1\u001b[39;49;00m, -\u001b[34m1\u001b[39;49;00m)\r\n",
      "    \r\n",
      "    data = torch.from_numpy(data_pack)\r\n",
      "    data = data.to(device)\r\n",
      "\r\n",
      "    \u001b[37m# Make sure to put the model into evaluation mode\u001b[39;49;00m\r\n",
      "    model.eval()\r\n",
      "\r\n",
      "    \u001b[37m# TODO: Compute the result of applying the model to the input data. The variable `result` should\u001b[39;49;00m\r\n",
      "    \u001b[37m#       be a numpy array which contains a single integer which is either 1 or 0\u001b[39;49;00m\r\n",
      "    \u001b[34mwith\u001b[39;49;00m torch.no_grad():\r\n",
      "        output = model.forward(data)\r\n",
      "\r\n",
      "    result = np.round(output.numpy())\r\n",
      "\r\n",
      "    \u001b[34mreturn\u001b[39;49;00m result\r\n"
     ]
    }
   ],
   "source": [
    "!pygmentize serve/predict.py"
   ]
  },
  {
   "cell_type": "markdown",
   "metadata": {},
   "source": [
    "As mentioned earlier, the `model_fn` method is the same as the one provided in the training code and the `input_fn` and `output_fn` methods are very simple and your task will be to complete the `predict_fn` method. Make sure that you save the completed file as `predict.py` in the `serve` directory.\n",
    "\n",
    "**TODO**: Complete the `predict_fn()` method in the `serve/predict.py` file."
   ]
  },
  {
   "cell_type": "markdown",
   "metadata": {},
   "source": [
    "### Deploying the model\n",
    "\n",
    "Now that the custom inference code has been written, we will create and deploy our model. To begin with, we need to construct a new PyTorchModel object which points to the model artifacts created during training and also points to the inference code that we wish to use. Then we can call the deploy method to launch the deployment container.\n",
    "\n",
    "**NOTE**: The default behaviour for a deployed PyTorch model is to assume that any input passed to the predictor is a `numpy` array. In our case we want to send a string so we need to construct a simple wrapper around the `RealTimePredictor` class to accomodate simple strings. In a more complicated situation you may want to provide a serialization object, for example if you wanted to sent image data."
   ]
  },
  {
   "cell_type": "code",
   "execution_count": 81,
   "metadata": {},
   "outputs": [
    {
     "name": "stderr",
     "output_type": "stream",
     "text": [
      "INFO:sagemaker:Creating model with name: sagemaker-pytorch-2019-04-13-07-51-00-744\n",
      "INFO:sagemaker:Creating endpoint with name sagemaker-pytorch-2019-04-13-07-51-00-744\n"
     ]
    },
    {
     "name": "stdout",
     "output_type": "stream",
     "text": [
      "--------------------------------------------------------------------------!"
     ]
    }
   ],
   "source": [
    "from sagemaker.predictor import RealTimePredictor\n",
    "from sagemaker.pytorch import PyTorchModel\n",
    "\n",
    "class StringPredictor(RealTimePredictor):\n",
    "    def __init__(self, endpoint_name, sagemaker_session):\n",
    "        super(StringPredictor, self).__init__(endpoint_name, sagemaker_session, content_type='text/plain')\n",
    "\n",
    "model = PyTorchModel(model_data=estimator.model_data,\n",
    "                     role = role,\n",
    "                     framework_version='0.4.0',\n",
    "                     entry_point='predict.py',\n",
    "                     source_dir='serve',\n",
    "                     predictor_cls=StringPredictor)\n",
    "predictor = model.deploy(initial_instance_count=1, instance_type='ml.m4.xlarge')"
   ]
  },
  {
   "cell_type": "markdown",
   "metadata": {},
   "source": [
    "### Testing the model\n",
    "\n",
    "Now that we have deployed our model with the custom inference code, we should test to see if everything is working. Here we test our model by loading the first `250` positive and negative reviews and send them to the endpoint, then collect the results. The reason for only sending some of the data is that the amount of time it takes for our model to process the input and then perform inference is quite long and so testing the entire data set would be prohibitive."
   ]
  },
  {
   "cell_type": "code",
   "execution_count": 82,
   "metadata": {},
   "outputs": [],
   "source": [
    "import glob\n",
    "\n",
    "def test_reviews(data_dir='../data/aclImdb', stop=250):\n",
    "    \n",
    "    results = []\n",
    "    ground = []\n",
    "    \n",
    "    # We make sure to test both positive and negative reviews    \n",
    "    for sentiment in ['pos', 'neg']:\n",
    "        \n",
    "        path = os.path.join(data_dir, 'test', sentiment, '*.txt')\n",
    "        files = glob.glob(path)\n",
    "        \n",
    "        files_read = 0\n",
    "        \n",
    "        print('Starting ', sentiment, ' files')\n",
    "        \n",
    "        # Iterate through the files and send them to the predictor\n",
    "        for f in files:\n",
    "            with open(f) as review:\n",
    "                # First, we store the ground truth (was the review positive or negative)\n",
    "                if sentiment == 'pos':\n",
    "                    ground.append(1)\n",
    "                else:\n",
    "                    ground.append(0)\n",
    "                # Read in the review and convert to 'utf-8' for transmission via HTTP\n",
    "                review_input = review.read().encode('utf-8')\n",
    "                # Send the review to the predictor and store the results\n",
    "                results.append(float(predictor.predict(review_input)))\n",
    "                \n",
    "            # Sending reviews to our endpoint one at a time takes a while so we\n",
    "            # only send a small number of reviews\n",
    "            files_read += 1\n",
    "            if files_read == stop:\n",
    "                break\n",
    "            \n",
    "    return ground, results\n"
   ]
  },
  {
   "cell_type": "code",
   "execution_count": 83,
   "metadata": {},
   "outputs": [
    {
     "name": "stdout",
     "output_type": "stream",
     "text": [
      "Starting  pos  files\n",
      "Starting  neg  files\n"
     ]
    }
   ],
   "source": [
    "ground, results = test_reviews()"
   ]
  },
  {
   "cell_type": "code",
   "execution_count": 84,
   "metadata": {},
   "outputs": [
    {
     "data": {
      "text/plain": [
       "0.866"
      ]
     },
     "execution_count": 84,
     "metadata": {},
     "output_type": "execute_result"
    }
   ],
   "source": [
    "from sklearn.metrics import accuracy_score\n",
    "accuracy_score(ground, results)"
   ]
  },
  {
   "cell_type": "markdown",
   "metadata": {},
   "source": [
    "As an additional test, we can try sending the `test_review` that we looked at earlier."
   ]
  },
  {
   "cell_type": "code",
   "execution_count": 85,
   "metadata": {},
   "outputs": [
    {
     "data": {
      "text/plain": [
       "b'1.0'"
      ]
     },
     "execution_count": 85,
     "metadata": {},
     "output_type": "execute_result"
    }
   ],
   "source": [
    "predictor.predict(test_review)"
   ]
  },
  {
   "cell_type": "markdown",
   "metadata": {},
   "source": [
    "Now that we know our endpoint is working as expected, we can set up the web page that will interact with it. If you don't have time to finish the project now, make sure to skip down to the end of this notebook and shut down your endpoint. You can deploy it again when you come back."
   ]
  },
  {
   "cell_type": "markdown",
   "metadata": {},
   "source": [
    "## Step 7 (again): Use the model for the web app\n",
    "\n",
    "> **TODO:** This entire section and the next contain tasks for you to complete, mostly using the AWS console.\n",
    "\n",
    "So far we have been accessing our model endpoint by constructing a predictor object which uses the endpoint and then just using the predictor object to perform inference. What if we wanted to create a web app which accessed our model? The way things are set up currently makes that not possible since in order to access a SageMaker endpoint the app would first have to authenticate with AWS using an IAM role which included access to SageMaker endpoints. However, there is an easier way! We just need to use some additional AWS services.\n",
    "\n",
    "<img src=\"Web App Diagram.svg\">\n",
    "\n",
    "The diagram above gives an overview of how the various services will work together. On the far right is the model which we trained above and which is deployed using SageMaker. On the far left is our web app that collects a user's movie review, sends it off and expects a positive or negative sentiment in return.\n",
    "\n",
    "In the middle is where some of the magic happens. We will construct a Lambda function, which you can think of as a straightforward Python function that can be executed whenever a specified event occurs. We will give this function permission to send and recieve data from a SageMaker endpoint.\n",
    "\n",
    "Lastly, the method we will use to execute the Lambda function is a new endpoint that we will create using API Gateway. This endpoint will be a url that listens for data to be sent to it. Once it gets some data it will pass that data on to the Lambda function and then return whatever the Lambda function returns. Essentially it will act as an interface that lets our web app communicate with the Lambda function.\n",
    "\n",
    "### Setting up a Lambda function\n",
    "\n",
    "The first thing we are going to do is set up a Lambda function. This Lambda function will be executed whenever our public API has data sent to it. When it is executed it will receive the data, perform any sort of processing that is required, send the data (the review) to the SageMaker endpoint we've created and then return the result.\n",
    "\n",
    "#### Part A: Create an IAM Role for the Lambda function\n",
    "\n",
    "Since we want the Lambda function to call a SageMaker endpoint, we need to make sure that it has permission to do so. To do this, we will construct a role that we can later give the Lambda function.\n",
    "\n",
    "Using the AWS Console, navigate to the **IAM** page and click on **Roles**. Then, click on **Create role**. Make sure that the **AWS service** is the type of trusted entity selected and choose **Lambda** as the service that will use this role, then click **Next: Permissions**.\n",
    "\n",
    "In the search box type `sagemaker` and select the check box next to the **AmazonSageMakerFullAccess** policy. Then, click on **Next: Review**.\n",
    "\n",
    "Lastly, give this role a name. Make sure you use a name that you will remember later on, for example `LambdaSageMakerRole`. Then, click on **Create role**.\n",
    "\n",
    "#### Part B: Create a Lambda function\n",
    "\n",
    "Now it is time to actually create the Lambda function.\n",
    "\n",
    "Using the AWS Console, navigate to the AWS Lambda page and click on **Create a function**. When you get to the next page, make sure that **Author from scratch** is selected. Now, name your Lambda function, using a name that you will remember later on, for example `sentiment_analysis_func`. Make sure that the **Python 3.6** runtime is selected and then choose the role that you created in the previous part. Then, click on **Create Function**.\n",
    "\n",
    "On the next page you will see some information about the Lambda function you've just created. If you scroll down you should see an editor in which you can write the code that will be executed when your Lambda function is triggered. In our example, we will use the code below. \n",
    "\n",
    "```python\n",
    "# We need to use the low-level library to interact with SageMaker since the SageMaker API\n",
    "# is not available natively through Lambda.\n",
    "import boto3\n",
    "\n",
    "def lambda_handler(event, context):\n",
    "\n",
    "    # The SageMaker runtime is what allows us to invoke the endpoint that we've created.\n",
    "    runtime = boto3.Session().client('sagemaker-runtime')\n",
    "\n",
    "    # Now we use the SageMaker runtime to invoke our endpoint, sending the review we were given\n",
    "    response = runtime.invoke_endpoint(EndpointName = '**ENDPOINT NAME HERE**',    # The name of the endpoint we created\n",
    "                                       ContentType = 'text/plain',                 # The data format that is expected\n",
    "                                       Body = event['body'])                       # The actual review\n",
    "\n",
    "    # The response is an HTTP response whose body contains the result of our inference\n",
    "    result = response['Body'].read().decode('utf-8')\n",
    "\n",
    "    return {\n",
    "        'statusCode' : 200,\n",
    "        'headers' : { 'Content-Type' : 'text/plain', 'Access-Control-Allow-Origin' : '*' },\n",
    "        'body' : result\n",
    "    }\n",
    "```\n",
    "\n",
    "Once you have copy and pasted the code above into the Lambda code editor, replace the `**ENDPOINT NAME HERE**` portion with the name of the endpoint that we deployed earlier. You can determine the name of the endpoint using the code cell below."
   ]
  },
  {
   "cell_type": "code",
   "execution_count": 86,
   "metadata": {},
   "outputs": [
    {
     "data": {
      "text/plain": [
       "'sagemaker-pytorch-2019-04-13-07-51-00-744'"
      ]
     },
     "execution_count": 86,
     "metadata": {},
     "output_type": "execute_result"
    }
   ],
   "source": [
    "predictor.endpoint"
   ]
  },
  {
   "cell_type": "markdown",
   "metadata": {},
   "source": [
    "Once you have added the endpoint name to the Lambda function, click on **Save**. Your Lambda function is now up and running. Next we need to create a way for our web app to execute the Lambda function.\n",
    "\n",
    "### Setting up API Gateway\n",
    "\n",
    "Now that our Lambda function is set up, it is time to create a new API using API Gateway that will trigger the Lambda function we have just created.\n",
    "\n",
    "Using AWS Console, navigate to **Amazon API Gateway** and then click on **Get started**.\n",
    "\n",
    "On the next page, make sure that **New API** is selected and give the new api a name, for example, `sentiment_analysis_api`. Then, click on **Create API**.\n",
    "\n",
    "Now we have created an API, however it doesn't currently do anything. What we want it to do is to trigger the Lambda function that we created earlier.\n",
    "\n",
    "Select the **Actions** dropdown menu and click **Create Method**. A new blank method will be created, select its dropdown menu and select **POST**, then click on the check mark beside it.\n",
    "\n",
    "For the integration point, make sure that **Lambda Function** is selected and click on the **Use Lambda Proxy integration**. This option makes sure that the data that is sent to the API is then sent directly to the Lambda function with no processing. It also means that the return value must be a proper response object as it will also not be processed by API Gateway.\n",
    "\n",
    "Type the name of the Lambda function you created earlier into the **Lambda Function** text entry box and then click on **Save**. Click on **OK** in the pop-up box that then appears, giving permission to API Gateway to invoke the Lambda function you created.\n",
    "\n",
    "The last step in creating the API Gateway is to select the **Actions** dropdown and click on **Deploy API**. You will need to create a new Deployment stage and name it anything you like, for example `prod`.\n",
    "\n",
    "You have now successfully set up a public API to access your SageMaker model. Make sure to copy or write down the URL provided to invoke your newly created public API as this will be needed in the next step. This URL can be found at the top of the page, highlighted in blue next to the text **Invoke URL**."
   ]
  },
  {
   "cell_type": "markdown",
   "metadata": {},
   "source": [
    "## Step 4: Deploying our web app\n",
    "\n",
    "Now that we have a publicly available API, we can start using it in a web app. For our purposes, we have provided a simple static html file which can make use of the public api you created earlier.\n",
    "\n",
    "In the `website` folder there should be a file called `index.html`. Download the file to your computer and open that file up in a text editor of your choice. There should be a line which contains **\\*\\*REPLACE WITH PUBLIC API URL\\*\\***. Replace this string with the url that you wrote down in the last step and then save the file.\n",
    "\n",
    "Now, if you open `index.html` on your local computer, your browser will behave as a local web server and you can use the provided site to interact with your SageMaker model.\n",
    "\n",
    "If you'd like to go further, you can host this html file anywhere you'd like, for example using github or hosting a static site on Amazon's S3. Once you have done this you can share the link with anyone you'd like and have them play with it too!\n",
    "\n",
    "> **Important Note** In order for the web app to communicate with the SageMaker endpoint, the endpoint has to actually be deployed and running. This means that you are paying for it. Make sure that the endpoint is running when you want to use the web app but that you shut it down when you don't need it, otherwise you will end up with a surprisingly large AWS bill.\n",
    "\n",
    "**TODO:** Make sure that you include the edited `index.html` file in your project submission."
   ]
  },
  {
   "cell_type": "markdown",
   "metadata": {},
   "source": [
    "Now that your web app is working, trying playing around with it and see how well it works.\n",
    "\n",
    "**Question**: Give an example of a review that you entered into your web app. What was the predicted sentiment of your example review?"
   ]
  },
  {
   "cell_type": "markdown",
   "metadata": {},
   "source": [
    "**Answer:**"
   ]
  },
  {
   "cell_type": "markdown",
   "metadata": {},
   "source": [
    "### Delete the endpoint\n",
    "\n",
    "Remember to always shut down your endpoint if you are no longer using it. You are charged for the length of time that the endpoint is running so if you forget and leave it on you could end up with an unexpectedly large bill."
   ]
  },
  {
   "cell_type": "code",
   "execution_count": null,
   "metadata": {},
   "outputs": [],
   "source": [
    "predictor.delete_endpoint()"
   ]
  },
  {
   "cell_type": "code",
   "execution_count": null,
   "metadata": {},
   "outputs": [],
   "source": []
  }
 ],
 "metadata": {
  "kernelspec": {
   "display_name": "conda_pytorch_p36",
   "language": "python",
   "name": "conda_pytorch_p36"
  },
  "language_info": {
   "codemirror_mode": {
    "name": "ipython",
    "version": 3
   },
   "file_extension": ".py",
   "mimetype": "text/x-python",
   "name": "python",
   "nbconvert_exporter": "python",
   "pygments_lexer": "ipython3",
   "version": "3.6.5"
  }
 },
 "nbformat": 4,
 "nbformat_minor": 2
}
